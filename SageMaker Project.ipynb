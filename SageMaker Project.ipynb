{
 "cells": [
  {
   "cell_type": "markdown",
   "metadata": {},
   "source": [
    "# Creating a Sentiment Analysis Web App\n",
    "## Using PyTorch and SageMaker\n",
    "\n",
    "_Deep Learning Nanodegree Program | Deployment_\n",
    "\n",
    "---\n",
    "\n",
    "Now that we have a basic understanding of how SageMaker works we will try to use it to construct a complete project from end to end. Our goal will be to have a simple web page which a user can use to enter a movie review. The web page will then send the review off to our deployed model which will predict the sentiment of the entered review.\n",
    "\n",
    "## Instructions\n",
    "\n",
    "Some template code has already been provided for you, and you will need to implement additional functionality to successfully complete this notebook. You will not need to modify the included code beyond what is requested. Sections that begin with '**TODO**' in the header indicate that you need to complete or implement some portion within them. Instructions will be provided for each section and the specifics of the implementation are marked in the code block with a `# TODO: ...` comment. Please be sure to read the instructions carefully!\n",
    "\n",
    "In addition to implementing code, there will be questions for you to answer which relate to the task and your implementation. Each section where you will answer a question is preceded by a '**Question:**' header. Carefully read each question and provide your answer below the '**Answer:**' header by editing the Markdown cell.\n",
    "\n",
    "> **Note**: Code and Markdown cells can be executed using the **Shift+Enter** keyboard shortcut. In addition, a cell can be edited by typically clicking it (double-click for Markdown cells) or by pressing **Enter** while it is highlighted.\n",
    "\n",
    "## General Outline\n",
    "\n",
    "Recall the general outline for SageMaker projects using a notebook instance.\n",
    "\n",
    "1. Download or otherwise retrieve the data.\n",
    "2. Process / Prepare the data.\n",
    "3. Upload the processed data to S3.\n",
    "4. Train a chosen model.\n",
    "5. Test the trained model (typically using a batch transform job).\n",
    "6. Deploy the trained model.\n",
    "7. Use the deployed model.\n",
    "\n",
    "For this project, you will be following the steps in the general outline with some modifications. \n",
    "\n",
    "First, you will not be testing the model in its own step. You will still be testing the model, however, you will do it by deploying your model and then using the deployed model by sending the test data to it. One of the reasons for doing this is so that you can make sure that your deployed model is working correctly before moving forward.\n",
    "\n",
    "In addition, you will deploy and use your trained model a second time. In the second iteration you will customize the way that your trained model is deployed by including some of your own code. In addition, your newly deployed model will be used in the sentiment analysis web app."
   ]
  },
  {
   "cell_type": "markdown",
   "metadata": {},
   "source": [
    "## Step 1: Downloading the data\n",
    "\n",
    "As in the XGBoost in SageMaker notebook, we will be using the [IMDb dataset](http://ai.stanford.edu/~amaas/data/sentiment/)\n",
    "\n",
    "> Maas, Andrew L., et al. [Learning Word Vectors for Sentiment Analysis](http://ai.stanford.edu/~amaas/data/sentiment/). In _Proceedings of the 49th Annual Meeting of the Association for Computational Linguistics: Human Language Technologies_. Association for Computational Linguistics, 2011."
   ]
  },
  {
   "cell_type": "code",
   "execution_count": 1,
   "metadata": {},
   "outputs": [
    {
     "name": "stdout",
     "output_type": "stream",
     "text": [
      "mkdir: cannot create directory ‘../data’: File exists\n",
      "--2020-12-01 14:30:27--  http://ai.stanford.edu/~amaas/data/sentiment/aclImdb_v1.tar.gz\n",
      "Resolving ai.stanford.edu (ai.stanford.edu)... 171.64.68.10\n",
      "Connecting to ai.stanford.edu (ai.stanford.edu)|171.64.68.10|:80... connected.\n",
      "HTTP request sent, awaiting response... 200 OK\n",
      "Length: 84125825 (80M) [application/x-gzip]\n",
      "Saving to: ‘../data/aclImdb_v1.tar.gz’\n",
      "\n",
      "../data/aclImdb_v1. 100%[===================>]  80.23M  8.77MB/s    in 13s     \n",
      "\n",
      "2020-12-01 14:30:41 (5.98 MB/s) - ‘../data/aclImdb_v1.tar.gz’ saved [84125825/84125825]\n",
      "\n"
     ]
    }
   ],
   "source": [
    "%mkdir ../data\n",
    "!wget -O ../data/aclImdb_v1.tar.gz http://ai.stanford.edu/~amaas/data/sentiment/aclImdb_v1.tar.gz\n",
    "!tar -zxf ../data/aclImdb_v1.tar.gz -C ../data"
   ]
  },
  {
   "cell_type": "markdown",
   "metadata": {},
   "source": [
    "## Step 2: Preparing and Processing the data\n",
    "\n",
    "Also, as in the XGBoost notebook, we will be doing some initial data processing. The first few steps are the same as in the XGBoost example. To begin with, we will read in each of the reviews and combine them into a single input structure. Then, we will split the dataset into a training set and a testing set."
   ]
  },
  {
   "cell_type": "code",
   "execution_count": 12,
   "metadata": {},
   "outputs": [],
   "source": [
    "import os\n",
    "import glob\n",
    "\n",
    "def read_imdb_data(data_dir='../data/aclImdb'):\n",
    "    data = {}\n",
    "    labels = {}\n",
    "    \n",
    "    for data_type in ['train', 'test']:\n",
    "        data[data_type] = {}\n",
    "        labels[data_type] = {}\n",
    "        \n",
    "        for sentiment in ['pos', 'neg']:\n",
    "            data[data_type][sentiment] = []\n",
    "            labels[data_type][sentiment] = []\n",
    "            \n",
    "            path = os.path.join(data_dir, data_type, sentiment, '*.txt')\n",
    "            files = glob.glob(path)\n",
    "            \n",
    "            for f in files:\n",
    "                with open(f) as review:\n",
    "                    data[data_type][sentiment].append(review.read())\n",
    "                    # Here we represent a positive review by '1' and a negative review by '0'\n",
    "                    labels[data_type][sentiment].append(1 if sentiment == 'pos' else 0)\n",
    "                    \n",
    "            assert len(data[data_type][sentiment]) == len(labels[data_type][sentiment]), \\\n",
    "                    \"{}/{} data size does not match labels size\".format(data_type, sentiment)\n",
    "                \n",
    "    return data, labels"
   ]
  },
  {
   "cell_type": "code",
   "execution_count": 3,
   "metadata": {},
   "outputs": [
    {
     "name": "stdout",
     "output_type": "stream",
     "text": [
      "IMDB reviews: train = 12500 pos / 12500 neg, test = 12500 pos / 12500 neg\n"
     ]
    }
   ],
   "source": [
    "data, labels = read_imdb_data()\n",
    "print(\"IMDB reviews: train = {} pos / {} neg, test = {} pos / {} neg\".format(\n",
    "            len(data['train']['pos']), len(data['train']['neg']),\n",
    "            len(data['test']['pos']), len(data['test']['neg'])))"
   ]
  },
  {
   "cell_type": "markdown",
   "metadata": {},
   "source": [
    "Now that we've read the raw training and testing data from the downloaded dataset, we will combine the positive and negative reviews and shuffle the resulting records."
   ]
  },
  {
   "cell_type": "code",
   "execution_count": 4,
   "metadata": {},
   "outputs": [],
   "source": [
    "from sklearn.utils import shuffle\n",
    "\n",
    "def prepare_imdb_data(data, labels):\n",
    "    \"\"\"Prepare training and test sets from IMDb movie reviews.\"\"\"\n",
    "    \n",
    "    #Combine positive and negative reviews and labels\n",
    "    data_train = data['train']['pos'] + data['train']['neg']\n",
    "    data_test = data['test']['pos'] + data['test']['neg']\n",
    "    labels_train = labels['train']['pos'] + labels['train']['neg']\n",
    "    labels_test = labels['test']['pos'] + labels['test']['neg']\n",
    "    \n",
    "    #Shuffle reviews and corresponding labels within training and test sets\n",
    "    data_train, labels_train = shuffle(data_train, labels_train)\n",
    "    data_test, labels_test = shuffle(data_test, labels_test)\n",
    "    \n",
    "    # Return a unified training data, test data, training labels, test labets\n",
    "    return data_train, data_test, labels_train, labels_test"
   ]
  },
  {
   "cell_type": "code",
   "execution_count": 5,
   "metadata": {},
   "outputs": [
    {
     "name": "stdout",
     "output_type": "stream",
     "text": [
      "IMDb reviews (combined): train = 25000, test = 25000\n"
     ]
    }
   ],
   "source": [
    "train_X, test_X, train_y, test_y = prepare_imdb_data(data, labels)\n",
    "print(\"IMDb reviews (combined): train = {}, test = {}\".format(len(train_X), len(test_X)))"
   ]
  },
  {
   "cell_type": "markdown",
   "metadata": {},
   "source": [
    "Now that we have our training and testing sets unified and prepared, we should do a quick check and see an example of the data our model will be trained on. This is generally a good idea as it allows you to see how each of the further processing steps affects the reviews and it also ensures that the data has been loaded correctly."
   ]
  },
  {
   "cell_type": "code",
   "execution_count": 6,
   "metadata": {},
   "outputs": [
    {
     "name": "stdout",
     "output_type": "stream",
     "text": [
      "After an anonymous phone call about a spacecraft that would have crashed in a frozen wood, two police officers find evidences that the event really happened and apparently one Martian had walked away from the spot. They drive to the nearby Hi-Way Café and they find a bus stopped and seven passengers waiting the reopening of a snowed in bridge. However the driver tells that he had only six passengers when he parked the bus. While interrogating the travelers, weird things happen in the diner, with the lights switching on and off and the turntable turning on and off. When the passengers are released and the bus follows his travel, one passenger returns to the diner and discloses a plot of invasion of Earth.<br /><br />\"Will the Real Martian Please Stand Up?\" is one of the best episodes of this great series. The intriguing story has ironic and witty dialogs, funny characters and situations and a surprising and totally unexpected plot point in the very end. My vote is eight.<br /><br />Title (Brazil): \"O Marciano\" (\"The Martian\")\n",
      "1\n"
     ]
    }
   ],
   "source": [
    "print(train_X[100])\n",
    "print(train_y[100])"
   ]
  },
  {
   "cell_type": "markdown",
   "metadata": {},
   "source": [
    "The first step in processing the reviews is to make sure that any html tags that appear should be removed. In addition we wish to tokenize our input, that way words such as *entertained* and *entertaining* are considered the same with regard to sentiment analysis."
   ]
  },
  {
   "cell_type": "code",
   "execution_count": 7,
   "metadata": {},
   "outputs": [],
   "source": [
    "import nltk\n",
    "from nltk.corpus import stopwords\n",
    "from nltk.stem.porter import *\n",
    "\n",
    "import re\n",
    "from bs4 import BeautifulSoup\n",
    "\n",
    "def review_to_words(review):\n",
    "    nltk.download(\"stopwords\", quiet=True)\n",
    "    stemmer = PorterStemmer()\n",
    "    \n",
    "    text = BeautifulSoup(review, \"html.parser\").get_text() # Remove HTML tags\n",
    "    text = re.sub(r\"[^a-zA-Z0-9]\", \" \", text.lower()) # Convert to lower case\n",
    "    words = text.split() # Split string into words\n",
    "    words = [w for w in words if w not in stopwords.words(\"english\")] # Remove stopwords\n",
    "    words = [PorterStemmer().stem(w) for w in words] # stem\n",
    "    \n",
    "    return words"
   ]
  },
  {
   "cell_type": "markdown",
   "metadata": {},
   "source": [
    "The `review_to_words` method defined above uses `BeautifulSoup` to remove any html tags that appear and uses the `nltk` package to tokenize the reviews. As a check to ensure we know how everything is working, try applying `review_to_words` to one of the reviews in the training set."
   ]
  },
  {
   "cell_type": "code",
   "execution_count": 8,
   "metadata": {},
   "outputs": [
    {
     "data": {
      "text/plain": [
       "['anonym',\n",
       " 'phone',\n",
       " 'call',\n",
       " 'spacecraft',\n",
       " 'would',\n",
       " 'crash',\n",
       " 'frozen',\n",
       " 'wood',\n",
       " 'two',\n",
       " 'polic',\n",
       " 'offic',\n",
       " 'find',\n",
       " 'evid',\n",
       " 'event',\n",
       " 'realli',\n",
       " 'happen',\n",
       " 'appar',\n",
       " 'one',\n",
       " 'martian',\n",
       " 'walk',\n",
       " 'away',\n",
       " 'spot',\n",
       " 'drive',\n",
       " 'nearbi',\n",
       " 'hi',\n",
       " 'way',\n",
       " 'caf',\n",
       " 'find',\n",
       " 'bu',\n",
       " 'stop',\n",
       " 'seven',\n",
       " 'passeng',\n",
       " 'wait',\n",
       " 'reopen',\n",
       " 'snow',\n",
       " 'bridg',\n",
       " 'howev',\n",
       " 'driver',\n",
       " 'tell',\n",
       " 'six',\n",
       " 'passeng',\n",
       " 'park',\n",
       " 'bu',\n",
       " 'interrog',\n",
       " 'travel',\n",
       " 'weird',\n",
       " 'thing',\n",
       " 'happen',\n",
       " 'diner',\n",
       " 'light',\n",
       " 'switch',\n",
       " 'turntabl',\n",
       " 'turn',\n",
       " 'passeng',\n",
       " 'releas',\n",
       " 'bu',\n",
       " 'follow',\n",
       " 'travel',\n",
       " 'one',\n",
       " 'passeng',\n",
       " 'return',\n",
       " 'diner',\n",
       " 'disclos',\n",
       " 'plot',\n",
       " 'invas',\n",
       " 'earth',\n",
       " 'real',\n",
       " 'martian',\n",
       " 'pleas',\n",
       " 'stand',\n",
       " 'one',\n",
       " 'best',\n",
       " 'episod',\n",
       " 'great',\n",
       " 'seri',\n",
       " 'intrigu',\n",
       " 'stori',\n",
       " 'iron',\n",
       " 'witti',\n",
       " 'dialog',\n",
       " 'funni',\n",
       " 'charact',\n",
       " 'situat',\n",
       " 'surpris',\n",
       " 'total',\n",
       " 'unexpect',\n",
       " 'plot',\n",
       " 'point',\n",
       " 'end',\n",
       " 'vote',\n",
       " 'eight',\n",
       " 'titl',\n",
       " 'brazil',\n",
       " 'marciano',\n",
       " 'martian']"
      ]
     },
     "execution_count": 8,
     "metadata": {},
     "output_type": "execute_result"
    }
   ],
   "source": [
    "# TODO: Apply review_to_words to a review (train_X[100] or any other review)\n",
    "review_to_words(train_X[100])"
   ]
  },
  {
   "cell_type": "markdown",
   "metadata": {},
   "source": [
    "**Question:** Above we mentioned that `review_to_words` method removes html formatting and allows us to tokenize the words found in a review, for example, converting *entertained* and *entertaining* into *entertain* so that they are treated as though they are the same word. What else, if anything, does this method do to the input?"
   ]
  },
  {
   "cell_type": "markdown",
   "metadata": {},
   "source": [
    "**Answer:**\n",
    "- removed html formatting\n",
    "- tokenize words found in a review\n",
    "- convert all characters to lower-case\n",
    "- split the review into list of stemmed words\n",
    "- removed any stopwords"
   ]
  },
  {
   "cell_type": "markdown",
   "metadata": {},
   "source": [
    "The method below applies the `review_to_words` method to each of the reviews in the training and testing datasets. In addition it caches the results. This is because performing this processing step can take a long time. This way if you are unable to complete the notebook in the current session, you can come back without needing to process the data a second time."
   ]
  },
  {
   "cell_type": "code",
   "execution_count": 9,
   "metadata": {},
   "outputs": [],
   "source": [
    "import pickle\n",
    "\n",
    "cache_dir = os.path.join(\"cache\", \"sentiment_analysis\")  # where to store cache files\n",
    "os.makedirs(cache_dir, exist_ok=True)  # ensure cache directory exists\n",
    "\n",
    "def preprocess_data(data_train, data_test, labels_train, labels_test,\n",
    "                    cache_dir=cache_dir, cache_file=\"preprocessed_data.pkl\"):\n",
    "    \"\"\"Convert each review to words; read from cache if available.\"\"\"\n",
    "\n",
    "    # If cache_file is not None, try to read from it first\n",
    "    cache_data = None\n",
    "    if cache_file is not None:\n",
    "        try:\n",
    "            with open(os.path.join(cache_dir, cache_file), \"rb\") as f:\n",
    "                cache_data = pickle.load(f)\n",
    "            print(\"Read preprocessed data from cache file:\", cache_file)\n",
    "        except:\n",
    "            pass  # unable to read from cache, but that's okay\n",
    "    \n",
    "    # If cache is missing, then do the heavy lifting\n",
    "    if cache_data is None:\n",
    "        # Preprocess training and test data to obtain words for each review\n",
    "        #words_train = list(map(review_to_words, data_train))\n",
    "        #words_test = list(map(review_to_words, data_test))\n",
    "        words_train = [review_to_words(review) for review in data_train]\n",
    "        words_test = [review_to_words(review) for review in data_test]\n",
    "        \n",
    "        # Write to cache file for future runs\n",
    "        if cache_file is not None:\n",
    "            cache_data = dict(words_train=words_train, words_test=words_test,\n",
    "                              labels_train=labels_train, labels_test=labels_test)\n",
    "            with open(os.path.join(cache_dir, cache_file), \"wb\") as f:\n",
    "                pickle.dump(cache_data, f)\n",
    "            print(\"Wrote preprocessed data to cache file:\", cache_file)\n",
    "    else:\n",
    "        # Unpack data loaded from cache file\n",
    "        words_train, words_test, labels_train, labels_test = (cache_data['words_train'],\n",
    "                cache_data['words_test'], cache_data['labels_train'], cache_data['labels_test'])\n",
    "    \n",
    "    return words_train, words_test, labels_train, labels_test"
   ]
  },
  {
   "cell_type": "code",
   "execution_count": 10,
   "metadata": {},
   "outputs": [
    {
     "name": "stdout",
     "output_type": "stream",
     "text": [
      "Read preprocessed data from cache file: preprocessed_data.pkl\n"
     ]
    }
   ],
   "source": [
    "# Preprocess data\n",
    "train_X, test_X, train_y, test_y = preprocess_data(train_X, test_X, train_y, test_y)"
   ]
  },
  {
   "cell_type": "markdown",
   "metadata": {},
   "source": [
    "## Transform the data\n",
    "\n",
    "In the XGBoost notebook we transformed the data from its word representation to a bag-of-words feature representation. For the model we are going to construct in this notebook we will construct a feature representation which is very similar. To start, we will represent each word as an integer. Of course, some of the words that appear in the reviews occur very infrequently and so likely don't contain much information for the purposes of sentiment analysis. The way we will deal with this problem is that we will fix the size of our working vocabulary and we will only include the words that appear most frequently. We will then combine all of the infrequent words into a single category and, in our case, we will label it as `1`.\n",
    "\n",
    "Since we will be using a recurrent neural network, it will be convenient if the length of each review is the same. To do this, we will fix a size for our reviews and then pad short reviews with the category 'no word' (which we will label `0`) and truncate long reviews."
   ]
  },
  {
   "cell_type": "markdown",
   "metadata": {},
   "source": [
    "### (TODO) Create a word dictionary\n",
    "\n",
    "To begin with, we need to construct a way to map words that appear in the reviews to integers. Here we fix the size of our vocabulary (including the 'no word' and 'infrequent' categories) to be `5000` but you may wish to change this to see how it affects the model.\n",
    "\n",
    "> **TODO:** Complete the implementation for the `build_dict()` method below. Note that even though the vocab_size is set to `5000`, we only want to construct a mapping for the most frequently appearing `4998` words. This is because we want to reserve the special labels `0` for 'no word' and `1` for 'infrequent word'."
   ]
  },
  {
   "cell_type": "code",
   "execution_count": 11,
   "metadata": {},
   "outputs": [],
   "source": [
    "import numpy as np\n",
    "from collections import Counter\n",
    "\n",
    "def build_dict(data, vocab_size = 5000):\n",
    "    \"\"\"Construct and return a dictionary mapping each of the most frequently appearing words to a unique integer.\"\"\"\n",
    "    \n",
    "    # TODO: Determine how often each word appears in `data`. Note that `data` is a list of sentences and that a\n",
    "    #       sentence is a list of words.\n",
    "    counter = Counter()\n",
    "    for row in data:\n",
    "        counter.update(row)\n",
    "    word_count = dict(counter.most_common(vocab_size)) # A dict storing the words that appear in the reviews along with how often they occur\n",
    "    \n",
    "    # TODO: Sort the words found in `data` so that sorted_words[0] is the most frequently appearing word and\n",
    "    #       sorted_words[-1] is the least frequently appearing word.\n",
    "    \n",
    "    sorted_words = [word for word, count in counter.most_common(vocab_size)]\n",
    "    \n",
    "    word_dict = {} # This is what we are building, a dictionary that translates words into integers\n",
    "    for idx, word in enumerate(sorted_words[:vocab_size - 2]): # The -2 is so that we save room for the 'no word'\n",
    "        word_dict[word] = idx + 2                              # 'infrequent' labels\n",
    "        \n",
    "    return word_dict"
   ]
  },
  {
   "cell_type": "code",
   "execution_count": 12,
   "metadata": {},
   "outputs": [],
   "source": [
    "word_dict = build_dict(train_X)"
   ]
  },
  {
   "cell_type": "markdown",
   "metadata": {},
   "source": [
    "**Question:** What are the five most frequently appearing (tokenized) words in the training set? Does it makes sense that these words appear frequently in the training set?"
   ]
  },
  {
   "cell_type": "markdown",
   "metadata": {},
   "source": [
    "**Answer:**\n",
    "- movi\n",
    "- film\n",
    "- one\n",
    "- like\n",
    "- time\n",
    "\n",
    "For 'movi' and 'film', they makes sense to me. But the other 3 words does not make sense. They might be noise."
   ]
  },
  {
   "cell_type": "code",
   "execution_count": 13,
   "metadata": {},
   "outputs": [
    {
     "name": "stdout",
     "output_type": "stream",
     "text": [
      "{'movi': 2, 'film': 3, 'one': 4, 'like': 5, 'time': 6, 'good': 7, 'make': 8, 'charact': 9, 'get': 10, 'see': 11, 'watch': 12, 'stori': 13, 'even': 14, 'would': 15, 'realli': 16, 'well': 17, 'scene': 18, 'look': 19, 'show': 20, 'much': 21, 'end': 22, 'peopl': 23, 'bad': 24, 'go': 25, 'great': 26, 'also': 27, 'first': 28, 'love': 29, 'think': 30, 'way': 31, 'act': 32, 'play': 33, 'made': 34, 'thing': 35, 'could': 36, 'know': 37, 'say': 38, 'seem': 39, 'work': 40, 'plot': 41, 'two': 42, 'actor': 43, 'year': 44, 'come': 45, 'mani': 46, 'seen': 47, 'take': 48, 'want': 49, 'life': 50, 'never': 51, 'littl': 52, 'best': 53, 'tri': 54, 'man': 55, 'ever': 56, 'give': 57, 'better': 58, 'still': 59, 'perform': 60, 'find': 61, 'feel': 62, 'part': 63, 'back': 64, 'use': 65, 'someth': 66, 'director': 67, 'actual': 68, 'interest': 69, 'lot': 70, 'real': 71, 'old': 72, 'cast': 73, 'though': 74, 'live': 75, 'star': 76, 'enjoy': 77, 'guy': 78, 'anoth': 79, 'new': 80, 'role': 81, 'noth': 82, '10': 83, 'funni': 84, 'music': 85, 'point': 86, 'start': 87, 'set': 88, 'girl': 89, 'origin': 90, 'day': 91, 'world': 92, 'everi': 93, 'believ': 94, 'turn': 95, 'quit': 96, 'us': 97, 'direct': 98, 'thought': 99, 'fact': 100, 'minut': 101, 'horror': 102, 'kill': 103, 'action': 104, 'comedi': 105, 'pretti': 106, 'young': 107, 'wonder': 108, 'happen': 109, 'around': 110, 'got': 111, 'effect': 112, 'right': 113, 'long': 114, 'howev': 115, 'big': 116, 'line': 117, 'famili': 118, 'enough': 119, 'seri': 120, 'may': 121, 'need': 122, 'fan': 123, 'bit': 124, 'script': 125, 'beauti': 126, 'person': 127, 'becom': 128, 'without': 129, 'must': 130, 'alway': 131, 'friend': 132, 'tell': 133, 'reason': 134, 'saw': 135, 'last': 136, 'final': 137, 'kid': 138, 'almost': 139, 'put': 140, 'least': 141, 'sure': 142, 'done': 143, 'whole': 144, 'place': 145, 'complet': 146, 'kind': 147, 'differ': 148, 'expect': 149, 'shot': 150, 'far': 151, 'mean': 152, 'anyth': 153, 'book': 154, 'laugh': 155, 'might': 156, 'name': 157, 'sinc': 158, 'begin': 159, '2': 160, 'probabl': 161, 'woman': 162, 'help': 163, 'entertain': 164, 'let': 165, 'screen': 166, 'call': 167, 'tv': 168, 'moment': 169, 'away': 170, 'read': 171, 'yet': 172, 'rather': 173, 'worst': 174, 'run': 175, 'fun': 176, 'lead': 177, 'hard': 178, 'audienc': 179, 'idea': 180, 'anyon': 181, 'episod': 182, 'american': 183, 'found': 184, 'appear': 185, 'bore': 186, 'especi': 187, 'although': 188, 'hope': 189, 'keep': 190, 'cours': 191, 'anim': 192, 'job': 193, 'goe': 194, 'move': 195, 'sens': 196, 'version': 197, 'dvd': 198, 'war': 199, 'money': 200, 'someon': 201, 'mind': 202, 'mayb': 203, 'problem': 204, 'true': 205, 'hous': 206, 'everyth': 207, 'nice': 208, 'second': 209, 'rate': 210, 'three': 211, 'night': 212, 'face': 213, 'follow': 214, 'recommend': 215, 'product': 216, 'main': 217, 'worth': 218, 'leav': 219, 'human': 220, 'special': 221, 'excel': 222, 'togeth': 223, 'wast': 224, 'everyon': 225, 'sound': 226, 'john': 227, 'hand': 228, '1': 229, 'father': 230, 'later': 231, 'eye': 232, 'said': 233, 'view': 234, 'instead': 235, 'review': 236, 'boy': 237, 'high': 238, 'hour': 239, 'miss': 240, 'classic': 241, 'talk': 242, 'wife': 243, 'understand': 244, 'left': 245, 'care': 246, 'black': 247, 'death': 248, 'open': 249, 'murder': 250, 'write': 251, 'half': 252, 'head': 253, 'rememb': 254, 'chang': 255, 'viewer': 256, 'fight': 257, 'gener': 258, 'surpris': 259, 'short': 260, 'includ': 261, 'die': 262, 'fall': 263, 'less': 264, 'els': 265, 'entir': 266, 'piec': 267, 'involv': 268, 'pictur': 269, 'simpli': 270, 'home': 271, 'top': 272, 'power': 273, 'total': 274, 'usual': 275, 'budget': 276, 'attempt': 277, 'suppos': 278, 'releas': 279, 'hollywood': 280, 'terribl': 281, 'song': 282, 'men': 283, 'possibl': 284, 'featur': 285, 'portray': 286, 'disappoint': 287, '3': 288, 'poor': 289, 'coupl': 290, 'stupid': 291, 'camera': 292, 'dead': 293, 'wrong': 294, 'low': 295, 'produc': 296, 'either': 297, 'video': 298, 'aw': 299, 'definit': 300, 'except': 301, 'rest': 302, 'given': 303, 'absolut': 304, 'women': 305, 'lack': 306, 'word': 307, 'writer': 308, 'titl': 309, 'talent': 310, 'decid': 311, 'full': 312, 'perfect': 313, 'along': 314, 'style': 315, 'close': 316, 'truli': 317, 'school': 318, 'emot': 319, 'save': 320, 'age': 321, 'sex': 322, 'next': 323, 'bring': 324, 'mr': 325, 'case': 326, 'killer': 327, 'heart': 328, 'comment': 329, 'sort': 330, 'creat': 331, 'perhap': 332, 'came': 333, 'brother': 334, 'sever': 335, 'joke': 336, 'art': 337, 'dialogu': 338, 'game': 339, 'small': 340, 'base': 341, 'flick': 342, 'written': 343, 'sequenc': 344, 'meet': 345, 'earli': 346, 'often': 347, 'other': 348, 'mother': 349, 'develop': 350, 'humor': 351, 'actress': 352, 'consid': 353, 'dark': 354, 'guess': 355, 'amaz': 356, 'unfortun': 357, 'lost': 358, 'light': 359, 'exampl': 360, 'cinema': 361, 'drama': 362, 'ye': 363, 'white': 364, 'experi': 365, 'imagin': 366, 'mention': 367, 'stop': 368, 'natur': 369, 'forc': 370, 'manag': 371, 'felt': 372, 'present': 373, 'cut': 374, 'children': 375, 'fail': 376, 'son': 377, 'qualiti': 378, 'support': 379, 'car': 380, 'ask': 381, 'hit': 382, 'side': 383, 'voic': 384, 'extrem': 385, 'impress': 386, 'wors': 387, 'evil': 388, 'stand': 389, 'went': 390, 'certainli': 391, 'basic': 392, 'oh': 393, 'overal': 394, 'favorit': 395, 'horribl': 396, 'mysteri': 397, 'number': 398, 'type': 399, 'danc': 400, 'wait': 401, 'hero': 402, 'alreadi': 403, '5': 404, 'learn': 405, 'matter': 406, '4': 407, 'michael': 408, 'genr': 409, 'fine': 410, 'despit': 411, 'throughout': 412, 'walk': 413, 'success': 414, 'histori': 415, 'question': 416, 'zombi': 417, 'town': 418, 'realiz': 419, 'relationship': 420, 'past': 421, 'child': 422, 'daughter': 423, 'late': 424, 'b': 425, 'wish': 426, 'credit': 427, 'hate': 428, 'event': 429, 'theme': 430, 'touch': 431, 'citi': 432, 'today': 433, 'sometim': 434, 'behind': 435, 'god': 436, 'twist': 437, 'sit': 438, 'deal': 439, 'stay': 440, 'annoy': 441, 'abl': 442, 'rent': 443, 'pleas': 444, 'edit': 445, 'blood': 446, 'deserv': 447, 'anyway': 448, 'comic': 449, 'appar': 450, 'soon': 451, 'gave': 452, 'etc': 453, 'level': 454, 'slow': 455, 'chanc': 456, 'score': 457, 'bodi': 458, 'brilliant': 459, 'incred': 460, 'figur': 461, 'situat': 462, 'self': 463, 'major': 464, 'stuff': 465, 'decent': 466, 'element': 467, 'return': 468, 'dream': 469, 'obvious': 470, 'order': 471, 'continu': 472, 'pace': 473, 'ridicul': 474, 'happi': 475, 'highli': 476, 'group': 477, 'add': 478, 'thank': 479, 'ladi': 480, 'novel': 481, 'pain': 482, 'speak': 483, 'career': 484, 'shoot': 485, 'strang': 486, 'heard': 487, 'sad': 488, 'husband': 489, 'polic': 490, 'import': 491, 'break': 492, 'took': 493, 'strong': 494, 'cannot': 495, 'predict': 496, 'robert': 497, 'violenc': 498, 'hilari': 499, 'recent': 500, 'countri': 501, 'known': 502, 'particularli': 503, 'pick': 504, 'documentari': 505, 'season': 506, 'critic': 507, 'jame': 508, 'compar': 509, 'obviou': 510, 'alon': 511, 'told': 512, 'state': 513, 'visual': 514, 'rock': 515, 'offer': 516, 'exist': 517, 'theater': 518, 'opinion': 519, 'gore': 520, 'hold': 521, 'crap': 522, 'result': 523, 'room': 524, 'realiti': 525, 'hear': 526, 'clich': 527, 'effort': 528, 'thriller': 529, 'caus': 530, 'explain': 531, 'sequel': 532, 'serious': 533, 'king': 534, 'local': 535, 'ago': 536, 'none': 537, 'hell': 538, 'note': 539, 'allow': 540, 'david': 541, 'sister': 542, 'simpl': 543, 'femal': 544, 'deliv': 545, 'ok': 546, 'convinc': 547, 'class': 548, 'check': 549, 'suspens': 550, 'win': 551, 'buy': 552, 'oscar': 553, 'huge': 554, 'valu': 555, 'sexual': 556, 'cool': 557, 'scari': 558, 'similar': 559, 'excit': 560, 'provid': 561, 'exactli': 562, 'apart': 563, 'avoid': 564, 'shown': 565, 'seriou': 566, 'english': 567, 'whose': 568, 'taken': 569, 'cinematographi': 570, 'shock': 571, 'polit': 572, 'spoiler': 573, 'offic': 574, 'across': 575, 'middl': 576, 'street': 577, 'pass': 578, 'messag': 579, 'charm': 580, 'somewhat': 581, 'silli': 582, 'modern': 583, 'confus': 584, 'filmmak': 585, 'form': 586, 'tale': 587, 'singl': 588, 'jack': 589, 'mostli': 590, 'attent': 591, 'carri': 592, 'william': 593, 'sing': 594, 'subject': 595, 'five': 596, 'prove': 597, 'richard': 598, 'stage': 599, 'team': 600, 'cop': 601, 'unlik': 602, 'georg': 603, 'televis': 604, 'monster': 605, 'earth': 606, 'villain': 607, 'cover': 608, 'pay': 609, 'marri': 610, 'toward': 611, 'build': 612, 'parent': 613, 'pull': 614, 'due': 615, 'fill': 616, 'respect': 617, 'dialog': 618, 'four': 619, 'remind': 620, 'futur': 621, 'typic': 622, 'weak': 623, '7': 624, 'cheap': 625, 'intellig': 626, 'british': 627, 'atmospher': 628, '80': 629, 'clearli': 630, 'paul': 631, 'non': 632, 'dog': 633, '8': 634, 'artist': 635, 'knew': 636, 'fast': 637, 'crime': 638, 'easili': 639, 'escap': 640, 'adult': 641, 'doubt': 642, 'detail': 643, 'date': 644, 'member': 645, 'romant': 646, 'fire': 647, 'drive': 648, 'gun': 649, 'straight': 650, 'beyond': 651, 'fit': 652, 'attack': 653, 'imag': 654, 'upon': 655, 'posit': 656, 'whether': 657, 'fantast': 658, 'peter': 659, 'captur': 660, 'aspect': 661, 'appreci': 662, 'ten': 663, 'plan': 664, 'discov': 665, 'remain': 666, 'period': 667, 'near': 668, 'realist': 669, 'air': 670, 'mark': 671, 'red': 672, 'dull': 673, 'adapt': 674, 'within': 675, 'spend': 676, 'lose': 677, 'color': 678, 'materi': 679, 'chase': 680, 'mari': 681, 'storylin': 682, 'forget': 683, 'bunch': 684, 'clear': 685, 'lee': 686, 'victim': 687, 'nearli': 688, 'box': 689, 'york': 690, 'inspir': 691, 'match': 692, 'mess': 693, 'finish': 694, 'standard': 695, 'easi': 696, 'truth': 697, 'busi': 698, 'suffer': 699, 'dramat': 700, 'space': 701, 'bill': 702, 'western': 703, 'e': 704, 'list': 705, 'battl': 706, 'notic': 707, 'de': 708, 'french': 709, 'ad': 710, '9': 711, 'tom': 712, 'larg': 713, 'among': 714, 'eventu': 715, 'train': 716, 'accept': 717, 'agre': 718, 'spirit': 719, 'soundtrack': 720, 'third': 721, 'teenag': 722, 'adventur': 723, 'soldier': 724, 'sorri': 725, 'suggest': 726, 'drug': 727, 'famou': 728, 'cri': 729, 'normal': 730, 'babi': 731, 'troubl': 732, 'ultim': 733, 'contain': 734, 'certain': 735, 'cultur': 736, 'romanc': 737, 'rare': 738, 'lame': 739, 'somehow': 740, 'disney': 741, 'mix': 742, 'gone': 743, 'cartoon': 744, 'student': 745, 'reveal': 746, 'fear': 747, 'kept': 748, 'suck': 749, 'attract': 750, 'appeal': 751, 'premis': 752, 'greatest': 753, 'design': 754, 'secret': 755, 'shame': 756, 'throw': 757, 'copi': 758, 'scare': 759, 'wit': 760, 'america': 761, 'admit': 762, 'particular': 763, 'relat': 764, 'brought': 765, 'screenplay': 766, 'whatev': 767, 'pure': 768, '70': 769, 'averag': 770, 'harri': 771, 'master': 772, 'describ': 773, 'treat': 774, 'male': 775, '20': 776, 'issu': 777, 'fantasi': 778, 'warn': 779, 'inde': 780, 'forward': 781, 'background': 782, 'free': 783, 'project': 784, 'memor': 785, 'japanes': 786, 'poorli': 787, 'award': 788, 'locat': 789, 'amus': 790, 'potenti': 791, 'struggl': 792, 'magic': 793, 'weird': 794, 'societi': 795, 'okay': 796, 'doctor': 797, 'imdb': 798, 'accent': 799, 'hot': 800, 'water': 801, '30': 802, 'alien': 803, 'express': 804, 'dr': 805, 'odd': 806, 'crazi': 807, 'choic': 808, 'studio': 809, 'fiction': 810, 'becam': 811, 'control': 812, 'masterpiec': 813, 'fli': 814, 'difficult': 815, 'joe': 816, 'scream': 817, 'costum': 818, 'lover': 819, 'uniqu': 820, 'refer': 821, 'remak': 822, 'girlfriend': 823, 'vampir': 824, 'prison': 825, 'execut': 826, 'wear': 827, 'jump': 828, 'unless': 829, 'wood': 830, 'creepi': 831, 'cheesi': 832, 'superb': 833, 'otherwis': 834, 'parti': 835, 'roll': 836, 'ghost': 837, 'public': 838, 'mad': 839, 'depict': 840, 'earlier': 841, 'badli': 842, 'jane': 843, 'moral': 844, 'week': 845, 'dumb': 846, 'fi': 847, 'grow': 848, 'flaw': 849, 'deep': 850, 'sci': 851, 'cat': 852, 'maker': 853, 'connect': 854, 'older': 855, 'footag': 856, 'plenti': 857, 'bother': 858, 'outsid': 859, 'stick': 860, 'gay': 861, 'catch': 862, 'plu': 863, 'co': 864, 'popular': 865, 'equal': 866, 'social': 867, 'quickli': 868, 'disturb': 869, 'perfectli': 870, 'dress': 871, '90': 872, 'era': 873, 'mistak': 874, 'lie': 875, 'previou': 876, 'ride': 877, 'combin': 878, 'concept': 879, 'band': 880, 'rich': 881, 'surviv': 882, 'answer': 883, 'front': 884, 'sweet': 885, 'christma': 886, 'insid': 887, 'bare': 888, 'concern': 889, 'eat': 890, 'ben': 891, 'listen': 892, 'beat': 893, 'c': 894, 'serv': 895, 'term': 896, 'meant': 897, 'german': 898, 'la': 899, 'stereotyp': 900, 'hardli': 901, 'innoc': 902, 'law': 903, 'desper': 904, 'memori': 905, 'promis': 906, 'intent': 907, 'cute': 908, 'inform': 909, 'variou': 910, 'steal': 911, 'brain': 912, 'post': 913, 'tone': 914, 'island': 915, 'amount': 916, 'nuditi': 917, 'compani': 918, 'track': 919, 'store': 920, 'claim': 921, 'hair': 922, '50': 923, 'flat': 924, 'univers': 925, 'land': 926, 'kick': 927, 'danger': 928, 'fairli': 929, 'scott': 930, 'player': 931, 'crew': 932, 'step': 933, 'plain': 934, 'toni': 935, 'share': 936, 'centuri': 937, 'tast': 938, 'achiev': 939, 'engag': 940, 'travel': 941, 'cold': 942, 'rip': 943, 'record': 944, 'suit': 945, 'manner': 946, 'sadli': 947, 'spot': 948, 'tension': 949, 'wrote': 950, 'intens': 951, 'fascin': 952, 'familiar': 953, 'remark': 954, 'depth': 955, 'burn': 956, 'histor': 957, 'destroy': 958, 'sleep': 959, 'purpos': 960, 'languag': 961, 'ruin': 962, 'ignor': 963, 'delight': 964, 'italian': 965, 'unbeliev': 966, 'abil': 967, 'soul': 968, 'collect': 969, 'detect': 970, 'clever': 971, 'violent': 972, 'rape': 973, 'reach': 974, 'door': 975, 'trash': 976, 'scienc': 977, 'liter': 978, 'reveng': 979, 'caught': 980, 'commun': 981, 'creatur': 982, 'approach': 983, 'trip': 984, 'fashion': 985, 'intrigu': 986, 'introduc': 987, 'skill': 988, 'paint': 989, 'complex': 990, 'channel': 991, 'camp': 992, 'christian': 993, 'hole': 994, 'extra': 995, 'mental': 996, 'immedi': 997, 'ann': 998, 'limit': 999, 'comput': 1000, 'million': 1001, '6': 1002, 'slightli': 1003, 'mere': 1004, 'conclus': 1005, 'slasher': 1006, 'imposs': 1007, 'suddenli': 1008, 'teen': 1009, 'neither': 1010, 'crimin': 1011, 'nation': 1012, 'physic': 1013, 'spent': 1014, 'respons': 1015, 'planet': 1016, 'receiv': 1017, 'fake': 1018, 'blue': 1019, 'sick': 1020, 'bizarr': 1021, 'embarrass': 1022, 'indian': 1023, '15': 1024, 'ring': 1025, 'drop': 1026, 'pop': 1027, 'drag': 1028, 'haunt': 1029, 'pointless': 1030, 'suspect': 1031, 'edg': 1032, 'search': 1033, 'handl': 1034, 'biggest': 1035, 'common': 1036, 'arriv': 1037, 'faith': 1038, 'hurt': 1039, 'technic': 1040, 'angel': 1041, 'genuin': 1042, 'dad': 1043, 'f': 1044, 'solid': 1045, 'awesom': 1046, 'colleg': 1047, 'former': 1048, 'van': 1049, 'focu': 1050, 'count': 1051, 'heavi': 1052, 'tear': 1053, 'rais': 1054, 'wall': 1055, 'visit': 1056, 'younger': 1057, 'laughabl': 1058, 'sign': 1059, 'excus': 1060, 'fair': 1061, 'cult': 1062, 'key': 1063, 'motion': 1064, 'tough': 1065, 'desir': 1066, 'super': 1067, 'addit': 1068, 'stun': 1069, 'cloth': 1070, 'exploit': 1071, 'smith': 1072, 'tortur': 1073, 'race': 1074, 'davi': 1075, 'author': 1076, 'cross': 1077, 'jim': 1078, 'consist': 1079, 'focus': 1080, 'minor': 1081, 'compel': 1082, 'commit': 1083, 'pathet': 1084, 'chemistri': 1085, 'park': 1086, 'tradit': 1087, 'frank': 1088, 'obsess': 1089, 'grade': 1090, 'asid': 1091, '60': 1092, 'brutal': 1093, 'steve': 1094, 'somewher': 1095, 'opportun': 1096, 'explor': 1097, 'u': 1098, 'rule': 1099, 'grant': 1100, 'depress': 1101, 'honest': 1102, 'besid': 1103, 'anti': 1104, 'dub': 1105, 'intend': 1106, 'trailer': 1107, 'bar': 1108, 'scientist': 1109, 'regard': 1110, 'longer': 1111, 'west': 1112, 'judg': 1113, 'decad': 1114, 'silent': 1115, 'creativ': 1116, 'armi': 1117, 'wild': 1118, 'south': 1119, 'stewart': 1120, 'g': 1121, 'draw': 1122, 'road': 1123, 'govern': 1124, 'ex': 1125, 'boss': 1126, 'practic': 1127, 'surprisingli': 1128, 'gang': 1129, 'festiv': 1130, 'club': 1131, 'motiv': 1132, 'green': 1133, 'london': 1134, 'page': 1135, 'redeem': 1136, 'aliv': 1137, 'display': 1138, 'idiot': 1139, 'machin': 1140, 'militari': 1141, 'repeat': 1142, 'thrill': 1143, '100': 1144, 'folk': 1145, 'yeah': 1146, 'nobodi': 1147, '40': 1148, 'journey': 1149, 'garbag': 1150, 'smile': 1151, 'tire': 1152, 'ground': 1153, 'bought': 1154, 'mood': 1155, 'sam': 1156, 'cost': 1157, 'stone': 1158, 'noir': 1159, 'mouth': 1160, 'terrif': 1161, 'agent': 1162, 'requir': 1163, 'utterli': 1164, 'sexi': 1165, 'area': 1166, 'honestli': 1167, 'geniu': 1168, 'report': 1169, 'enter': 1170, 'humour': 1171, 'glad': 1172, 'investig': 1173, 'serial': 1174, 'passion': 1175, 'occasion': 1176, 'narr': 1177, 'marriag': 1178, 'climax': 1179, 'industri': 1180, 'studi': 1181, 'nowher': 1182, 'demon': 1183, 'center': 1184, 'ship': 1185, 'charli': 1186, 'hors': 1187, 'bear': 1188, 'loos': 1189, 'wow': 1190, 'hang': 1191, 'graphic': 1192, 'giant': 1193, 'admir': 1194, 'send': 1195, 'damn': 1196, 'loud': 1197, 'rel': 1198, 'nake': 1199, 'profession': 1200, 'subtl': 1201, 'blow': 1202, 'bottom': 1203, 'batman': 1204, 'insult': 1205, 'boyfriend': 1206, 'r': 1207, 'doubl': 1208, 'kelli': 1209, 'initi': 1210, 'frame': 1211, 'opera': 1212, 'gem': 1213, 'drawn': 1214, 'affect': 1215, 'challeng': 1216, 'cinemat': 1217, 'church': 1218, 'seek': 1219, 'nightmar': 1220, 'j': 1221, 'evid': 1222, 'l': 1223, 'fulli': 1224, 'conflict': 1225, 'essenti': 1226, 'arm': 1227, 'grace': 1228, 'christoph': 1229, 'henri': 1230, 'wind': 1231, 'assum': 1232, 'narrat': 1233, 'witch': 1234, 'push': 1235, 'hunt': 1236, 'wise': 1237, 'chri': 1238, 'repres': 1239, 'nomin': 1240, 'month': 1241, 'affair': 1242, 'hide': 1243, 'sceneri': 1244, 'avail': 1245, 'smart': 1246, 'justic': 1247, 'thu': 1248, 'bond': 1249, 'outstand': 1250, 'flashback': 1251, 'interview': 1252, 'presenc': 1253, 'constantli': 1254, 'satisfi': 1255, 'bed': 1256, 'central': 1257, 'content': 1258, 'sell': 1259, 'iron': 1260, 'everybodi': 1261, 'gag': 1262, 'hotel': 1263, 'slowli': 1264, 'hire': 1265, 'system': 1266, 'hey': 1267, 'individu': 1268, 'thrown': 1269, 'adam': 1270, 'charl': 1271, 'mediocr': 1272, 'jone': 1273, 'allen': 1274, 'ray': 1275, 'billi': 1276, 'lesson': 1277, 'photographi': 1278, 'cameo': 1279, 'pari': 1280, 'fellow': 1281, 'strike': 1282, 'absurd': 1283, 'brief': 1284, 'independ': 1285, 'rise': 1286, 'neg': 1287, 'impact': 1288, 'phone': 1289, 'model': 1290, 'ill': 1291, 'born': 1292, 'fresh': 1293, 'spoil': 1294, 'angl': 1295, 'likabl': 1296, 'abus': 1297, 'hill': 1298, 'discuss': 1299, 'sight': 1300, 'ahead': 1301, 'sent': 1302, 'photograph': 1303, 'logic': 1304, 'blame': 1305, 'shine': 1306, 'occur': 1307, 'mainli': 1308, 'bruce': 1309, 'skip': 1310, 'forev': 1311, 'commerci': 1312, 'teacher': 1313, 'surround': 1314, 'held': 1315, 'segment': 1316, 'zero': 1317, 'blond': 1318, 'trap': 1319, 'satir': 1320, 'resembl': 1321, 'summer': 1322, 'ball': 1323, 'queen': 1324, 'fool': 1325, 'six': 1326, 'twice': 1327, 'tragedi': 1328, 'sub': 1329, 'pack': 1330, 'reaction': 1331, 'bomb': 1332, 'will': 1333, 'hospit': 1334, 'protagonist': 1335, 'sport': 1336, 'mile': 1337, 'vote': 1338, 'trust': 1339, 'mom': 1340, 'jerri': 1341, 'drink': 1342, 'encount': 1343, 'plane': 1344, 'program': 1345, 'al': 1346, 'current': 1347, 'station': 1348, 'choos': 1349, 'martin': 1350, 'celebr': 1351, 'join': 1352, 'tragic': 1353, 'field': 1354, 'favourit': 1355, 'lord': 1356, 'round': 1357, 'vision': 1358, 'robot': 1359, 'jean': 1360, 'tie': 1361, 'arthur': 1362, 'fortun': 1363, 'roger': 1364, 'random': 1365, 'intern': 1366, 'dread': 1367, 'psycholog': 1368, 'epic': 1369, 'improv': 1370, 'prefer': 1371, 'nonsens': 1372, 'pleasur': 1373, 'formula': 1374, 'legend': 1375, 'highlight': 1376, 'tape': 1377, '11': 1378, 'dollar': 1379, 'porn': 1380, 'object': 1381, 'thin': 1382, 'gorgeou': 1383, 'wide': 1384, 'fox': 1385, 'influenc': 1386, 'ugli': 1387, 'buddi': 1388, 'prepar': 1389, 'nasti': 1390, 'ii': 1391, 'supposedli': 1392, 'progress': 1393, 'warm': 1394, 'reflect': 1395, 'worthi': 1396, 'youth': 1397, 'length': 1398, 'unusu': 1399, 'latter': 1400, 'crash': 1401, 'seven': 1402, 'childhood': 1403, 'superior': 1404, 'shop': 1405, 'remot': 1406, 'theatr': 1407, 'disgust': 1408, 'funniest': 1409, 'pilot': 1410, 'paid': 1411, 'fell': 1412, 'castl': 1413, 'convers': 1414, 'trick': 1415, 'establish': 1416, 'gangster': 1417, 'disast': 1418, 'rob': 1419, 'ident': 1420, 'suicid': 1421, 'disappear': 1422, 'heaven': 1423, 'mine': 1424, 'decis': 1425, 'singer': 1426, 'heroin': 1427, 'tend': 1428, 'forgotten': 1429, 'mask': 1430, 'partner': 1431, 'brian': 1432, 'desert': 1433, 'recogn': 1434, 'alan': 1435, 'ms': 1436, 'stuck': 1437, 'thoroughli': 1438, 'p': 1439, 'sky': 1440, 'replac': 1441, 'accur': 1442, 'market': 1443, 'seemingli': 1444, 'clue': 1445, 'andi': 1446, 'commentari': 1447, 'uncl': 1448, 'danni': 1449, 'eddi': 1450, 'jackson': 1451, 'devil': 1452, 'refus': 1453, 'therefor': 1454, 'that': 1455, 'pair': 1456, 'ed': 1457, 'river': 1458, 'unit': 1459, 'fault': 1460, 'fate': 1461, 'accid': 1462, 'afraid': 1463, 'tune': 1464, 'clean': 1465, 'hidden': 1466, 'russian': 1467, 'stephen': 1468, 'readi': 1469, 'irrit': 1470, 'captain': 1471, 'instanc': 1472, 'quick': 1473, 'test': 1474, 'convey': 1475, 'european': 1476, 'frustrat': 1477, 'daniel': 1478, 'insan': 1479, 'chines': 1480, 'wed': 1481, 'rescu': 1482, 'food': 1483, '1950': 1484, 'lock': 1485, 'dirti': 1486, 'angri': 1487, 'joy': 1488, 'price': 1489, 'steven': 1490, 'bland': 1491, 'cage': 1492, 'anymor': 1493, 'rang': 1494, 'wooden': 1495, 'jason': 1496, 'news': 1497, 'rush': 1498, 'n': 1499, 'led': 1500, 'martial': 1501, 'board': 1502, '12': 1503, 'worri': 1504, 'twenti': 1505, 'transform': 1506, 'symbol': 1507, 'cgi': 1508, 'hunter': 1509, 'onto': 1510, 'x': 1511, 'johnni': 1512, 'sentiment': 1513, 'piti': 1514, 'invent': 1515, 'process': 1516, 'attitud': 1517, 'explan': 1518, 'owner': 1519, 'awar': 1520, 'aim': 1521, 'energi': 1522, 'favor': 1523, 'floor': 1524, 'necessari': 1525, 'target': 1526, 'opposit': 1527, 'religi': 1528, 'insight': 1529, 'blind': 1530, 'chick': 1531, 'window': 1532, 'movement': 1533, 'possess': 1534, 'comparison': 1535, 'deepli': 1536, 'research': 1537, 'mountain': 1538, 'comed': 1539, 'whatsoev': 1540, 'rain': 1541, 'grand': 1542, 'mid': 1543, 'bank': 1544, 'began': 1545, 'shadow': 1546, 'princ': 1547, 'parodi': 1548, 'pre': 1549, 'friendship': 1550, 'weapon': 1551, 'credibl': 1552, 'taylor': 1553, 'teach': 1554, 'dougla': 1555, 'flesh': 1556, 'bloodi': 1557, 'hint': 1558, 'protect': 1559, 'terror': 1560, 'marvel': 1561, 'load': 1562, 'anybodi': 1563, 'drunk': 1564, 'accord': 1565, 'leader': 1566, 'watchabl': 1567, 'superman': 1568, 'freddi': 1569, 'brown': 1570, 'appropri': 1571, 'jeff': 1572, 'seat': 1573, 'tim': 1574, 'hitler': 1575, 'charg': 1576, 'knock': 1577, 'unknown': 1578, 'villag': 1579, 'keaton': 1580, 'enemi': 1581, 'england': 1582, 'unnecessari': 1583, 'empti': 1584, 'media': 1585, 'craft': 1586, 'dare': 1587, 'perspect': 1588, 'utter': 1589, 'strength': 1590, 'buck': 1591, 'wave': 1592, 'kiss': 1593, 'correct': 1594, 'nativ': 1595, 'contrast': 1596, 'ford': 1597, 'chill': 1598, 'speed': 1599, 'anywher': 1600, 'nazi': 1601, 'soap': 1602, 'knowledg': 1603, 'magnific': 1604, 'distract': 1605, '1980': 1606, 'mission': 1607, 'breath': 1608, 'ice': 1609, 'fred': 1610, 'crowd': 1611, 'moon': 1612, 'jr': 1613, 'joan': 1614, 'kate': 1615, 'soft': 1616, 'frighten': 1617, '000': 1618, 'dan': 1619, 'nick': 1620, 'dick': 1621, 'hundr': 1622, 'dozen': 1623, 'simon': 1624, 'radio': 1625, 'somebodi': 1626, 'andrew': 1627, 'academi': 1628, 'loss': 1629, 'shakespear': 1630, 'thousand': 1631, 'sum': 1632, 'root': 1633, 'quot': 1634, 'account': 1635, 'vehicl': 1636, '1970': 1637, 'leg': 1638, 'behavior': 1639, 'convent': 1640, 'regular': 1641, 'gold': 1642, 'demand': 1643, 'worker': 1644, 'compet': 1645, 'pretenti': 1646, 'privat': 1647, 'candi': 1648, 'explos': 1649, 'stretch': 1650, 'notabl': 1651, 'lynch': 1652, 'japan': 1653, 'interpret': 1654, 'tarzan': 1655, 'debut': 1656, 'constant': 1657, 'spi': 1658, 'sea': 1659, 'translat': 1660, 'prais': 1661, 'revolv': 1662, 'ass': 1663, 'sat': 1664, 'technolog': 1665, 'quiet': 1666, 'franc': 1667, 'failur': 1668, 'threaten': 1669, 'jesu': 1670, 'toy': 1671, 'higher': 1672, 'punch': 1673, 'met': 1674, 'kevin': 1675, 'aid': 1676, 'vh': 1677, 'interact': 1678, 'abandon': 1679, 'mike': 1680, 'command': 1681, 'bet': 1682, 'confront': 1683, 'separ': 1684, 'recal': 1685, 'servic': 1686, 'gotten': 1687, 'techniqu': 1688, 'stunt': 1689, 'site': 1690, 'belong': 1691, 'cabl': 1692, 'freak': 1693, 'bug': 1694, 'foot': 1695, 'jimmi': 1696, 'african': 1697, 'fu': 1698, 'capabl': 1699, 'bright': 1700, 'fat': 1701, 'stock': 1702, 'presid': 1703, 'clark': 1704, 'succeed': 1705, 'boat': 1706, 'spanish': 1707, 'structur': 1708, 'gene': 1709, 'paper': 1710, 'kidnap': 1711, 'belief': 1712, 'factor': 1713, 'whilst': 1714, 'tree': 1715, 'complic': 1716, 'educ': 1717, 'realism': 1718, 'witti': 1719, 'attend': 1720, 'realis': 1721, 'bob': 1722, 'broken': 1723, 'finest': 1724, 'assist': 1725, 'santa': 1726, 'smoke': 1727, 'v': 1728, 'determin': 1729, 'up': 1730, 'observ': 1731, 'depart': 1732, 'routin': 1733, 'hat': 1734, 'lewi': 1735, 'oper': 1736, 'domin': 1737, 'rubbish': 1738, 'fame': 1739, 'morgan': 1740, 'safe': 1741, 'hook': 1742, 'lone': 1743, 'foreign': 1744, 'kinda': 1745, 'advanc': 1746, 'numer': 1747, 'rank': 1748, 'werewolf': 1749, 'civil': 1750, 'rose': 1751, 'shallow': 1752, 'shape': 1753, 'washington': 1754, 'vs': 1755, 'gari': 1756, 'morn': 1757, 'winner': 1758, 'kong': 1759, 'accomplish': 1760, 'ordinari': 1761, 'grab': 1762, 'peac': 1763, 'virtual': 1764, 'whenev': 1765, 'h': 1766, 'offens': 1767, 'luck': 1768, 'activ': 1769, 'bigger': 1770, 'welcom': 1771, 'contriv': 1772, 'patient': 1773, 'complain': 1774, 'unfunni': 1775, 'con': 1776, 'dimension': 1777, 'pretend': 1778, 'trek': 1779, 'flash': 1780, 'lesbian': 1781, 'code': 1782, 'eric': 1783, 'dri': 1784, 'wake': 1785, 'cain': 1786, 'corrupt': 1787, 'dancer': 1788, 'manipul': 1789, 'statu': 1790, 'guard': 1791, 'albert': 1792, 'signific': 1793, 'context': 1794, 'awkward': 1795, 'speech': 1796, 'gain': 1797, 'sourc': 1798, 'psycho': 1799, '13': 1800, 'clip': 1801, 'anthoni': 1802, 'corni': 1803, 'sean': 1804, 'w': 1805, 'advic': 1806, 'reli': 1807, 'priest': 1808, 'curiou': 1809, 'theatric': 1810, 'religion': 1811, 'addict': 1812, 'flow': 1813, 'jennif': 1814, 'howard': 1815, 'asian': 1816, 'specif': 1817, 'secur': 1818, 'skin': 1819, 'luke': 1820, 'organ': 1821, 'golden': 1822, 'comfort': 1823, 'promot': 1824, 'core': 1825, 'cash': 1826, 'cheat': 1827, 'lucki': 1828, 'associ': 1829, 'lower': 1830, 'dislik': 1831, 'regret': 1832, 'wing': 1833, 'frequent': 1834, 'contribut': 1835, 'degre': 1836, 'balanc': 1837, 'frankli': 1838, 'spell': 1839, 'devic': 1840, 'lake': 1841, 'forgiv': 1842, 'sake': 1843, 'print': 1844, 'thoma': 1845, 'betti': 1846, 'mass': 1847, 'unexpect': 1848, 'gordon': 1849, 'crack': 1850, 'amateur': 1851, 'unfold': 1852, 'categori': 1853, 'construct': 1854, 'invit': 1855, 'depend': 1856, 'grown': 1857, 'matur': 1858, 'walter': 1859, 'grew': 1860, 'intellectu': 1861, 'honor': 1862, 'condit': 1863, 'anna': 1864, 'mirror': 1865, 'spectacular': 1866, 'sudden': 1867, 'sole': 1868, 'veteran': 1869, 'grip': 1870, 'demonstr': 1871, 'gift': 1872, 'card': 1873, 'experienc': 1874, 'robin': 1875, 'meanwhil': 1876, 'liner': 1877, 'overli': 1878, 'freedom': 1879, 'sheriff': 1880, 'circumst': 1881, 'section': 1882, 'subtitl': 1883, 'crappi': 1884, 'brilliantli': 1885, 'colour': 1886, 'theori': 1887, 'unabl': 1888, 'oliv': 1889, 'drew': 1890, 'path': 1891, 'sheer': 1892, 'matt': 1893, 'cook': 1894, 'parker': 1895, 'laughter': 1896, 'altern': 1897, 'pile': 1898, 'relief': 1899, 'lawyer': 1900, 'accident': 1901, 'defin': 1902, 'wander': 1903, 'hall': 1904, 'treatment': 1905, 'sinatra': 1906, 'dragon': 1907, 'hank': 1908, 'captiv': 1909, 'moor': 1910, 'halloween': 1911, 'gratuit': 1912, 'cowboy': 1913, 'wayn': 1914, 'unintent': 1915, 'kung': 1916, 'k': 1917, 'wound': 1918, 'barbara': 1919, 'jacki': 1920, 'broadway': 1921, 'statement': 1922, 'canadian': 1923, 'spoof': 1924, 'surreal': 1925, 'winter': 1926, 'cheer': 1927, 'fare': 1928, 'fish': 1929, 'treasur': 1930, 'gonna': 1931, 'compos': 1932, 'victor': 1933, 'emerg': 1934, 'unrealist': 1935, 'sensit': 1936, 'woodi': 1937, 'ran': 1938, 'driven': 1939, 'neighbor': 1940, 'sympathet': 1941, 'overlook': 1942, 'authent': 1943, 'expos': 1944, 'topic': 1945, 'glass': 1946, 'menac': 1947, 'michel': 1948, 'handsom': 1949, 'gross': 1950, 'chief': 1951, 'ancient': 1952, 'stranger': 1953, 'nevertheless': 1954, 'network': 1955, 'feet': 1956, 'cinderella': 1957, 'comedian': 1958, 'russel': 1959, 'built': 1960, 'pleasant': 1961, 'contemporari': 1962, 'blockbust': 1963, 'gori': 1964, 'underr': 1965, 'letter': 1966, 'consider': 1967, 'miser': 1968, 'endless': 1969, 'earn': 1970, 'solv': 1971, 'switch': 1972, 'brook': 1973, 'victoria': 1974, 'convict': 1975, 'bullet': 1976, 'joseph': 1977, 'edward': 1978, 'virgin': 1979, 'scale': 1980, 'cynic': 1981, 'chosen': 1982, '0': 1983, 'scenario': 1984, 'alex': 1985, 'curs': 1986, 'gut': 1987, 'outrag': 1988, 'sword': 1989, 'com': 1990, 'juli': 1991, 'monkey': 1992, 'driver': 1993, 'proper': 1994, 'wrap': 1995, 'uk': 1996, 'substanc': 1997, 'screenwrit': 1998, 'remov': 1999, 'court': 2000, 'par': 2001, 'bird': 2002, 'indic': 2003, 'rental': 2004, 'consequ': 2005, 'inevit': 2006, 'naiv': 2007, 'nanci': 2008, 'loser': 2009, 'advertis': 2010, 'roy': 2011, 'grave': 2012, 'brave': 2013, 'fatal': 2014, 'germani': 2015, 'le': 2016, 'slap': 2017, 'bridg': 2018, 'invis': 2019, 'anger': 2020, 'loui': 2021, 'footbal': 2022, 'ador': 2023, 'provok': 2024, 'alcohol': 2025, 'chan': 2026, 'anderson': 2027, 'professor': 2028, 'ryan': 2029, 'stumbl': 2030, 'willi': 2031, 'assassin': 2032, 'australian': 2033, 'bat': 2034, 'sharp': 2035, 'patrick': 2036, '1930': 2037, 'eight': 2038, 'refresh': 2039, 'cell': 2040, 'lousi': 2041, 'deni': 2042, 'ape': 2043, 'heck': 2044, 'strongli': 2045, 'trilog': 2046, 'liber': 2047, 'amateurish': 2048, 'saturday': 2049, 'sin': 2050, 'justifi': 2051, 'san': 2052, 'vagu': 2053, 'resid': 2054, 'indi': 2055, 'reput': 2056, 'sympathi': 2057, 'defeat': 2058, 'creator': 2059, 'terrifi': 2060, 'mini': 2061, 'prevent': 2062, 'tediou': 2063, 'task': 2064, 'tabl': 2065, 'expert': 2066, 'endur': 2067, 'basebal': 2068, 'trial': 2069, 'imit': 2070, 'offend': 2071, 'che': 2072, 'employ': 2073, 'rival': 2074, 'max': 2075, 'weekend': 2076, 'complaint': 2077, 'beach': 2078, 'fairi': 2079, 'pitch': 2080, 'dig': 2081, 'europ': 2082, 'murphi': 2083, 'purchas': 2084, 'format': 2085, 'risk': 2086, 'glimps': 2087, 'reminisc': 2088, 'tini': 2089, 'bite': 2090, 'hype': 2091, 'powel': 2092, 'nois': 2093, 'harsh': 2094, 'titan': 2095, '14': 2096, 'north': 2097, 'asleep': 2098, 'till': 2099, 'strip': 2100, 'prime': 2101, 'fals': 2102, 'revel': 2103, 'texa': 2104, 'descript': 2105, 'africa': 2106, 'destruct': 2107, 'arrest': 2108, 'inner': 2109, 'excess': 2110, 'surfac': 2111, 'spin': 2112, 'semi': 2113, 'uninterest': 2114, 'sitcom': 2115, 'hitchcock': 2116, 'controversi': 2117, 'twin': 2118, 'massiv': 2119, 'argu': 2120, 'makeup': 2121, 'dinosaur': 2122, 'maintain': 2123, 'expens': 2124, 'insist': 2125, 'ludicr': 2126, 'stare': 2127, 'reject': 2128, 'ideal': 2129, 'melodrama': 2130, 'kim': 2131, 'host': 2132, 'nail': 2133, 'forest': 2134, 'erot': 2135, 'ga': 2136, 'ala': 2137, 'press': 2138, 'supernatur': 2139, 'atroci': 2140, 'subplot': 2141, 'columbo': 2142, 'notch': 2143, 'dude': 2144, 'identifi': 2145, 'cant': 2146, 'presum': 2147, 'character': 2148, 'guest': 2149, 'plagu': 2150, 'forgett': 2151, 'method': 2152, 'crude': 2153, 'closer': 2154, 'beast': 2155, 'ear': 2156, 'princess': 2157, 'border': 2158, 'foster': 2159, 'landscap': 2160, 'lion': 2161, 'damag': 2162, 'accus': 2163, 'pacino': 2164, 'bound': 2165, 'previous': 2166, 'birth': 2167, 'storytel': 2168, 'urban': 2169, 'aunt': 2170, 'jungl': 2171, 'emma': 2172, 'thirti': 2173, 'propaganda': 2174, 'chose': 2175, 'nude': 2176, 'guid': 2177, 'doll': 2178, 'jess': 2179, 'warrior': 2180, '25': 2181, 'mate': 2182, 'whoever': 2183, 'mainstream': 2184, 'pet': 2185, 'cooper': 2186, 'poster': 2187, 'exact': 2188, 'latest': 2189, 'friday': 2190, 'merit': 2191, 'size': 2192, 'upset': 2193, 'gritti': 2194, 'deadli': 2195, 'ton': 2196, 'settl': 2197, '1990': 2198, 'citizen': 2199, 'blend': 2200, 'contest': 2201, 'sun': 2202, 'popul': 2203, 'buff': 2204, 'warner': 2205, 'corps': 2206, 'wilson': 2207, 'rough': 2208, 'contact': 2209, 'overcom': 2210, 'widow': 2211, 'metal': 2212, 'alic': 2213, 'bu': 2214, 'rat': 2215, 'pitt': 2216, 'select': 2217, 'mgm': 2218, 'environ': 2219, 'guilti': 2220, 'revolut': 2221, 'lift': 2222, 'particip': 2223, 'link': 2224, 'ted': 2225, 'afternoon': 2226, 'corner': 2227, '1960': 2228, 'matrix': 2229, 'exagger': 2230, 'prostitut': 2231, 'accompani': 2232, 'moron': 2233, 'johnson': 2234, 'corpor': 2235, 'sincer': 2236, 'friendli': 2237, 'hood': 2238, 'clair': 2239, 'holm': 2240, 'doom': 2241, 'instal': 2242, 'multipl': 2243, 'leagu': 2244, 'blah': 2245, 'irish': 2246, 'grim': 2247, 'junk': 2248, 'advis': 2249, 'aka': 2250, 'sunday': 2251, 'hip': 2252, 'examin': 2253, 'defend': 2254, 'campi': 2255, 'string': 2256, 'lugosi': 2257, 'rachel': 2258, 'icon': 2259, 'tight': 2260, 'confid': 2261, 'pro': 2262, 'shut': 2263, 'varieti': 2264, 'shake': 2265, 'sullivan': 2266, 'attach': 2267, 'mexican': 2268, 'goal': 2269, 'medic': 2270, 'directli': 2271, 'denni': 2272, 'jaw': 2273, 'breast': 2274, 'sarah': 2275, 'dean': 2276, 'sentenc': 2277, 'vietnam': 2278, 'courag': 2279, 'prior': 2280, 'terrorist': 2281, 'legendari': 2282, 'duke': 2283, 'truck': 2284, 'bourn': 2285, 'entri': 2286, 'nose': 2287, 'hong': 2288, 'donald': 2289, 'behav': 2290, 'proceed': 2291, 'split': 2292, 'un': 2293, 'yell': 2294, 'unconvinc': 2295, 'stolen': 2296, 'borrow': 2297, 'gather': 2298, 'jerk': 2299, 'forth': 2300, 'crush': 2301, 'concentr': 2302, 'confess': 2303, 'swim': 2304, 'everywher': 2305, 'lifetim': 2306, 'buri': 2307, 'california': 2308, 'lip': 2309, 'spite': 2310, 'turkey': 2311, 'deliveri': 2312, 'julia': 2313, 'pan': 2314, 'flight': 2315, 'freeman': 2316, 'hoffman': 2317, 'reward': 2318, 'downright': 2319, 'offici': 2320, 'quest': 2321, 'proud': 2322, 'china': 2323, 'jon': 2324, 'sir': 2325, 'inept': 2326, 'worthwhil': 2327, 'lazi': 2328, 'notori': 2329, 'sink': 2330, 'betray': 2331, 'jail': 2332, 'fabul': 2333, 'encourag': 2334, 'fade': 2335, 'relev': 2336, 'bag': 2337, 'imageri': 2338, 'shower': 2339, 'survivor': 2340, 'retard': 2341, 'lisa': 2342, 'branagh': 2343, 'teeth': 2344, 'cousin': 2345, 'storm': 2346, 'susan': 2347, 'bell': 2348, 'shark': 2349, 'finger': 2350, 'toler': 2351, 'stab': 2352, 'alright': 2353, 'facial': 2354, 'trade': 2355, 'tremend': 2356, 'quirki': 2357, 'bride': 2358, 'mexico': 2359, 'hugh': 2360, 'summari': 2361, 'pose': 2362, 'blown': 2363, 'von': 2364, 'hyster': 2365, 'bitter': 2366, 'ha': 2367, 'cruel': 2368, 'christ': 2369, 'ron': 2370, 'afterward': 2371, 'bone': 2372, 'scheme': 2373, 'ned': 2374, 'address': 2375, 'larri': 2376, 'screw': 2377, 'pursu': 2378, 'distinct': 2379, 'thumb': 2380, 'tour': 2381, 'swear': 2382, 'beg': 2383, 'snake': 2384, 'traci': 2385, 'feed': 2386, 'occas': 2387, 'mechan': 2388, 'photo': 2389, 'obscur': 2390, 'stomach': 2391, 'chair': 2392, 'raw': 2393, 'argument': 2394, 'cabin': 2395, 'necessarili': 2396, 'hardi': 2397, 'chain': 2398, 'sidney': 2399, 'holiday': 2400, 'heavili': 2401, 'southern': 2402, 'render': 2403, 'gruesom': 2404, 'resist': 2405, 'indulg': 2406, 'satan': 2407, 'racist': 2408, 'india': 2409, 'philip': 2410, 'understood': 2411, 'midnight': 2412, 'fourth': 2413, 'stalk': 2414, 'integr': 2415, 'outfit': 2416, 'forgot': 2417, 'obnoxi': 2418, 'lay': 2419, 'tongu': 2420, 'belov': 2421, 'pregnant': 2422, 'restor': 2423, 'carol': 2424, 'ticket': 2425, 'magazin': 2426, 'slapstick': 2427, 'inhabit': 2428, '17': 2429, 'deeper': 2430, 'garden': 2431, 'devot': 2432, 'shoe': 2433, 'brad': 2434, 'incid': 2435, 'lincoln': 2436, 'lili': 2437, 'maria': 2438, 'guarante': 2439, 'sandler': 2440, 'elizabeth': 2441, 'divorc': 2442, 'anticip': 2443, 'underground': 2444, 'disbelief': 2445, 'benefit': 2446, 'amazingli': 2447, 'explod': 2448, 'creation': 2449, 'greater': 2450, 'slave': 2451, 'cring': 2452, 'mildli': 2453, 'princip': 2454, 'capit': 2455, 'bbc': 2456, 'introduct': 2457, 'funnier': 2458, 'extraordinari': 2459, 'halfway': 2460, 'lesli': 2461, 'transfer': 2462, 'punish': 2463, 'enhanc': 2464, 'extent': 2465, 'overwhelm': 2466, 'tap': 2467, 'text': 2468, 'advantag': 2469, 'wreck': 2470, 'plant': 2471, 'preview': 2472, 'error': 2473, 'deliber': 2474, 'lane': 2475, 'lo': 2476, 'jessica': 2477, 'horrif': 2478, 'dynam': 2479, 'east': 2480, 'miller': 2481, 'vincent': 2482, 'vacat': 2483, '2000': 2484, 'homosexu': 2485, 'ensu': 2486, 'miscast': 2487, 'sophist': 2488, 'basi': 2489, 'appli': 2490, 'spoken': 2491, 'bollywood': 2492, 'steel': 2493, 'uncomfort': 2494, 'extend': 2495, 'via': 2496, 'mansion': 2497, 'measur': 2498, 'reed': 2499, 'elev': 2500, 'sleazi': 2501, 'cathol': 2502, 'hippi': 2503, 'stanley': 2504, 'overact': 2505, 'beer': 2506, 'savag': 2507, 'dentist': 2508, 'mous': 2509, 'melt': 2510, 'fix': 2511, 'breathtak': 2512, 'conceiv': 2513, 'goofi': 2514, 'assign': 2515, 'alter': 2516, 'daili': 2517, 'blair': 2518, 'everyday': 2519, 'inspector': 2520, 'subsequ': 2521, 'properli': 2522, 'oppos': 2523, 'nowaday': 2524, 'burt': 2525, 'carpent': 2526, 'succe': 2527, 'sacrific': 2528, 'massacr': 2529, 'laura': 2530, 'circl': 2531, 'neck': 2532, 'block': 2533, 'mob': 2534, 'fallen': 2535, 'pool': 2536, 'access': 2537, 'christi': 2538, 'lesser': 2539, 'seagal': 2540, 'portrait': 2541, 'grey': 2542, 'fay': 2543, 'concert': 2544, 'jake': 2545, 'competit': 2546, 'relax': 2547, 'chees': 2548, 'usa': 2549, 'isol': 2550, 'jewish': 2551, 'sinist': 2552, 'react': 2553, '2006': 2554, 'appal': 2555, 'suitabl': 2556, 'spiritu': 2557, 'creep': 2558, 'stink': 2559, 'nine': 2560, 'chop': 2561, 'nonetheless': 2562, 'lyric': 2563, 'immens': 2564, 'ironi': 2565, 'rage': 2566, 'luci': 2567, 'adopt': 2568, 'shirt': 2569, 'retir': 2570, 'user': 2571, 'needless': 2572, 'navi': 2573, 'nut': 2574, 'reduc': 2575, 'showcas': 2576, 'spring': 2577, 'franchis': 2578, 'sold': 2579, 'bath': 2580, 'jay': 2581, 'per': 2582, 'bulli': 2583, 'stanwyck': 2584, 'nurs': 2585, 'asham': 2586, 'digit': 2587, 'uninspir': 2588, 'zone': 2589, 'amongst': 2590, 'sutherland': 2591, 'illustr': 2592, '1940': 2593, '2001': 2594, 'oddli': 2595, 'broadcast': 2596, 'upper': 2597, 'laid': 2598, 'baker': 2599, 'stylish': 2600, 'aspir': 2601, 'throat': 2602, 'fulfil': 2603, 'disguis': 2604, 'brando': 2605, 'endear': 2606, 'wwii': 2607, 'wanna': 2608, 'nobl': 2609, 'thief': 2610, 'pound': 2611, 'impli': 2612, 'pride': 2613, 'em': 2614, '18': 2615, 'neighborhood': 2616, 'albeit': 2617, 'bo': 2618, 'diseas': 2619, 'tens': 2620, '16': 2621, 'shift': 2622, 'dinner': 2623, 'bett': 2624, 'cinematograph': 2625, 'prop': 2626, 'distribut': 2627, 'coher': 2628, 'shoulder': 2629, 'dawn': 2630, 'rochest': 2631, 'wash': 2632, 'knife': 2633, 'function': 2634, 'silenc': 2635, 'forti': 2636, 'shout': 2637, 'rebel': 2638, 'matthau': 2639, 'poignant': 2640, 'snow': 2641, 'contract': 2642, 'surf': 2643, 'instinct': 2644, 'proof': 2645, 'reunion': 2646, 'chuck': 2647, 'henc': 2648, 'horrend': 2649, 'silver': 2650, 'mindless': 2651, 'duti': 2652, 'cancel': 2653, 'internet': 2654, 'cannib': 2655, 'height': 2656, 'derek': 2657, 'elvira': 2658, 'heat': 2659, 'widmark': 2660, 'eeri': 2661, 'etern': 2662, 'innov': 2663, 'mill': 2664, 'pie': 2665, 'neat': 2666, 'premier': 2667, 'spielberg': 2668, 'greatli': 2669, 'alik': 2670, 'incoher': 2671, 'torn': 2672, 'glori': 2673, 'elvi': 2674, 'absorb': 2675, 'musician': 2676, 'repetit': 2677, 'announc': 2678, 'blank': 2679, 'racism': 2680, 'diamond': 2681, 'bang': 2682, 'redempt': 2683, 'precis': 2684, 'homag': 2685, 'crisi': 2686, 'horrifi': 2687, 'lovabl': 2688, 'infam': 2689, 'wealthi': 2690, 'britain': 2691, 'itali': 2692, 'fbi': 2693, 'nelson': 2694, 'trite': 2695, 'burton': 2696, 'happili': 2697, 'hammer': 2698, 'flop': 2699, 'parallel': 2700, 'pat': 2701, 'helen': 2702, 'chaplin': 2703, 'dedic': 2704, 'streisand': 2705, 'ensembl': 2706, 'resolut': 2707, 'wilder': 2708, 'factori': 2709, 'oil': 2710, 'plastic': 2711, 'cube': 2712, 'st': 2713, 'triumph': 2714, 'mar': 2715, 'conclud': 2716, 'broke': 2717, 'disagre': 2718, 'carter': 2719, 'bush': 2720, 'climb': 2721, 'own': 2722, 'vega': 2723, 'weight': 2724, 'march': 2725, 'fighter': 2726, 'chuckl': 2727, 'rocket': 2728, 'row': 2729, 'boot': 2730, 'enorm': 2731, 'lust': 2732, 'thug': 2733, 'wherea': 2734, 'dane': 2735, 'luca': 2736, 'spare': 2737, 'unforgett': 2738, 'dump': 2739, 'kurt': 2740, 'sensibl': 2741, 'meaning': 2742, 'mst3k': 2743, 'dear': 2744, 'adequ': 2745, 'difficulti': 2746, 'rap': 2747, 'fifti': 2748, 'butt': 2749, 'arnold': 2750, 'bobbi': 2751, 'karloff': 2752, 'caricatur': 2753, 'threat': 2754, 'stress': 2755, 'engin': 2756, 'brand': 2757, 'secretari': 2758, 'homeless': 2759, 'elabor': 2760, 'fest': 2761, 'arrog': 2762, 'journalist': 2763, 'ralph': 2764, 'flynn': 2765, 'barri': 2766, 'ego': 2767, 'polish': 2768, 'swing': 2769, 'hamlet': 2770, 'unbear': 2771, 'simpson': 2772, 'conspiraci': 2773, 'puppet': 2774, 'grate': 2775, 'arrang': 2776, 'spike': 2777, 'induc': 2778, 'resort': 2779, 'float': 2780, 'tool': 2781, 'fanci': 2782, 'cruis': 2783, 'exercis': 2784, 'basement': 2785, 'phillip': 2786, 'pig': 2787, 'tribut': 2788, 'guilt': 2789, 'choreograph': 2790, 'muppet': 2791, 'boll': 2792, 'item': 2793, 'layer': 2794, 'scarecrow': 2795, 'tower': 2796, 'toilet': 2797, '24': 2798, 'file': 2799, 'ward': 2800, 'stan': 2801, 'korean': 2802, 'editor': 2803, 'puzzl': 2804, 'ham': 2805, 'fianc': 2806, 'babe': 2807, 'slip': 2808, 'medium': 2809, 'document': 2810, 'persona': 2811, 'transit': 2812, 'superfici': 2813, 'catherin': 2814, 'doc': 2815, 'larger': 2816, 'minim': 2817, 'spark': 2818, 'territori': 2819, 'slaughter': 2820, 'glover': 2821, 'portion': 2822, 'inexplic': 2823, 'assur': 2824, 'orient': 2825, 'librari': 2826, 'philosoph': 2827, 'denzel': 2828, 'dorothi': 2829, 'boredom': 2830, 'walken': 2831, 'pg': 2832, 'sneak': 2833, 'wolf': 2834, 'jeremi': 2835, 'shi': 2836, 'financi': 2837, 'jet': 2838, 'owe': 2839, 'curti': 2840, 'ban': 2841, 'metaphor': 2842, 'multi': 2843, 'profound': 2844, 'backdrop': 2845, 'ambigu': 2846, 'cusack': 2847, 'eleph': 2848, 'hudson': 2849, 'whale': 2850, 'viru': 2851, 'stiff': 2852, 'hack': 2853, 'implaus': 2854, '2005': 2855, 'birthday': 2856, 'union': 2857, 'notion': 2858, 'ultra': 2859, 'rave': 2860, 'elsewher': 2861, 'gadget': 2862, '1st': 2863, 'eva': 2864, 'canada': 2865, 'slight': 2866, 'bibl': 2867, 'disc': 2868, 'pad': 2869, 'afford': 2870, 'poison': 2871, 'squar': 2872, 'distanc': 2873, 'urg': 2874, 'newspap': 2875, 'lloyd': 2876, 'deriv': 2877, 'hawk': 2878, 'reader': 2879, 'eastwood': 2880, 'superhero': 2881, 'drown': 2882, 'skit': 2883, 'montag': 2884, 'health': 2885, 'restaur': 2886, 'cure': 2887, 'spread': 2888, 'essenc': 2889, 'charisma': 2890, 'huh': 2891, 'button': 2892, 'sadist': 2893, 'heston': 2894, 'gradual': 2895, 'companion': 2896, 'fetch': 2897, 'dealt': 2898, 'scoobi': 2899, 'muslim': 2900, 'invest': 2901, 'lab': 2902, 'maniac': 2903, 'godfath': 2904, 'estat': 2905, 'peak': 2906, 'miik': 2907, 'countless': 2908, 'gothic': 2909, 'cup': 2910, 'tea': 2911, 'alli': 2912, 'servant': 2913, 'subtleti': 2914, 'ritter': 2915, 'kane': 2916, 'salli': 2917, 'iii': 2918, 'electr': 2919, 'elect': 2920, 'charismat': 2921, 'heroic': 2922, 'briefli': 2923, 'reel': 2924, 'bud': 2925, 'wannab': 2926, 'grandmoth': 2927, 'admittedli': 2928, 'nuanc': 2929, 'tender': 2930, 'resourc': 2931, 'neil': 2932, 'ingredi': 2933, 'cole': 2934, 'toss': 2935, 'stood': 2936, 'carrey': 2937, 'pit': 2938, 'label': 2939, 'mafia': 2940, 'shall': 2941, 'mild': 2942, 'reev': 2943, 'gate': 2944, 'poverti': 2945, 'punk': 2946, 'pauli': 2947, 'stronger': 2948, 'kubrick': 2949, 'dawson': 2950, 'useless': 2951, 'cardboard': 2952, 'easier': 2953, 'fond': 2954, 'smooth': 2955, 'tag': 2956, 'burst': 2957, 'updat': 2958, 'cox': 2959, 'assault': 2960, 'smash': 2961, 'terri': 2962, 'ian': 2963, 'outcom': 2964, 'bakshi': 2965, 'astair': 2966, 'exchang': 2967, 'sketch': 2968, 'increasingli': 2969, '2002': 2970, 'rex': 2971, 'fist': 2972, 'qualifi': 2973, 'vulner': 2974, 'resolv': 2975, 'melodramat': 2976, 'samurai': 2977, 'divers': 2978, 'vari': 2979, 'coincid': 2980, 'insert': 2981, 'scratch': 2982, 'tame': 2983, 'conveni': 2984, 'templ': 2985, 'be': 2986, 'blast': 2987, 'reynold': 2988, 'brillianc': 2989, 'luckili': 2990, 'suspend': 2991, 'farm': 2992, 'walker': 2993, 'strictli': 2994, 'fisher': 2995, 'pin': 2996, 'matthew': 2997, 'soprano': 2998, 'hamilton': 2999, 'gotta': 3000, 'meat': 3001, 'ambiti': 3002, 'seventi': 3003, 'jami': 3004, 'coach': 3005, 'nuclear': 3006, 'struck': 3007, 'recreat': 3008, 'closet': 3009, 'convolut': 3010, 'cave': 3011, 'grasp': 3012, 'butcher': 3013, 'monk': 3014, 'instantli': 3015, 'ninja': 3016, 'discoveri': 3017, 'revers': 3018, 'clock': 3019, 'kudo': 3020, 'spooki': 3021, 'eccentr': 3022, 'worthless': 3023, 'empir': 3024, 'timeless': 3025, 'joey': 3026, 'brosnan': 3027, 'eighti': 3028, 'clown': 3029, 'inconsist': 3030, 'bleak': 3031, 'communist': 3032, 'importantli': 3033, 'selfish': 3034, 'miracl': 3035, 'declar': 3036, 'sloppi': 3037, 'pal': 3038, 'gray': 3039, 'sidekick': 3040, 'partli': 3041, 'fifteen': 3042, 'evok': 3043, 'norman': 3044, 'wipe': 3045, 'seller': 3046, 'cliff': 3047, 'mitchel': 3048, 'lifestyl': 3049, 'seed': 3050, 'destin': 3051, '45': 3052, 'aforement': 3053, 'superbl': 3054, 'cheek': 3055, 'flawless': 3056, 'ho': 3057, 'websit': 3058, 'psychiatrist': 3059, 'enthusiast': 3060, 'debat': 3061, 'stoog': 3062, 'farc': 3063, 'piano': 3064, 'chew': 3065, 'australia': 3066, 'anni': 3067, 'incompet': 3068, 'bash': 3069, 'emili': 3070, 'akshay': 3071, 'dire': 3072, 'abc': 3073, 'drivel': 3074, 'dash': 3075, 'wick': 3076, 'slice': 3077, 'soviet': 3078, 'regardless': 3079, 'wrestl': 3080, 'splatter': 3081, 'directori': 3082, 'pressur': 3083, 'kitchen': 3084, 'doo': 3085, 'flower': 3086, 'recov': 3087, 'mann': 3088, 'curios': 3089, 'cia': 3090, 'duo': 3091, 'seduc': 3092, 'artifici': 3093, 'dave': 3094, 'distant': 3095, 'lou': 3096, 'pleasantli': 3097, 'suppli': 3098, 'glow': 3099, 'ken': 3100, 'boil': 3101, 'judi': 3102, 'increas': 3103, 'beaten': 3104, 'jar': 3105, 'prize': 3106, 'helicopt': 3107, 'blob': 3108, 'cagney': 3109, 'cameron': 3110, 'chapter': 3111, 'craven': 3112, 'craig': 3113, 'turner': 3114, 'ranger': 3115, 'psychot': 3116, 'laurel': 3117, 'web': 3118, 'panic': 3119, 'drunken': 3120, 'hop': 3121, 'combat': 3122, 'glenn': 3123, 'ellen': 3124, 'eleg': 3125, 'favour': 3126, 'goldberg': 3127, 'splendid': 3128, 'perri': 3129, 'francisco': 3130, 'rid': 3131, 'graduat': 3132, 'flip': 3133, '20th': 3134, 'hatr': 3135, 'wizard': 3136, 'falk': 3137, 'plausibl': 3138, 'min': 3139, 'fx': 3140, 'gentl': 3141, 'philosophi': 3142, 'slightest': 3143, 'shortli': 3144, 'ruth': 3145, 'modesti': 3146, 'alexand': 3147, 'greek': 3148, 'gandhi': 3149, 'we': 3150, 'tall': 3151, 'holi': 3152, 'futurist': 3153, 'preciou': 3154, 'harm': 3155, 'jealou': 3156, 'legal': 3157, 'fund': 3158, 'unpleas': 3159, 'lend': 3160, 'dracula': 3161, 'felix': 3162, 'ocean': 3163, 'knight': 3164, 'manhattan': 3165, 'childish': 3166, 'explicit': 3167, 'overdon': 3168, 'forbidden': 3169, 'thread': 3170, 'bless': 3171, 'nod': 3172, 'mock': 3173, 'giallo': 3174, 'digniti': 3175, 'tank': 3176, 'ami': 3177, 'reviv': 3178, 'scientif': 3179, 'verhoeven': 3180, 'yesterday': 3181, 'broad': 3182, 'fever': 3183, 'unwatch': 3184, 'torment': 3185, 'mel': 3186, '2004': 3187, 'thick': 3188, 'pirat': 3189, 'margaret': 3190, 'repeatedli': 3191, 'awe': 3192, '99': 3193, 'eve': 3194, 'nerv': 3195, 'elderli': 3196, 'awaken': 3197, 'uniform': 3198, 'ambit': 3199, 'ah': 3200, 'absenc': 3201, 'politician': 3202, 'stiller': 3203, 'custom': 3204, 'eas': 3205, 'lean': 3206, 'romero': 3207, 'automat': 3208, 'timothi': 3209, 'bin': 3210, 'royal': 3211, 'roman': 3212, 'publish': 3213, 'griffith': 3214, 'acclaim': 3215, 'launch': 3216, 'rivet': 3217, 'kay': 3218, 'gabriel': 3219, 'crook': 3220, 'pierc': 3221, 'transport': 3222, 'stinker': 3223, 'wallac': 3224, 'foul': 3225, 'darker': 3226, 'antic': 3227, 'termin': 3228, 'homicid': 3229, 'pulp': 3230, 'warren': 3231, 'phrase': 3232, 'tomato': 3233, 'purpl': 3234, 'sunshin': 3235, 'bathroom': 3236, 'brazil': 3237, 'packag': 3238, 'contrari': 3239, 'awak': 3240, 'hollow': 3241, 'saint': 3242, 'album': 3243, 'q': 3244, 'sixti': 3245, 'rambo': 3246, 'evolv': 3247, 'revolutionari': 3248, 'kenneth': 3249, 'ought': 3250, 'marin': 3251, 'viciou': 3252, '2003': 3253, 'karen': 3254, 'li': 3255, 'coloni': 3256, 'choreographi': 3257, 'pray': 3258, 'juvenil': 3259, 'eyr': 3260, 'horrid': 3261, 'donna': 3262, 'prom': 3263, 'boast': 3264, 'ireland': 3265, 'mummi': 3266, 'nerd': 3267, 'ramon': 3268, 'candid': 3269, 'defi': 3270, 'kapoor': 3271, 'overr': 3272, 'stole': 3273, 'twelv': 3274, 'conserv': 3275, 'dose': 3276, 'option': 3277, 'blade': 3278, 'mildr': 3279, 'beatti': 3280, 'trio': 3281, 'funer': 3282, 'collabor': 3283, 'flame': 3284, 'fulci': 3285, 'astonish': 3286, 'kirk': 3287, 'jazz': 3288, 'global': 3289, 'protest': 3290, 'natali': 3291, 'confirm': 3292, 'detract': 3293, 'altman': 3294, 'delici': 3295, 'whip': 3296, 'racial': 3297, 'yellow': 3298, 'mystic': 3299, 'audio': 3300, 'bull': 3301, 'leap': 3302, 'spit': 3303, 'tommi': 3304, 'enterpris': 3305, 'nicholson': 3306, 'shade': 3307, 'blake': 3308, 'bottl': 3309, 'destini': 3310, 'popcorn': 3311, 'neo': 3312, 'bedroom': 3313, 'threw': 3314, 'enchant': 3315, 'staff': 3316, 'merci': 3317, 'fonda': 3318, 'adolesc': 3319, 'reunit': 3320, 'meaningless': 3321, 'pseudo': 3322, 'harder': 3323, 'inherit': 3324, 'swedish': 3325, 'visibl': 3326, 'altogeth': 3327, 'vivid': 3328, 'todd': 3329, 'ruthless': 3330, 'voight': 3331, 'synopsi': 3332, 'madonna': 3333, 'roommat': 3334, 'befriend': 3335, 'jew': 3336, 'bust': 3337, 'tip': 3338, 'wire': 3339, 'lemmon': 3340, 'kennedi': 3341, 'leonard': 3342, 'decor': 3343, 'uneven': 3344, 'fanat': 3345, 'respond': 3346, 'exhibit': 3347, 'await': 3348, 'moodi': 3349, 'lawrenc': 3350, 'edi': 3351, 'suspici': 3352, 'atlanti': 3353, 'crocodil': 3354, 'reserv': 3355, 'audit': 3356, 'chao': 3357, 'abysm': 3358, 'bargain': 3359, '2007': 3360, 'ventur': 3361, 'unsettl': 3362, 'rural': 3363, 'clumsi': 3364, 'clint': 3365, 'incident': 3366, 'garner': 3367, 'dimens': 3368, 'carl': 3369, 'palma': 3370, 'voyag': 3371, 'bold': 3372, 'holli': 3373, 'centr': 3374, 'bradi': 3375, 'poetic': 3376, 'neglect': 3377, 'daddi': 3378, 'humili': 3379, 'imperson': 3380, 'mall': 3381, 'lit': 3382, 'tiger': 3383, '2nd': 3384, 'elimin': 3385, 'characterist': 3386, 'cuba': 3387, 'versu': 3388, 'echo': 3389, 'acknowledg': 3390, 'trail': 3391, 'nearbi': 3392, 'troop': 3393, 'hart': 3394, 'cd': 3395, 'timon': 3396, 'immigr': 3397, 'cari': 3398, 'wealth': 3399, 'ant': 3400, 'pun': 3401, 'saga': 3402, 'solo': 3403, 'collaps': 3404, 'jeffrey': 3405, 'infect': 3406, 'domest': 3407, 'repuls': 3408, 'marshal': 3409, 'homer': 3410, 'prejudic': 3411, 'celluloid': 3412, 'paus': 3413, 'mistaken': 3414, 'mickey': 3415, 'inan': 3416, 'coffe': 3417, 'milk': 3418, 'coat': 3419, 'olivi': 3420, 'apolog': 3421, 'pant': 3422, 'gear': 3423, 'equip': 3424, 'assembl': 3425, 'undoubtedli': 3426, 'inappropri': 3427, 'chest': 3428, 'tribe': 3429, 'harvey': 3430, 'ginger': 3431, 'cake': 3432, 'promin': 3433, 'hbo': 3434, 'leon': 3435, 'sore': 3436, '1996': 3437, 'interrupt': 3438, 'jenni': 3439, 'vulgar': 3440, 'instant': 3441, 'pen': 3442, 'institut': 3443, 'furthermor': 3444, 'embrac': 3445, 'humbl': 3446, 'colonel': 3447, 'colleagu': 3448, 'exot': 3449, 'highest': 3450, 'solut': 3451, 'airplan': 3452, 'maggi': 3453, 'retain': 3454, 'consum': 3455, 'brooklyn': 3456, 'trace': 3457, 'devast': 3458, 'polanski': 3459, 'pot': 3460, 'primari': 3461, 'aveng': 3462, 'florida': 3463, 'sale': 3464, 'dutch': 3465, 'wive': 3466, 'illog': 3467, 'smaller': 3468, 'ya': 3469, '3rd': 3470, 'linda': 3471, 'poke': 3472, 'bowl': 3473, 'principl': 3474, 'gender': 3475, 'descend': 3476, 'disabl': 3477, 'strain': 3478, 'cope': 3479, 'rick': 3480, 'outer': 3481, '1999': 3482, 'godzilla': 3483, 'dian': 3484, 'seduct': 3485, 'primarili': 3486, 'scope': 3487, 'dive': 3488, 'vast': 3489, 'glamor': 3490, 'secondli': 3491, 'inferior': 3492, 'lol': 3493, 'blatant': 3494, 'cue': 3495, 'yard': 3496, 'mixtur': 3497, 'rabbit': 3498, 'devoid': 3499, 'beneath': 3500, 'hal': 3501, 'predecessor': 3502, 'gloriou': 3503, 'bubbl': 3504, 'dud': 3505, 'gundam': 3506, 'casual': 3507, 'countrysid': 3508, 'trademark': 3509, 'alfr': 3510, 'z': 3511, 'aggress': 3512, 'arab': 3513, 'et': 3514, 'myer': 3515, 'simplist': 3516, 'senseless': 3517, 'invas': 3518, 'alert': 3519, 'pearl': 3520, 'shirley': 3521, 'shelf': 3522, 'streep': 3523, 'hideou': 3524, 'museum': 3525, 'talki': 3526, 'breed': 3527, 'disjoint': 3528, 'garbo': 3529, 'april': 3530, 'domino': 3531, 'grinch': 3532, 'hopeless': 3533, 'rendit': 3534, 'khan': 3535, 'applaud': 3536, 'obtain': 3537, 'vanish': 3538, 'unhappi': 3539, 'defens': 3540, 'mail': 3541, 'illeg': 3542, 'mayor': 3543, 'hardcor': 3544, 'slide': 3545, 'maci': 3546, 'stack': 3547, 'oz': 3548, 'robberi': 3549, 'acid': 3550, 'stir': 3551, 'disgrac': 3552, 'sh': 3553, 'robinson': 3554, 'loyal': 3555, 'stellar': 3556, 'experiment': 3557, 'uwe': 3558, 'boom': 3559, 'soccer': 3560, 'blew': 3561, 'dismiss': 3562, 'topless': 3563, 'declin': 3564, 'spider': 3565, 'rifl': 3566, 'recruit': 3567, 'fri': 3568, 'tenant': 3569, 'craze': 3570, 'dicken': 3571, 'diana': 3572, 'span': 3573, 'grandfath': 3574, 'emphasi': 3575, 'incomprehens': 3576, 'counter': 3577, 'wont': 3578, 'amanda': 3579, 'psychic': 3580, 'scroog': 3581, 'hartley': 3582, 'berlin': 3583, 'tempt': 3584, 'sympath': 3585, 'shed': 3586, 'bitch': 3587, 'justin': 3588, 'resurrect': 3589, 'ethnic': 3590, 'trashi': 3591, 'shaw': 3592, 'porno': 3593, 'woo': 3594, 'wet': 3595, 'parad': 3596, 'revolt': 3597, 'riot': 3598, 'goer': 3599, 'lumet': 3600, 'niro': 3601, 'ration': 3602, 'intim': 3603, 'sibl': 3604, 'faster': 3605, 'nephew': 3606, 'andr': 3607, '00': 3608, 'jonathan': 3609, 'ensur': 3610, 'honesti': 3611, 'steam': 3612, 'rider': 3613, 'slick': 3614, 'dealer': 3615, 'mario': 3616, 'wheel': 3617, 'ballet': 3618, 'commend': 3619, 'immort': 3620, 'region': 3621, 'farmer': 3622, 'biographi': 3623, 'hopper': 3624, 'hesit': 3625, 'partial': 3626, 'unreal': 3627, 'gap': 3628, 'worm': 3629, 'weakest': 3630, 'enlighten': 3631, 'lena': 3632, 'patriot': 3633, 'eager': 3634, 'choru': 3635, 'wendi': 3636, 'feminist': 3637, 'psychopath': 3638, 'mutant': 3639, 'repress': 3640, 'kingdom': 3641, 'wore': 3642, 'composit': 3643, 'blunt': 3644, 'sappi': 3645, 'morri': 3646, 'properti': 3647, 'confin': 3648, 'sandra': 3649, 'charlott': 3650, 'skull': 3651, 'owen': 3652, 'vice': 3653, 'snap': 3654, 'prequel': 3655, 'franco': 3656, 'hung': 3657, 'nostalg': 3658, 'safeti': 3659, 'victori': 3660, 'similarli': 3661, 'util': 3662, 'leo': 3663, 'macarthur': 3664, 'drain': 3665, 'tad': 3666, 'exit': 3667, '1972': 3668, 'miseri': 3669, 'repli': 3670, 'farrel': 3671, 'nervou': 3672, 'del': 3673, 'rambl': 3674, 'bow': 3675, 'bumbl': 3676, 'snl': 3677, 'compens': 3678, 'cg': 3679, 'valuabl': 3680, 'latin': 3681, 'rocki': 3682, 'dust': 3683, 'speci': 3684, 'campbel': 3685, 'tail': 3686, 'rope': 3687, 'deed': 3688, 'recycl': 3689, 'despair': 3690, 'drum': 3691, 'bonu': 3692, 'dalton': 3693, 'whoopi': 3694, 'heartbreak': 3695, 'montana': 3696, 'strand': 3697, 'emperor': 3698, 'thru': 3699, 'hyde': 3700, 'bergman': 3701, 'kyle': 3702, 'acquir': 3703, 'pattern': 3704, 'compass': 3705, 'airport': 3706, 'orson': 3707, 'contempl': 3708, 'chess': 3709, 'romp': 3710, 'olli': 3711, 'oppress': 3712, 'martian': 3713, 'percept': 3714, 'carradin': 3715, 'gimmick': 3716, 'bleed': 3717, 'roth': 3718, 'wacki': 3719, '35': 3720, 'downhil': 3721, 'radic': 3722, 'mistress': 3723, 'pour': 3724, 'rotten': 3725, 'tonight': 3726, 'rapist': 3727, 'slug': 3728, 'da': 3729, 'gal': 3730, 'paltrow': 3731, 'slash': 3732, 'dazzl': 3733, 'unpredict': 3734, 'tackl': 3735, 'heal': 3736, 'belt': 3737, 'arc': 3738, 'banal': 3739, 'edgar': 3740, 'attorney': 3741, 'tooth': 3742, 'mislead': 3743, 'pervert': 3744, 'stilt': 3745, 'pursuit': 3746, '1983': 3747, 'taught': 3748, 'programm': 3749, 'preach': 3750, 'pervers': 3751, 'arguabl': 3752, 'melodi': 3753, 'champion': 3754, 'shelley': 3755, 'gambl': 3756, 'conneri': 3757, 'closest': 3758, 'uplift': 3759, 'orang': 3760, 'employe': 3761, 'tiresom': 3762, 'raymond': 3763, 'chicken': 3764, 'plight': 3765, 'mesmer': 3766, 'duval': 3767, 'graham': 3768, 'virginia': 3769, 'vocal': 3770, 'franki': 3771, 'bela': 3772, 'cleverli': 3773, 'passeng': 3774, 'marti': 3775, 'sensat': 3776, 'rubi': 3777, 'poem': 3778, 'maid': 3779, 'vengeanc': 3780, 'dixon': 3781, 'bay': 3782, 'yawn': 3783, 'engross': 3784, 'whine': 3785, 'quarter': 3786, 'volum': 3787, 'inject': 3788, 'calm': 3789, 'secretli': 3790, 'habit': 3791, 'iran': 3792, 'monologu': 3793, 'swallow': 3794, 'tube': 3795, 'paranoia': 3796, 'numb': 3797, 'profan': 3798, 'giggl': 3799, 'scottish': 3800, 'extens': 3801, '1968': 3802, 'suffic': 3803, 'gerard': 3804, 'outing': 3805, 'climact': 3806, 'amitabh': 3807, 'clone': 3808, 'crystal': 3809, 'abraham': 3810, 'lundgren': 3811, 'mute': 3812, 'convincingli': 3813, 'pokemon': 3814, 'sirk': 3815, 'austen': 3816, 'bend': 3817, 'lowest': 3818, 'surpass': 3819, 'fed': 3820, 'ethan': 3821, 'meander': 3822, 'plod': 3823, 'linger': 3824, 'taxi': 3825, 'underst': 3826, 'nichola': 3827, 'trend': 3828, 'poetri': 3829, 'frankenstein': 3830, 'profess': 3831, 'earl': 3832, 'backward': 3833, 'richardson': 3834, 'chicago': 3835, 'septemb': 3836, 'franci': 3837, 'junior': 3838, 'im': 3839, 'abort': 3840, 'dispos': 3841, 'expand': 3842, 'spock': 3843, 'grotesqu': 3844, 'tourist': 3845, 'mundan': 3846, 'greedi': 3847, 'lure': 3848, 'der': 3849, 'stallon': 3850, 'myth': 3851, 'instrument': 3852, 'simplic': 3853, 'sue': 3854, 'nostalgia': 3855, 'econom': 3856, 'household': 3857, 'rant': 3858, 'rubber': 3859, 'catchi': 3860, 'dysfunct': 3861, 'spoke': 3862, 'cannon': 3863, 'eugen': 3864, 'hum': 3865, 'compliment': 3866, 'descent': 3867, 'muddl': 3868, 'waitress': 3869, 'literatur': 3870, 'phantom': 3871, 'equival': 3872, 'recognit': 3873, 'flee': 3874, 'irrelev': 3875, 'dictat': 3876, 'damon': 3877, 'deaf': 3878, 'occupi': 3879, 'phoni': 3880, 'louis': 3881, 'insur': 3882, 'molli': 3883, 'dement': 3884, 'lang': 3885, 'sissi': 3886, 'eaten': 3887, 'coast': 3888, 'carel': 3889, 'recognis': 3890, 'firstli': 3891, 'hello': 3892, 'cent': 3893, 'june': 3894, 'crucial': 3895, 'mortal': 3896, 'furi': 3897, 'stale': 3898, 'mankind': 3899, 'randi': 3900, 'alongsid': 3901, 'duck': 3902, 'bacal': 3903, 'omen': 3904, 'map': 3905, 'loyalti': 3906, 'reign': 3907, 'onlin': 3908, 'labor': 3909, 'drake': 3910, 'grayson': 3911, 'freez': 3912, 'wisdom': 3913, 'rude': 3914, 'cyborg': 3915, 'buffalo': 3916, 'lengthi': 3917, 'bike': 3918, 'distinguish': 3919, 'likewis': 3920, 'damm': 3921, 'ashley': 3922, 'dreari': 3923, '1973': 3924, 'newli': 3925, 'bump': 3926, 'antwon': 3927, 'biko': 3928, 'heel': 3929, 'twilight': 3930, 'daisi': 3931, 'rooney': 3932, 'blackmail': 3933, 'exposur': 3934, 'startl': 3935, 'attribut': 3936, 'worn': 3937, 'emphas': 3938, 'approv': 3939, 'keith': 3940, 'proce': 3941, 'vein': 3942, 'ridden': 3943, 'nineti': 3944, 'incorpor': 3945, 'chronicl': 3946, 'basketbal': 3947, 'inher': 3948, 'unorigin': 3949, 'barrymor': 3950, 'interior': 3951, 'prey': 3952, 'boxer': 3953, 'baddi': 3954, 'butler': 3955, 'analysi': 3956, 'provoc': 3957, 'pink': 3958, 'tunnel': 3959, 'sailor': 3960, 'barrel': 3961, 'substitut': 3962, 'unrel': 3963, 'stalker': 3964, 'belushi': 3965, 'hypnot': 3966, 'carla': 3967, 'mighti': 3968, 'er': 3969, 'drift': 3970, 'bunni': 3971, 'predat': 3972, 'indiffer': 3973, 'julian': 3974, 'millionair': 3975, 'improvis': 3976, 'nicol': 3977, 'mormon': 3978, 'fleet': 3979, 'walsh': 3980, 'robbin': 3981, 'meg': 3982, 'condemn': 3983, 'degrad': 3984, 'undeni': 3985, 'othello': 3986, 'simmon': 3987, 'underli': 3988, 'elm': 3989, 'meyer': 3990, 'firm': 3991, 'lampoon': 3992, 'palac': 3993, 'priceless': 3994, '3d': 3995, 'roof': 3996, 'watson': 3997, 'unawar': 3998, 'greed': 3999, 'edgi': 4000, 'nyc': 4001, 'exquisit': 4002, 'shove': 4003, 'alarm': 4004, 'rukh': 4005, 'errol': 4006, 'vital': 4007, 'disord': 4008, 'agenda': 4009, 'warmth': 4010, 'marion': 4011, 'dolph': 4012, 'hay': 4013, 'enthusiasm': 4014, 'alison': 4015, 'mtv': 4016, 'reid': 4017, 'novak': 4018, 'unleash': 4019, '1933': 4020, 'session': 4021, '13th': 4022, 'sergeant': 4023, 'randomli': 4024, 'angela': 4025, 'distort': 4026, 'profit': 4027, 'petti': 4028, 'beatl': 4029, 'peril': 4030, 'showdown': 4031, 'minimum': 4032, 'nun': 4033, 'what': 4034, 'thompson': 4035, 'pamela': 4036, 'crown': 4037, 'ponder': 4038, 'simultan': 4039, 'preserv': 4040, 'spain': 4041, 'orlean': 4042, 'gestur': 4043, 'eastern': 4044, 'campaign': 4045, 'coup': 4046, 'iraq': 4047, 'glanc': 4048, 'testament': 4049, 'peck': 4050, 'championship': 4051, 'drip': 4052, 'valentin': 4053, 'israel': 4054, 'cassidi': 4055, 'zizek': 4056, '1984': 4057, 'stake': 4058, 'travesti': 4059, 'miyazaki': 4060, 'represent': 4061, 'perpetu': 4062, 'unimagin': 4063, 'reson': 4064, 'scotland': 4065, 'climat': 4066, 'crow': 4067, 'regist': 4068, 'kurosawa': 4069, 'restrain': 4070, 'wig': 4071, 'shootout': 4072, 'empathi': 4073, 'cooki': 4074, 'exposit': 4075, 'mon': 4076, 'gentleman': 4077, 'crawl': 4078, 'realm': 4079, 'sabrina': 4080, 'brenda': 4081, 'cream': 4082, 'stroke': 4083, 'calib': 4084, 'contradict': 4085, 'valley': 4086, 'buster': 4087, 'quinn': 4088, 'han': 4089, 'rout': 4090, 'jan': 4091, 'din': 4092, 'bro': 4093, 'fido': 4094, 'unsatisfi': 4095, 'femm': 4096, 'wax': 4097, 'geek': 4098, 'shaki': 4099, '1987': 4100, 'traumat': 4101, 'passabl': 4102, 'perceiv': 4103, 'pretens': 4104, 'delic': 4105, 'tacki': 4106, 'abomin': 4107, 'ustinov': 4108, 'warrant': 4109, 'cloud': 4110, 'soderbergh': 4111, 'painter': 4112, 'businessman': 4113, 'sucker': 4114, 'demis': 4115, 'crawford': 4116, 'sammi': 4117, 'ross': 4118, 'pole': 4119, 'josh': 4120, 'compromis': 4121, 'censor': 4122, 'meryl': 4123, '1997': 4124, 'derang': 4125, 'shoddi': 4126, 'dana': 4127, 'distress': 4128, 'absent': 4129, 'greg': 4130, 'baldwin': 4131, 'unseen': 4132, 'stargat': 4133, 'darren': 4134, 'spacey': 4135, 'mclaglen': 4136, 'monoton': 4137, 'fuller': 4138, 'deniro': 4139, 'fog': 4140, 'judgment': 4141, 'verbal': 4142, 'unravel': 4143, 'primit': 4144, 'austin': 4145, 'polici': 4146, 'furiou': 4147, 'kumar': 4148, 'norm': 4149, 'tarantino': 4150, 'expedit': 4151, 'tech': 4152, 'antonioni': 4153, 'deceas': 4154, 'fenc': 4155, 'nathan': 4156, 'wholli': 4157, 'dee': 4158, 'click': 4159, 'seal': 4160, 'reluct': 4161, 'clash': 4162, 'jewel': 4163, 'sid': 4164, 'correctli': 4165, 'valid': 4166, 'uncov': 4167, '1993': 4168, 'anchor': 4169, 'exclus': 4170, 'accuraci': 4171, 'conduct': 4172, 'sustain': 4173, 'wretch': 4174, 'sheet': 4175, 'fart': 4176, 'dreck': 4177, 'pocket': 4178, 'sunni': 4179, 'clerk': 4180, 'hallucin': 4181, 'patienc': 4182, 'roller': 4183, 'crippl': 4184, 'ritual': 4185, 'enforc': 4186, 'slam': 4187, 'joel': 4188, 'darn': 4189, 'sand': 4190, 'fought': 4191, '2008': 4192, 'tax': 4193, 'mode': 4194, 'vanc': 4195, '1971': 4196, 'debt': 4197, 'fabric': 4198, 'seldom': 4199, 'behold': 4200, 'wang': 4201, 'unfair': 4202, 'logan': 4203, 'alec': 4204, '3000': 4205, '1995': 4206, 'murray': 4207, 'temper': 4208, 'shanghai': 4209, 'nicola': 4210, 'trait': 4211, 'malon': 4212, 'bake': 4213, 'shell': 4214, 'squad': 4215, 'grief': 4216, 'phil': 4217, 'isabel': 4218, 'runner': 4219, 'technicolor': 4220, 'preston': 4221, 'sweep': 4222, 'despis': 4223, 'bridget': 4224, 'bias': 4225, 'rita': 4226, 'guitar': 4227, 'preposter': 4228, 'penni': 4229, 'exhaust': 4230, 'schedul': 4231, 'canyon': 4232, 'stuart': 4233, 'critiqu': 4234, 'conscious': 4235, 'fundament': 4236, 'legaci': 4237, 'robber': 4238, 'outlin': 4239, 'clau': 4240, 'pete': 4241, 'scriptwrit': 4242, 'tactic': 4243, 'divid': 4244, 'soup': 4245, 'helpless': 4246, 'stark': 4247, 'delv': 4248, 'alicia': 4249, 'sugar': 4250, 'unexpectedli': 4251, 'passag': 4252, 'sentinel': 4253, 'restrict': 4254, 'drove': 4255, 'alley': 4256, 'connor': 4257, 'propos': 4258, 'invad': 4259, 'jacket': 4260, 'boyl': 4261, 'marc': 4262, 'bloom': 4263, 'agenc': 4264, 'lacklust': 4265, 'vomit': 4266, 'kansa': 4267, 'consciou': 4268, 'cigarett': 4269, 'downey': 4270, 'liberti': 4271, 'russia': 4272, 'rear': 4273, 'inabl': 4274, 'jodi': 4275, 'gregori': 4276, 'sniper': 4277, 'palanc': 4278, 'flair': 4279, 'rehash': 4280, 'culmin': 4281, 'implic': 4282, 'newman': 4283, 'tendenc': 4284, 'rehears': 4285, 'cap': 4286, 'ladder': 4287, 'behaviour': 4288, 'rod': 4289, 'vet': 4290, 'awhil': 4291, '1936': 4292, 'tripe': 4293, 'karl': 4294, 'improb': 4295, 'aesthet': 4296, 'lush': 4297, 'horn': 4298, 'delet': 4299, 'rampag': 4300, 'feat': 4301, 'sharon': 4302, 'chainsaw': 4303, 'foxx': 4304, 'asylum': 4305, 'yeti': 4306, 'pale': 4307, 'kolchak': 4308, 'mccoy': 4309, 'bacon': 4310, 'wrench': 4311, 'arrow': 4312, '22': 4313, 'weav': 4314, 'conscienc': 4315, 'suffici': 4316, 'hungri': 4317, 'paramount': 4318, '1978': 4319, 'filler': 4320, '1988': 4321, 'el': 4322, 'visitor': 4323, 'tomorrow': 4324, 'lurk': 4325, 'sung': 4326, 'coaster': 4327, 'tasteless': 4328, 'elit': 4329, 'newcom': 4330, 'financ': 4331, 'spice': 4332, 'rumor': 4333, 'minu': 4334, 'hackney': 4335, 'wagner': 4336, 'paradis': 4337, 'loneli': 4338, '19th': 4339, 'wildli': 4340, 'shortcom': 4341, 'rhythm': 4342, 'hulk': 4343, '1920': 4344, 'underneath': 4345, 'amazon': 4346, 'suspicion': 4347, 'fright': 4348, 'aristocrat': 4349, 'globe': 4350, 'stream': 4351, 'thunderbird': 4352, 'prank': 4353, 'scoop': 4354, 'basing': 4355, 'atroc': 4356, '75': 4357, 'recogniz': 4358, 'worship': 4359, 'entranc': 4360, '1989': 4361, 'teas': 4362, 'iv': 4363, 'literari': 4364, 'naughti': 4365, 'abrupt': 4366, 'quietli': 4367, 'ingeni': 4368, 'beverli': 4369, 'standout': 4370, 'immers': 4371, 'cancer': 4372, 'smell': 4373, 'brit': 4374, 'rub': 4375, 'straightforward': 4376, 'secondari': 4377, 'leigh': 4378, 'hopkin': 4379, 'penn': 4380, 'ram': 4381, 'springer': 4382, 'choppi': 4383, '1939': 4384, 'en': 4385, 'counterpart': 4386, 'curli': 4387, 'chavez': 4388, 'heist': 4389, 'posey': 4390, 'couch': 4391, 'inmat': 4392, 'dirt': 4393, 'tierney': 4394, 'lectur': 4395, 'impos': 4396, 'bread': 4397, 'grudg': 4398, 'wwe': 4399, 'minist': 4400, 'chamberlain': 4401, 'paxton': 4402, 'nemesi': 4403, 'geni': 4404, 'net': 4405, 'moreov': 4406, 'ratso': 4407, 'policeman': 4408, 'missil': 4409, 'skeptic': 4410, 'watcher': 4411, 'sublim': 4412, 'esther': 4413, 'transcend': 4414, 'laurenc': 4415, 'bernard': 4416, 'entitl': 4417, 'injuri': 4418, '1986': 4419, 'morbid': 4420, 'lindsay': 4421, 'ace': 4422, 'sassi': 4423, 'duel': 4424, 'clan': 4425, 'heartfelt': 4426, 'quaid': 4427, 'variat': 4428, 'convert': 4429, 'attenborough': 4430, 'cattl': 4431, 'misguid': 4432, 'yearn': 4433, 'enthral': 4434, 'nolan': 4435, 'steadi': 4436, 'spiral': 4437, 'tyler': 4438, 'vader': 4439, 'reliabl': 4440, 'mytholog': 4441, 'diari': 4442, 'enabl': 4443, 'poe': 4444, 'setup': 4445, 'moder': 4446, 'dont': 4447, 'youngest': 4448, 'brood': 4449, 'obstacl': 4450, 'artsi': 4451, 'uncut': 4452, 'unexplain': 4453, 'rosemari': 4454, 'kitti': 4455, 'carlito': 4456, 'graini': 4457, 'puppi': 4458, 'egg': 4459, 'characteris': 4460, 'facil': 4461, 'cruelti': 4462, 'bye': 4463, 'kidman': 4464, 'buzz': 4465, 'bean': 4466, '1979': 4467, 'hk': 4468, 'out': 4469, 'grin': 4470, 'hopelessli': 4471, 'weather': 4472, 'baffl': 4473, 'narrow': 4474, 'christin': 4475, 'underworld': 4476, 'brendan': 4477, '1969': 4478, 'effici': 4479, 'bewar': 4480, 'bounc': 4481, 'fuel': 4482, 'hain': 4483, 'sweat': 4484, 'oblig': 4485, 'kline': 4486, 'hammi': 4487, 'athlet': 4488, 'gina': 4489, 'martha': 4490, 'disastr': 4491, 'preming': 4492, 'niec': 4493, 'decept': 4494, 'heap': 4495, 'clueless': 4496, 'spontan': 4497, 'patricia': 4498, 'exterior': 4499, 'despic': 4500, 'gillian': 4501, 'acquaint': 4502, 'bronson': 4503, 'renaiss': 4504, 'insipid': 4505, 'circu': 4506, 'loath': 4507, 'taboo': 4508, 'suprem': 4509, 'astound': 4510, 'virtu': 4511, 'injur': 4512, 'loi': 4513, 'uh': 4514, 'dilemma': 4515, 'trigger': 4516, '73': 4517, 'tick': 4518, 'housewif': 4519, 'sleepwalk': 4520, 'biker': 4521, 'shatter': 4522, 'sooner': 4523, 'dandi': 4524, 'headach': 4525, 'goof': 4526, 'mayhem': 4527, 'rome': 4528, 'lester': 4529, 'viewpoint': 4530, 'analyz': 4531, 'candl': 4532, 'hepburn': 4533, '19': 4534, 'outlaw': 4535, 'angst': 4536, 'scar': 4537, 'preachi': 4538, 'mermaid': 4539, 'harmless': 4540, 'fontain': 4541, 'enlist': 4542, 'glorifi': 4543, 'claustrophob': 4544, 'ebert': 4545, 'dish': 4546, 'overlong': 4547, 'ariel': 4548, 'boston': 4549, 'fluff': 4550, 'immatur': 4551, 'sox': 4552, 'amor': 4553, 'oldest': 4554, 'dismal': 4555, 'bent': 4556, 'redund': 4557, 'surgeri': 4558, 'camcord': 4559, 'hokey': 4560, 'whore': 4561, 'filth': 4562, 'macho': 4563, 'contempt': 4564, 'scorses': 4565, 'spade': 4566, 'zoom': 4567, 'intric': 4568, 'guin': 4569, 'tripl': 4570, 'slimi': 4571, 'hooker': 4572, 'phenomenon': 4573, 'gere': 4574, 'hostag': 4575, 'idol': 4576, 'steer': 4577, 'stair': 4578, 'foolish': 4579, 'stimul': 4580, 'salt': 4581, 'cassavet': 4582, 'corbett': 4583, 'naschi': 4584, '1981': 4585, 'assert': 4586, 'schlock': 4587, 'shred': 4588, 'gasp': 4589, 'frantic': 4590, 'flashi': 4591, 'remad': 4592, 'muscl': 4593, 'joker': 4594, 'messi': 4595, 'harold': 4596, 'zane': 4597, 'transplant': 4598, 'proport': 4599, 'faint': 4600, 'margin': 4601, 'flirt': 4602, 'widescreen': 4603, 'spree': 4604, 'mutual': 4605, 'antagonist': 4606, 'keen': 4607, 'fascist': 4608, 'perman': 4609, 'spinal': 4610, 'cohen': 4611, 'conquer': 4612, 'dwarf': 4613, 'cow': 4614, 'obligatori': 4615, 'corman': 4616, 'nolt': 4617, 'rhyme': 4618, 'gabl': 4619, 'trivia': 4620, 'flag': 4621, 'alvin': 4622, 'radiat': 4623, 'down': 4624, 'strongest': 4625, '1976': 4626, 'preced': 4627, 'mount': 4628, 'astronaut': 4629, 'cush': 4630, 'beard': 4631, 'shield': 4632, 'ritchi': 4633, '1945': 4634, 'sensual': 4635, 'departur': 4636, 'hara': 4637, 'claud': 4638, 'archiv': 4639, 'off': 4640, 'bachelor': 4641, 'scandal': 4642, 'vaniti': 4643, 'instruct': 4644, 'inflict': 4645, '28': 4646, 'bitten': 4647, 'carey': 4648, '95': 4649, 'divin': 4650, 'boob': 4651, 'danish': 4652, 'barn': 4653, 'triangl': 4654, 'www': 4655, 'someday': 4656, 'wield': 4657, 'mobil': 4658, 'strive': 4659, 'brush': 4660, 'resum': 4661, 'discern': 4662, 'interestingli': 4663, 'neurot': 4664, 'info': 4665, 'deer': 4666, 'repris': 4667, 'mol': 4668, 'raj': 4669, 'aborigin': 4670, 'persuad': 4671, 'fishburn': 4672, 'flock': 4673, 'casino': 4674, 'kathryn': 4675, 'colin': 4676, 'dylan': 4677, 'prophet': 4678, 'traffic': 4679, 'loretta': 4680, 'dame': 4681, 'dim': 4682, 'clad': 4683, 'carlo': 4684, 'miracul': 4685, 'banter': 4686, 'ish': 4687, 'vibrant': 4688, 'rot': 4689, 'proclaim': 4690, 'axe': 4691, 'parson': 4692, 'bate': 4693, 'fragil': 4694, 'melissa': 4695, 'heartwarm': 4696, 'hilar': 4697, 'recit': 4698, 'anton': 4699, 'luka': 4700, 'frontier': 4701, 'earnest': 4702, 'helm': 4703, 'cliffhang': 4704, 'harrison': 4705, 'pixar': 4706, 'hapless': 4707, 'cher': 4708, 'undermin': 4709, 'europa': 4710, 'cb': 4711, 'wendigo': 4712, 'biblic': 4713, 'jade': 4714, 'artwork': 4715, 'neill': 4716, 'pacif': 4717, 'mobster': 4718, 'senior': 4719, 'hug': 4720, 'cycl': 4721, 'timberlak': 4722, 'submit': 4723, 'pickford': 4724, 'wardrob': 4725, 'mathieu': 4726, 'lucil': 4727, 'redneck': 4728, 'token': 4729, 'legitim': 4730, 'akin': 4731, 'feast': 4732, 'bondag': 4733, 'vile': 4734, 'eli': 4735, 'jordan': 4736, 'blatantli': 4737, 'breakfast': 4738, 'articl': 4739, 'razor': 4740, 'jo': 4741, 'seedi': 4742, 'misfortun': 4743, 'winchest': 4744, 'northern': 4745, 'nope': 4746, 'milo': 4747, 'trier': 4748, 'http': 4749, 'estrang': 4750, 'isra': 4751, 'antholog': 4752, 'vanessa': 4753, 'holocaust': 4754, 'illus': 4755, 'rooki': 4756, 'static': 4757, 'cerebr': 4758, 'electron': 4759, 'flavor': 4760, 'orphan': 4761, 'aris': 4762, 'uma': 4763, 'choke': 4764, 'sicken': 4765, 'bikini': 4766, 'venom': 4767, 'pc': 4768, 'toronto': 4769, 'marlon': 4770, 'lui': 4771, 'shepherd': 4772, 'mason': 4773, 'foil': 4774, 'alexandr': 4775, 'howl': 4776, 'retriev': 4777, 'affleck': 4778, 'dudley': 4779, 'swept': 4780, 'gilbert': 4781, 'outdat': 4782, 'leather': 4783, 'ideolog': 4784, 'glare': 4785, 'abund': 4786, 'knightley': 4787, 'highway': 4788, 'frog': 4789, 'shorter': 4790, 'psych': 4791, 'clinic': 4792, 'tack': 4793, 'smack': 4794, 'comprehend': 4795, 'linear': 4796, 'oppon': 4797, 'nightclub': 4798, 'disregard': 4799, 'audrey': 4800, 'cartoonish': 4801, 'styliz': 4802, 'boyer': 4803, 'peer': 4804, 'deem': 4805, 'wrestler': 4806, 'magician': 4807, 'charlton': 4808, 'ceremoni': 4809, 'feminin': 4810, 'huston': 4811, 'gunga': 4812, 'turd': 4813, 'fifth': 4814, 'snatch': 4815, 'salman': 4816, 'breakdown': 4817, 'senat': 4818, 'phenomen': 4819, 'sleaz': 4820, 'lavish': 4821, 'bogu': 4822, 'conrad': 4823, 'uniformli': 4824, 'whack': 4825, 'evolut': 4826, 'btw': 4827, '1994': 4828, 'spawn': 4829, 'chip': 4830, 'toe': 4831, 'einstein': 4832, 'moe': 4833, 'durat': 4834, 'braveheart': 4835, 'corn': 4836, 'lighter': 4837, 'summar': 4838, 'plate': 4839, 'newer': 4840, 'spine': 4841, 'greet': 4842, 'lifeless': 4843, '4th': 4844, 'mitch': 4845, 'boo': 4846, 'monument': 4847, 'energet': 4848, 'bastard': 4849, '1991': 4850, 'collector': 4851, 'cemeteri': 4852, 'client': 4853, 'tara': 4854, 'compris': 4855, 'potter': 4856, 'deliver': 4857, 'cuban': 4858, 'goldsworthi': 4859, 'undead': 4860, 'clara': 4861, 'outright': 4862, 'kent': 4863, 'wtf': 4864, 'alleg': 4865, 'bulk': 4866, 'neatli': 4867, 'sorrow': 4868, 'appl': 4869, 'inaccuraci': 4870, '1977': 4871, 'trauma': 4872, 'fluid': 4873, 'ie': 4874, '1974': 4875, 'nina': 4876, 'ol': 4877, 'randolph': 4878, 'gilliam': 4879, 'judd': 4880, 'belli': 4881, 'bori': 4882, 'replay': 4883, 'embark': 4884, 'armstrong': 4885, 'jam': 4886, 'healthi': 4887, 'lex': 4888, 'cecil': 4889, 'jedi': 4890, 'eleven': 4891, 'constitut': 4892, 'firmli': 4893, 'undertak': 4894, 'luxuri': 4895, 'signal': 4896, 'jule': 4897, 'evelyn': 4898, 'kazan': 4899, 'pronounc': 4900, 'capot': 4901, 'spectacl': 4902, 'jare': 4903, 'occup': 4904, 'historian': 4905, 'mcqueen': 4906, 'creek': 4907, 'liu': 4908, 'relentless': 4909, 'palm': 4910, 'lauren': 4911, 'abound': 4912, 'comprehens': 4913, 'pioneer': 4914, 'carmen': 4915, 'lanc': 4916, 'sacrif': 4917, 'cape': 4918, 'genet': 4919, 'comb': 4920, 'antonio': 4921, 'goldblum': 4922, 'knee': 4923, 'inaccur': 4924, 'sidewalk': 4925, 'decapit': 4926, 'vain': 4927, 'groan': 4928, 'truman': 4929, '1985': 4930, 'kiddi': 4931, 'mum': 4932, 'spray': 4933, 'inclus': 4934, 'bait': 4935, 'forgiven': 4936, 'id': 4937, 'aussi': 4938, 'conan': 4939, 'meal': 4940, 'propheci': 4941, 'galaxi': 4942, 'paula': 4943, 'unsuspect': 4944, 'ash': 4945, 'unattract': 4946, 'walt': 4947, 'miniseri': 4948, 'subtli': 4949, 'vignett': 4950, 'tokyo': 4951, 'miami': 4952, 'curtain': 4953, 'poker': 4954, 'porter': 4955, 'fruit': 4956, 'pepper': 4957, 'rosario': 4958, 'basket': 4959, 'blur': 4960, 'bsg': 4961, 'congratul': 4962, 'roar': 4963, 'profil': 4964, 'bravo': 4965, 'assort': 4966, 'casper': 4967, 'scarfac': 4968, 'asset': 4969, 'handicap': 4970, 'evan': 4971, 'sparkl': 4972, 'optimist': 4973, 'vastli': 4974, 'detach': 4975, 'scariest': 4976, 'sophi': 4977, 'verg': 4978, 'epitom': 4979, 'omin': 4980, 'ghetto': 4981, 'modest': 4982, 'masterson': 4983, 'spill': 4984, 'substanti': 4985, 'incorrect': 4986, 'playboy': 4987, 'orchestr': 4988, 'frontal': 4989, 'reincarn': 4990, 'weaker': 4991, 'rapidli': 4992, 'hackman': 4993, 'hostil': 4994, 'weari': 4995, 'growth': 4996, 'turtl': 4997, 'mice': 4998, '21st': 4999}\n"
     ]
    }
   ],
   "source": [
    "# TODO: Use this space to determine the five most frequently appearing words in the training set.\n",
    "print(word_dict)"
   ]
  },
  {
   "cell_type": "markdown",
   "metadata": {},
   "source": [
    "### Save `word_dict`\n",
    "\n",
    "Later on when we construct an endpoint which processes a submitted review we will need to make use of the `word_dict` which we have created. As such, we will save it to a file now for future use."
   ]
  },
  {
   "cell_type": "code",
   "execution_count": 14,
   "metadata": {},
   "outputs": [],
   "source": [
    "data_dir = '../data/pytorch' # The folder we will use for storing data\n",
    "if not os.path.exists(data_dir): # Make sure that the folder exists\n",
    "    os.makedirs(data_dir)"
   ]
  },
  {
   "cell_type": "code",
   "execution_count": 15,
   "metadata": {},
   "outputs": [],
   "source": [
    "with open(os.path.join(data_dir, 'word_dict.pkl'), \"wb\") as f:\n",
    "    pickle.dump(word_dict, f)"
   ]
  },
  {
   "cell_type": "markdown",
   "metadata": {},
   "source": [
    "### Transform the reviews\n",
    "\n",
    "Now that we have our word dictionary which allows us to transform the words appearing in the reviews into integers, it is time to make use of it and convert our reviews to their integer sequence representation, making sure to pad or truncate to a fixed length, which in our case is `500`."
   ]
  },
  {
   "cell_type": "code",
   "execution_count": 16,
   "metadata": {},
   "outputs": [],
   "source": [
    "def convert_and_pad(word_dict, sentence, pad=500):\n",
    "    NOWORD = 0 # We will use 0 to represent the 'no word' category\n",
    "    INFREQ = 1 # and we use 1 to represent the infrequent words, i.e., words not appearing in word_dict\n",
    "    \n",
    "    working_sentence = [NOWORD] * pad\n",
    "    \n",
    "    for word_index, word in enumerate(sentence[:pad]):\n",
    "        if word in word_dict:\n",
    "            working_sentence[word_index] = word_dict[word]\n",
    "        else:\n",
    "            working_sentence[word_index] = INFREQ\n",
    "            \n",
    "    return working_sentence, min(len(sentence), pad)\n",
    "\n",
    "def convert_and_pad_data(word_dict, data, pad=500):\n",
    "    result = []\n",
    "    lengths = []\n",
    "    \n",
    "    for sentence in data:\n",
    "        converted, leng = convert_and_pad(word_dict, sentence, pad)\n",
    "        result.append(converted)\n",
    "        lengths.append(leng)\n",
    "        \n",
    "    return np.array(result), np.array(lengths)"
   ]
  },
  {
   "cell_type": "code",
   "execution_count": 17,
   "metadata": {},
   "outputs": [],
   "source": [
    "train_X, train_X_len = convert_and_pad_data(word_dict, train_X)\n",
    "test_X, test_X_len = convert_and_pad_data(word_dict, test_X)"
   ]
  },
  {
   "cell_type": "markdown",
   "metadata": {},
   "source": [
    "As a quick check to make sure that things are working as intended, check to see what one of the reviews in the training set looks like after having been processeed. Does this look reasonable? What is the length of a review in the training set?"
   ]
  },
  {
   "cell_type": "code",
   "execution_count": 18,
   "metadata": {},
   "outputs": [
    {
     "name": "stdout",
     "output_type": "stream",
     "text": [
      "(25000, 500)\n"
     ]
    }
   ],
   "source": [
    "# Use this cell to examine one of the processed reviews to make sure everything is working as intended.\n",
    "print(train_X.shape)"
   ]
  },
  {
   "cell_type": "markdown",
   "metadata": {},
   "source": [
    "**Question:** In the cells above we use the `preprocess_data` and `convert_and_pad_data` methods to process both the training and testing set. Why or why not might this be a problem?"
   ]
  },
  {
   "cell_type": "markdown",
   "metadata": {},
   "source": [
    "**Answer:**\n",
    "\n",
    "Possible problems:\n",
    "- Once the model is deployed after some time, the distribution of words usage might no longer be the same as the training dataset. Some words might not be as frequent anymore. This may cause our model to ignore the \"newly frequent\" words in the future because it may not be one of the words in our word_dict, which may call for \"model update\" in the future.\n",
    "- By only choosing vocab based on the frequency of occurence of the word in the training dataset, we might be capturing noises as well, because the most occurring words may not be the best words that indicates sentiment of the review. This may have been removed by removing stopwords, but some non-stopwords may also be \"sentiment-neutral\". So it is best to get the words that actually occurs a lot in positive reviews but non-existent in negative reviews (and the other way around) for our word dictionary. This can be done by calculating ratio of occurrence of the word in positive VS negative reviews.\n",
    "\n",
    "The good thing:\n",
    "- By limiting the word_dict to be only 5000 (or any limited vocab_size), we are removing the noises in the dataset which may interfere with the training process of our model (and make the model learn about the dataset faster because the noises are removed)."
   ]
  },
  {
   "cell_type": "markdown",
   "metadata": {},
   "source": [
    "## Step 3: Upload the data to S3\n",
    "\n",
    "As in the XGBoost notebook, we will need to upload the training dataset to S3 in order for our training code to access it. For now we will save it locally and we will upload to S3 later on.\n",
    "\n",
    "### Save the processed training dataset locally\n",
    "\n",
    "It is important to note the format of the data that we are saving as we will need to know it when we write the training code. In our case, each row of the dataset has the form `label`, `length`, `review[500]` where `review[500]` is a sequence of `500` integers representing the words in the review."
   ]
  },
  {
   "cell_type": "code",
   "execution_count": 19,
   "metadata": {},
   "outputs": [],
   "source": [
    "import pandas as pd\n",
    "    \n",
    "pd.concat([pd.DataFrame(train_y), pd.DataFrame(train_X_len), pd.DataFrame(train_X)], axis=1) \\\n",
    "        .to_csv(os.path.join(data_dir, 'train.csv'), header=False, index=False)"
   ]
  },
  {
   "cell_type": "markdown",
   "metadata": {},
   "source": [
    "### Uploading the training data\n",
    "\n",
    "\n",
    "Next, we need to upload the training data to the SageMaker default S3 bucket so that we can provide access to it while training our model."
   ]
  },
  {
   "cell_type": "code",
   "execution_count": 1,
   "metadata": {},
   "outputs": [],
   "source": [
    "import sagemaker\n",
    "\n",
    "sagemaker_session = sagemaker.Session()\n",
    "\n",
    "bucket = sagemaker_session.default_bucket()\n",
    "prefix = 'sagemaker/sentiment_rnn'\n",
    "\n",
    "role = sagemaker.get_execution_role()"
   ]
  },
  {
   "cell_type": "code",
   "execution_count": 21,
   "metadata": {},
   "outputs": [],
   "source": [
    "input_data = sagemaker_session.upload_data(path=data_dir, bucket=bucket, key_prefix=prefix)"
   ]
  },
  {
   "cell_type": "markdown",
   "metadata": {},
   "source": [
    "**NOTE:** The cell above uploads the entire contents of our data directory. This includes the `word_dict.pkl` file. This is fortunate as we will need this later on when we create an endpoint that accepts an arbitrary review. For now, we will just take note of the fact that it resides in the data directory (and so also in the S3 training bucket) and that we will need to make sure it gets saved in the model directory."
   ]
  },
  {
   "cell_type": "markdown",
   "metadata": {},
   "source": [
    "## Step 4: Build and Train the PyTorch Model\n",
    "\n",
    "In the XGBoost notebook we discussed what a model is in the SageMaker framework. In particular, a model comprises three objects\n",
    "\n",
    " - Model Artifacts,\n",
    " - Training Code, and\n",
    " - Inference Code,\n",
    " \n",
    "each of which interact with one another. In the XGBoost example we used training and inference code that was provided by Amazon. Here we will still be using containers provided by Amazon with the added benefit of being able to include our own custom code.\n",
    "\n",
    "We will start by implementing our own neural network in PyTorch along with a training script. For the purposes of this project we have provided the necessary model object in the `model.py` file, inside of the `train` folder. You can see the provided implementation by running the cell below."
   ]
  },
  {
   "cell_type": "code",
   "execution_count": 22,
   "metadata": {},
   "outputs": [
    {
     "name": "stdout",
     "output_type": "stream",
     "text": [
      "\u001b[34mimport\u001b[39;49;00m \u001b[04m\u001b[36mtorch\u001b[39;49;00m\u001b[04m\u001b[36m.\u001b[39;49;00m\u001b[04m\u001b[36mnn\u001b[39;49;00m \u001b[34mas\u001b[39;49;00m \u001b[04m\u001b[36mnn\u001b[39;49;00m\n",
      "\n",
      "\u001b[34mclass\u001b[39;49;00m \u001b[04m\u001b[32mLSTMClassifier\u001b[39;49;00m(nn.Module):\n",
      "    \u001b[33m\"\"\"\u001b[39;49;00m\n",
      "\u001b[33m    This is the simple RNN model we will be using to perform Sentiment Analysis.\u001b[39;49;00m\n",
      "\u001b[33m    \"\"\"\u001b[39;49;00m\n",
      "\n",
      "    \u001b[34mdef\u001b[39;49;00m \u001b[32m__init__\u001b[39;49;00m(\u001b[36mself\u001b[39;49;00m, embedding_dim, hidden_dim, vocab_size):\n",
      "        \u001b[33m\"\"\"\u001b[39;49;00m\n",
      "\u001b[33m        Initialize the model by settingg up the various layers.\u001b[39;49;00m\n",
      "\u001b[33m        \"\"\"\u001b[39;49;00m\n",
      "        \u001b[36msuper\u001b[39;49;00m(LSTMClassifier, \u001b[36mself\u001b[39;49;00m).\u001b[32m__init__\u001b[39;49;00m()\n",
      "\n",
      "        \u001b[36mself\u001b[39;49;00m.embedding = nn.Embedding(vocab_size, embedding_dim, padding_idx=\u001b[34m0\u001b[39;49;00m)\n",
      "        \u001b[36mself\u001b[39;49;00m.lstm = nn.LSTM(embedding_dim, hidden_dim)\n",
      "        \u001b[36mself\u001b[39;49;00m.dense = nn.Linear(in_features=hidden_dim, out_features=\u001b[34m1\u001b[39;49;00m)\n",
      "        \u001b[36mself\u001b[39;49;00m.sig = nn.Sigmoid()\n",
      "        \n",
      "        \u001b[36mself\u001b[39;49;00m.word_dict = \u001b[34mNone\u001b[39;49;00m\n",
      "\n",
      "    \u001b[34mdef\u001b[39;49;00m \u001b[32mforward\u001b[39;49;00m(\u001b[36mself\u001b[39;49;00m, x):\n",
      "        \u001b[33m\"\"\"\u001b[39;49;00m\n",
      "\u001b[33m        Perform a forward pass of our model on some input.\u001b[39;49;00m\n",
      "\u001b[33m        \"\"\"\u001b[39;49;00m\n",
      "        x = x.t()\n",
      "        lengths = x[\u001b[34m0\u001b[39;49;00m,:]\n",
      "        reviews = x[\u001b[34m1\u001b[39;49;00m:,:]\n",
      "        embeds = \u001b[36mself\u001b[39;49;00m.embedding(reviews)\n",
      "        lstm_out, _ = \u001b[36mself\u001b[39;49;00m.lstm(embeds)\n",
      "        out = \u001b[36mself\u001b[39;49;00m.dense(lstm_out)\n",
      "        out = out[lengths - \u001b[34m1\u001b[39;49;00m, \u001b[36mrange\u001b[39;49;00m(\u001b[36mlen\u001b[39;49;00m(lengths))]\n",
      "        \u001b[34mreturn\u001b[39;49;00m \u001b[36mself\u001b[39;49;00m.sig(out.squeeze())\n"
     ]
    }
   ],
   "source": [
    "!pygmentize train/model.py"
   ]
  },
  {
   "cell_type": "markdown",
   "metadata": {},
   "source": [
    "The important takeaway from the implementation provided is that there are three parameters that we may wish to tweak to improve the performance of our model. These are the embedding dimension, the hidden dimension and the size of the vocabulary. We will likely want to make these parameters configurable in the training script so that if we wish to modify them we do not need to modify the script itself. We will see how to do this later on. To start we will write some of the training code in the notebook so that we can more easily diagnose any issues that arise.\n",
    "\n",
    "First we will load a small portion of the training data set to use as a sample. It would be very time consuming to try and train the model completely in the notebook as we do not have access to a gpu and the compute instance that we are using is not particularly powerful. However, we can work on a small bit of the data to get a feel for how our training script is behaving."
   ]
  },
  {
   "cell_type": "code",
   "execution_count": 23,
   "metadata": {},
   "outputs": [],
   "source": [
    "import torch\n",
    "import torch.utils.data\n",
    "\n",
    "# Read in only the first 250 rows\n",
    "train_sample = pd.read_csv(os.path.join(data_dir, 'train.csv'), header=None, names=None, nrows=250)\n",
    "\n",
    "# Turn the input pandas dataframe into tensors\n",
    "train_sample_y = torch.from_numpy(train_sample[[0]].values).float().squeeze()\n",
    "train_sample_X = torch.from_numpy(train_sample.drop([0], axis=1).values).long()\n",
    "\n",
    "# Build the dataset\n",
    "train_sample_ds = torch.utils.data.TensorDataset(train_sample_X, train_sample_y)\n",
    "# Build the dataloader\n",
    "train_sample_dl = torch.utils.data.DataLoader(train_sample_ds, batch_size=50)"
   ]
  },
  {
   "cell_type": "markdown",
   "metadata": {},
   "source": [
    "### (TODO) Writing the training method\n",
    "\n",
    "Next we need to write the training code itself. This should be very similar to training methods that you have written before to train PyTorch models. We will leave any difficult aspects such as model saving / loading and parameter loading until a little later."
   ]
  },
  {
   "cell_type": "code",
   "execution_count": 24,
   "metadata": {},
   "outputs": [],
   "source": [
    "def train(model, train_loader, epochs, optimizer, loss_fn, device):\n",
    "    for epoch in range(1, epochs + 1):\n",
    "        model.train()\n",
    "        total_loss = 0\n",
    "        for batch in train_loader:         \n",
    "            batch_X, batch_y = batch\n",
    "            \n",
    "            batch_X = batch_X.to(device)\n",
    "            batch_y = batch_y.to(device)\n",
    "            \n",
    "            # TODO: Complete this train method to train the model provided.\n",
    "            optimizer.zero_grad()\n",
    "            out = model(batch_X)\n",
    "            loss = loss_fn(out, batch_y)\n",
    "            loss.backward()\n",
    "            optimizer.step()\n",
    "            \n",
    "            total_loss += loss.data.item()\n",
    "        print(\"Epoch: {}, BCELoss: {}\".format(epoch, total_loss / len(train_loader)))"
   ]
  },
  {
   "cell_type": "markdown",
   "metadata": {},
   "source": [
    "Supposing we have the training method above, we will test that it is working by writing a bit of code in the notebook that executes our training method on the small sample training set that we loaded earlier. The reason for doing this in the notebook is so that we have an opportunity to fix any errors that arise early when they are easier to diagnose."
   ]
  },
  {
   "cell_type": "code",
   "execution_count": 25,
   "metadata": {},
   "outputs": [
    {
     "name": "stdout",
     "output_type": "stream",
     "text": [
      "Epoch: 1, BCELoss: 0.6934380531311035\n",
      "Epoch: 2, BCELoss: 0.6839228391647338\n",
      "Epoch: 3, BCELoss: 0.6760661363601684\n",
      "Epoch: 4, BCELoss: 0.6675483107566833\n",
      "Epoch: 5, BCELoss: 0.6575004100799561\n"
     ]
    }
   ],
   "source": [
    "import torch.optim as optim\n",
    "from train.model import LSTMClassifier\n",
    "\n",
    "device = torch.device(\"cuda\" if torch.cuda.is_available() else \"cpu\")\n",
    "model = LSTMClassifier(32, 100, 5000).to(device)\n",
    "optimizer = optim.Adam(model.parameters())\n",
    "loss_fn = torch.nn.BCELoss()\n",
    "\n",
    "train(model, train_sample_dl, 5, optimizer, loss_fn, device)"
   ]
  },
  {
   "cell_type": "markdown",
   "metadata": {},
   "source": [
    "In order to construct a PyTorch model using SageMaker we must provide SageMaker with a training script. We may optionally include a directory which will be copied to the container and from which our training code will be run. When the training container is executed it will check the uploaded directory (if there is one) for a `requirements.txt` file and install any required Python libraries, after which the training script will be run."
   ]
  },
  {
   "cell_type": "markdown",
   "metadata": {},
   "source": [
    "### (TODO) Training the model\n",
    "\n",
    "When a PyTorch model is constructed in SageMaker, an entry point must be specified. This is the Python file which will be executed when the model is trained. Inside of the `train` directory is a file called `train.py` which has been provided and which contains most of the necessary code to train our model. The only thing that is missing is the implementation of the `train()` method which you wrote earlier in this notebook.\n",
    "\n",
    "**TODO**: Copy the `train()` method written above and paste it into the `train/train.py` file where required.\n",
    "\n",
    "The way that SageMaker passes hyperparameters to the training script is by way of arguments. These arguments can then be parsed and used in the training script. To see how this is done take a look at the provided `train/train.py` file."
   ]
  },
  {
   "cell_type": "code",
   "execution_count": 26,
   "metadata": {},
   "outputs": [
    {
     "name": "stdout",
     "output_type": "stream",
     "text": [
      "\u001b[34mimport\u001b[39;49;00m \u001b[04m\u001b[36margparse\u001b[39;49;00m\n",
      "\u001b[34mimport\u001b[39;49;00m \u001b[04m\u001b[36mjson\u001b[39;49;00m\n",
      "\u001b[34mimport\u001b[39;49;00m \u001b[04m\u001b[36mos\u001b[39;49;00m\n",
      "\u001b[34mimport\u001b[39;49;00m \u001b[04m\u001b[36mpickle\u001b[39;49;00m\n",
      "\u001b[34mimport\u001b[39;49;00m \u001b[04m\u001b[36msys\u001b[39;49;00m\n",
      "\u001b[34mimport\u001b[39;49;00m \u001b[04m\u001b[36msagemaker_containers\u001b[39;49;00m\n",
      "\u001b[34mimport\u001b[39;49;00m \u001b[04m\u001b[36mpandas\u001b[39;49;00m \u001b[34mas\u001b[39;49;00m \u001b[04m\u001b[36mpd\u001b[39;49;00m\n",
      "\u001b[34mimport\u001b[39;49;00m \u001b[04m\u001b[36mtorch\u001b[39;49;00m\n",
      "\u001b[34mimport\u001b[39;49;00m \u001b[04m\u001b[36mtorch\u001b[39;49;00m\u001b[04m\u001b[36m.\u001b[39;49;00m\u001b[04m\u001b[36moptim\u001b[39;49;00m \u001b[34mas\u001b[39;49;00m \u001b[04m\u001b[36moptim\u001b[39;49;00m\n",
      "\u001b[34mimport\u001b[39;49;00m \u001b[04m\u001b[36mtorch\u001b[39;49;00m\u001b[04m\u001b[36m.\u001b[39;49;00m\u001b[04m\u001b[36mutils\u001b[39;49;00m\u001b[04m\u001b[36m.\u001b[39;49;00m\u001b[04m\u001b[36mdata\u001b[39;49;00m\n",
      "\n",
      "\u001b[34mfrom\u001b[39;49;00m \u001b[04m\u001b[36mmodel\u001b[39;49;00m \u001b[34mimport\u001b[39;49;00m LSTMClassifier\n",
      "\n",
      "\u001b[34mdef\u001b[39;49;00m \u001b[32mmodel_fn\u001b[39;49;00m(model_dir):\n",
      "    \u001b[33m\"\"\"Load the PyTorch model from the `model_dir` directory.\"\"\"\u001b[39;49;00m\n",
      "    \u001b[36mprint\u001b[39;49;00m(\u001b[33m\"\u001b[39;49;00m\u001b[33mLoading model.\u001b[39;49;00m\u001b[33m\"\u001b[39;49;00m)\n",
      "\n",
      "    \u001b[37m# First, load the parameters used to create the model.\u001b[39;49;00m\n",
      "    model_info = {}\n",
      "    model_info_path = os.path.join(model_dir, \u001b[33m'\u001b[39;49;00m\u001b[33mmodel_info.pth\u001b[39;49;00m\u001b[33m'\u001b[39;49;00m)\n",
      "    \u001b[34mwith\u001b[39;49;00m \u001b[36mopen\u001b[39;49;00m(model_info_path, \u001b[33m'\u001b[39;49;00m\u001b[33mrb\u001b[39;49;00m\u001b[33m'\u001b[39;49;00m) \u001b[34mas\u001b[39;49;00m f:\n",
      "        model_info = torch.load(f)\n",
      "\n",
      "    \u001b[36mprint\u001b[39;49;00m(\u001b[33m\"\u001b[39;49;00m\u001b[33mmodel_info: \u001b[39;49;00m\u001b[33m{}\u001b[39;49;00m\u001b[33m\"\u001b[39;49;00m.format(model_info))\n",
      "\n",
      "    \u001b[37m# Determine the device and construct the model.\u001b[39;49;00m\n",
      "    device = torch.device(\u001b[33m\"\u001b[39;49;00m\u001b[33mcuda\u001b[39;49;00m\u001b[33m\"\u001b[39;49;00m \u001b[34mif\u001b[39;49;00m torch.cuda.is_available() \u001b[34melse\u001b[39;49;00m \u001b[33m\"\u001b[39;49;00m\u001b[33mcpu\u001b[39;49;00m\u001b[33m\"\u001b[39;49;00m)\n",
      "    model = LSTMClassifier(model_info[\u001b[33m'\u001b[39;49;00m\u001b[33membedding_dim\u001b[39;49;00m\u001b[33m'\u001b[39;49;00m], model_info[\u001b[33m'\u001b[39;49;00m\u001b[33mhidden_dim\u001b[39;49;00m\u001b[33m'\u001b[39;49;00m], model_info[\u001b[33m'\u001b[39;49;00m\u001b[33mvocab_size\u001b[39;49;00m\u001b[33m'\u001b[39;49;00m])\n",
      "\n",
      "    \u001b[37m# Load the stored model parameters.\u001b[39;49;00m\n",
      "    model_path = os.path.join(model_dir, \u001b[33m'\u001b[39;49;00m\u001b[33mmodel.pth\u001b[39;49;00m\u001b[33m'\u001b[39;49;00m)\n",
      "    \u001b[34mwith\u001b[39;49;00m \u001b[36mopen\u001b[39;49;00m(model_path, \u001b[33m'\u001b[39;49;00m\u001b[33mrb\u001b[39;49;00m\u001b[33m'\u001b[39;49;00m) \u001b[34mas\u001b[39;49;00m f:\n",
      "        model.load_state_dict(torch.load(f))\n",
      "\n",
      "    \u001b[37m# Load the saved word_dict.\u001b[39;49;00m\n",
      "    word_dict_path = os.path.join(model_dir, \u001b[33m'\u001b[39;49;00m\u001b[33mword_dict.pkl\u001b[39;49;00m\u001b[33m'\u001b[39;49;00m)\n",
      "    \u001b[34mwith\u001b[39;49;00m \u001b[36mopen\u001b[39;49;00m(word_dict_path, \u001b[33m'\u001b[39;49;00m\u001b[33mrb\u001b[39;49;00m\u001b[33m'\u001b[39;49;00m) \u001b[34mas\u001b[39;49;00m f:\n",
      "        model.word_dict = pickle.load(f)\n",
      "\n",
      "    model.to(device).eval()\n",
      "\n",
      "    \u001b[36mprint\u001b[39;49;00m(\u001b[33m\"\u001b[39;49;00m\u001b[33mDone loading model.\u001b[39;49;00m\u001b[33m\"\u001b[39;49;00m)\n",
      "    \u001b[34mreturn\u001b[39;49;00m model\n",
      "\n",
      "\u001b[34mdef\u001b[39;49;00m \u001b[32m_get_train_data_loader\u001b[39;49;00m(batch_size, training_dir):\n",
      "    \u001b[36mprint\u001b[39;49;00m(\u001b[33m\"\u001b[39;49;00m\u001b[33mGet train data loader.\u001b[39;49;00m\u001b[33m\"\u001b[39;49;00m)\n",
      "\n",
      "    train_data = pd.read_csv(os.path.join(training_dir, \u001b[33m\"\u001b[39;49;00m\u001b[33mtrain.csv\u001b[39;49;00m\u001b[33m\"\u001b[39;49;00m), header=\u001b[34mNone\u001b[39;49;00m, names=\u001b[34mNone\u001b[39;49;00m)\n",
      "\n",
      "    train_y = torch.from_numpy(train_data[[\u001b[34m0\u001b[39;49;00m]].values).float().squeeze()\n",
      "    train_X = torch.from_numpy(train_data.drop([\u001b[34m0\u001b[39;49;00m], axis=\u001b[34m1\u001b[39;49;00m).values).long()\n",
      "\n",
      "    train_ds = torch.utils.data.TensorDataset(train_X, train_y)\n",
      "\n",
      "    \u001b[34mreturn\u001b[39;49;00m torch.utils.data.DataLoader(train_ds, batch_size=batch_size)\n",
      "\n",
      "\n",
      "\u001b[34mdef\u001b[39;49;00m \u001b[32mtrain\u001b[39;49;00m(model, train_loader, epochs, optimizer, loss_fn, device):\n",
      "    \u001b[33m\"\"\"\u001b[39;49;00m\n",
      "\u001b[33m    This is the training method that is called by the PyTorch training script. The parameters\u001b[39;49;00m\n",
      "\u001b[33m    passed are as follows:\u001b[39;49;00m\n",
      "\u001b[33m    model        - The PyTorch model that we wish to train.\u001b[39;49;00m\n",
      "\u001b[33m    train_loader - The PyTorch DataLoader that should be used during training.\u001b[39;49;00m\n",
      "\u001b[33m    epochs       - The total number of epochs to train for.\u001b[39;49;00m\n",
      "\u001b[33m    optimizer    - The optimizer to use during training.\u001b[39;49;00m\n",
      "\u001b[33m    loss_fn      - The loss function used for training.\u001b[39;49;00m\n",
      "\u001b[33m    device       - Where the model and data should be loaded (gpu or cpu).\u001b[39;49;00m\n",
      "\u001b[33m    \"\"\"\u001b[39;49;00m\n",
      "    \n",
      "    \u001b[37m# TODO: Paste the train() method developed in the notebook here.\u001b[39;49;00m\n",
      "    \u001b[34mfor\u001b[39;49;00m epoch \u001b[35min\u001b[39;49;00m \u001b[36mrange\u001b[39;49;00m(\u001b[34m1\u001b[39;49;00m, epochs + \u001b[34m1\u001b[39;49;00m):\n",
      "        model.train()\n",
      "        total_loss = \u001b[34m0\u001b[39;49;00m\n",
      "        \u001b[34mfor\u001b[39;49;00m batch \u001b[35min\u001b[39;49;00m train_loader:         \n",
      "            batch_X, batch_y = batch\n",
      "            \n",
      "            batch_X = batch_X.to(device)\n",
      "            batch_y = batch_y.to(device)\n",
      "            \n",
      "            \u001b[37m# TODO: Complete this train method to train the model provided.\u001b[39;49;00m\n",
      "            optimizer.zero_grad()\n",
      "            out = model(batch_X)\n",
      "            loss = loss_fn(out, batch_y)\n",
      "            loss.backward()\n",
      "            optimizer.step()\n",
      "            \n",
      "            total_loss += loss.data.item()\n",
      "        \u001b[36mprint\u001b[39;49;00m(\u001b[33m\"\u001b[39;49;00m\u001b[33mEpoch: \u001b[39;49;00m\u001b[33m{}\u001b[39;49;00m\u001b[33m, BCELoss: \u001b[39;49;00m\u001b[33m{}\u001b[39;49;00m\u001b[33m\"\u001b[39;49;00m.format(epoch, total_loss / \u001b[36mlen\u001b[39;49;00m(train_loader)))\n",
      "\n",
      "\n",
      "\u001b[34mif\u001b[39;49;00m \u001b[31m__name__\u001b[39;49;00m == \u001b[33m'\u001b[39;49;00m\u001b[33m__main__\u001b[39;49;00m\u001b[33m'\u001b[39;49;00m:\n",
      "    \u001b[37m# All of the model parameters and training parameters are sent as arguments when the script\u001b[39;49;00m\n",
      "    \u001b[37m# is executed. Here we set up an argument parser to easily access the parameters.\u001b[39;49;00m\n",
      "\n",
      "    parser = argparse.ArgumentParser()\n",
      "\n",
      "    \u001b[37m# Training Parameters\u001b[39;49;00m\n",
      "    parser.add_argument(\u001b[33m'\u001b[39;49;00m\u001b[33m--batch-size\u001b[39;49;00m\u001b[33m'\u001b[39;49;00m, \u001b[36mtype\u001b[39;49;00m=\u001b[36mint\u001b[39;49;00m, default=\u001b[34m512\u001b[39;49;00m, metavar=\u001b[33m'\u001b[39;49;00m\u001b[33mN\u001b[39;49;00m\u001b[33m'\u001b[39;49;00m,\n",
      "                        help=\u001b[33m'\u001b[39;49;00m\u001b[33minput batch size for training (default: 512)\u001b[39;49;00m\u001b[33m'\u001b[39;49;00m)\n",
      "    parser.add_argument(\u001b[33m'\u001b[39;49;00m\u001b[33m--epochs\u001b[39;49;00m\u001b[33m'\u001b[39;49;00m, \u001b[36mtype\u001b[39;49;00m=\u001b[36mint\u001b[39;49;00m, default=\u001b[34m10\u001b[39;49;00m, metavar=\u001b[33m'\u001b[39;49;00m\u001b[33mN\u001b[39;49;00m\u001b[33m'\u001b[39;49;00m,\n",
      "                        help=\u001b[33m'\u001b[39;49;00m\u001b[33mnumber of epochs to train (default: 10)\u001b[39;49;00m\u001b[33m'\u001b[39;49;00m)\n",
      "    parser.add_argument(\u001b[33m'\u001b[39;49;00m\u001b[33m--seed\u001b[39;49;00m\u001b[33m'\u001b[39;49;00m, \u001b[36mtype\u001b[39;49;00m=\u001b[36mint\u001b[39;49;00m, default=\u001b[34m1\u001b[39;49;00m, metavar=\u001b[33m'\u001b[39;49;00m\u001b[33mS\u001b[39;49;00m\u001b[33m'\u001b[39;49;00m,\n",
      "                        help=\u001b[33m'\u001b[39;49;00m\u001b[33mrandom seed (default: 1)\u001b[39;49;00m\u001b[33m'\u001b[39;49;00m)\n",
      "\n",
      "    \u001b[37m# Model Parameters\u001b[39;49;00m\n",
      "    parser.add_argument(\u001b[33m'\u001b[39;49;00m\u001b[33m--embedding_dim\u001b[39;49;00m\u001b[33m'\u001b[39;49;00m, \u001b[36mtype\u001b[39;49;00m=\u001b[36mint\u001b[39;49;00m, default=\u001b[34m32\u001b[39;49;00m, metavar=\u001b[33m'\u001b[39;49;00m\u001b[33mN\u001b[39;49;00m\u001b[33m'\u001b[39;49;00m,\n",
      "                        help=\u001b[33m'\u001b[39;49;00m\u001b[33msize of the word embeddings (default: 32)\u001b[39;49;00m\u001b[33m'\u001b[39;49;00m)\n",
      "    parser.add_argument(\u001b[33m'\u001b[39;49;00m\u001b[33m--hidden_dim\u001b[39;49;00m\u001b[33m'\u001b[39;49;00m, \u001b[36mtype\u001b[39;49;00m=\u001b[36mint\u001b[39;49;00m, default=\u001b[34m100\u001b[39;49;00m, metavar=\u001b[33m'\u001b[39;49;00m\u001b[33mN\u001b[39;49;00m\u001b[33m'\u001b[39;49;00m,\n",
      "                        help=\u001b[33m'\u001b[39;49;00m\u001b[33msize of the hidden dimension (default: 100)\u001b[39;49;00m\u001b[33m'\u001b[39;49;00m)\n",
      "    parser.add_argument(\u001b[33m'\u001b[39;49;00m\u001b[33m--vocab_size\u001b[39;49;00m\u001b[33m'\u001b[39;49;00m, \u001b[36mtype\u001b[39;49;00m=\u001b[36mint\u001b[39;49;00m, default=\u001b[34m5000\u001b[39;49;00m, metavar=\u001b[33m'\u001b[39;49;00m\u001b[33mN\u001b[39;49;00m\u001b[33m'\u001b[39;49;00m,\n",
      "                        help=\u001b[33m'\u001b[39;49;00m\u001b[33msize of the vocabulary (default: 5000)\u001b[39;49;00m\u001b[33m'\u001b[39;49;00m)\n",
      "\n",
      "    \u001b[37m# SageMaker Parameters\u001b[39;49;00m\n",
      "    parser.add_argument(\u001b[33m'\u001b[39;49;00m\u001b[33m--hosts\u001b[39;49;00m\u001b[33m'\u001b[39;49;00m, \u001b[36mtype\u001b[39;49;00m=\u001b[36mlist\u001b[39;49;00m, default=json.loads(os.environ[\u001b[33m'\u001b[39;49;00m\u001b[33mSM_HOSTS\u001b[39;49;00m\u001b[33m'\u001b[39;49;00m]))\n",
      "    parser.add_argument(\u001b[33m'\u001b[39;49;00m\u001b[33m--current-host\u001b[39;49;00m\u001b[33m'\u001b[39;49;00m, \u001b[36mtype\u001b[39;49;00m=\u001b[36mstr\u001b[39;49;00m, default=os.environ[\u001b[33m'\u001b[39;49;00m\u001b[33mSM_CURRENT_HOST\u001b[39;49;00m\u001b[33m'\u001b[39;49;00m])\n",
      "    parser.add_argument(\u001b[33m'\u001b[39;49;00m\u001b[33m--model-dir\u001b[39;49;00m\u001b[33m'\u001b[39;49;00m, \u001b[36mtype\u001b[39;49;00m=\u001b[36mstr\u001b[39;49;00m, default=os.environ[\u001b[33m'\u001b[39;49;00m\u001b[33mSM_MODEL_DIR\u001b[39;49;00m\u001b[33m'\u001b[39;49;00m])\n",
      "    parser.add_argument(\u001b[33m'\u001b[39;49;00m\u001b[33m--data-dir\u001b[39;49;00m\u001b[33m'\u001b[39;49;00m, \u001b[36mtype\u001b[39;49;00m=\u001b[36mstr\u001b[39;49;00m, default=os.environ[\u001b[33m'\u001b[39;49;00m\u001b[33mSM_CHANNEL_TRAINING\u001b[39;49;00m\u001b[33m'\u001b[39;49;00m])\n",
      "    parser.add_argument(\u001b[33m'\u001b[39;49;00m\u001b[33m--num-gpus\u001b[39;49;00m\u001b[33m'\u001b[39;49;00m, \u001b[36mtype\u001b[39;49;00m=\u001b[36mint\u001b[39;49;00m, default=os.environ[\u001b[33m'\u001b[39;49;00m\u001b[33mSM_NUM_GPUS\u001b[39;49;00m\u001b[33m'\u001b[39;49;00m])\n",
      "\n",
      "    args = parser.parse_args()\n",
      "\n",
      "    device = torch.device(\u001b[33m\"\u001b[39;49;00m\u001b[33mcuda\u001b[39;49;00m\u001b[33m\"\u001b[39;49;00m \u001b[34mif\u001b[39;49;00m torch.cuda.is_available() \u001b[34melse\u001b[39;49;00m \u001b[33m\"\u001b[39;49;00m\u001b[33mcpu\u001b[39;49;00m\u001b[33m\"\u001b[39;49;00m)\n",
      "    \u001b[36mprint\u001b[39;49;00m(\u001b[33m\"\u001b[39;49;00m\u001b[33mUsing device \u001b[39;49;00m\u001b[33m{}\u001b[39;49;00m\u001b[33m.\u001b[39;49;00m\u001b[33m\"\u001b[39;49;00m.format(device))\n",
      "\n",
      "    torch.manual_seed(args.seed)\n",
      "\n",
      "    \u001b[37m# Load the training data.\u001b[39;49;00m\n",
      "    train_loader = _get_train_data_loader(args.batch_size, args.data_dir)\n",
      "\n",
      "    \u001b[37m# Build the model.\u001b[39;49;00m\n",
      "    model = LSTMClassifier(args.embedding_dim, args.hidden_dim, args.vocab_size).to(device)\n",
      "\n",
      "    \u001b[34mwith\u001b[39;49;00m \u001b[36mopen\u001b[39;49;00m(os.path.join(args.data_dir, \u001b[33m\"\u001b[39;49;00m\u001b[33mword_dict.pkl\u001b[39;49;00m\u001b[33m\"\u001b[39;49;00m), \u001b[33m\"\u001b[39;49;00m\u001b[33mrb\u001b[39;49;00m\u001b[33m\"\u001b[39;49;00m) \u001b[34mas\u001b[39;49;00m f:\n",
      "        model.word_dict = pickle.load(f)\n",
      "\n",
      "    \u001b[36mprint\u001b[39;49;00m(\u001b[33m\"\u001b[39;49;00m\u001b[33mModel loaded with embedding_dim \u001b[39;49;00m\u001b[33m{}\u001b[39;49;00m\u001b[33m, hidden_dim \u001b[39;49;00m\u001b[33m{}\u001b[39;49;00m\u001b[33m, vocab_size \u001b[39;49;00m\u001b[33m{}\u001b[39;49;00m\u001b[33m.\u001b[39;49;00m\u001b[33m\"\u001b[39;49;00m.format(\n",
      "        args.embedding_dim, args.hidden_dim, args.vocab_size\n",
      "    ))\n",
      "\n",
      "    \u001b[37m# Train the model.\u001b[39;49;00m\n",
      "    optimizer = optim.Adam(model.parameters())\n",
      "    loss_fn = torch.nn.BCELoss()\n",
      "\n",
      "    train(model, train_loader, args.epochs, optimizer, loss_fn, device)\n",
      "\n",
      "    \u001b[37m# Save the parameters used to construct the model\u001b[39;49;00m\n",
      "    model_info_path = os.path.join(args.model_dir, \u001b[33m'\u001b[39;49;00m\u001b[33mmodel_info.pth\u001b[39;49;00m\u001b[33m'\u001b[39;49;00m)\n",
      "    \u001b[34mwith\u001b[39;49;00m \u001b[36mopen\u001b[39;49;00m(model_info_path, \u001b[33m'\u001b[39;49;00m\u001b[33mwb\u001b[39;49;00m\u001b[33m'\u001b[39;49;00m) \u001b[34mas\u001b[39;49;00m f:\n",
      "        model_info = {\n",
      "            \u001b[33m'\u001b[39;49;00m\u001b[33membedding_dim\u001b[39;49;00m\u001b[33m'\u001b[39;49;00m: args.embedding_dim,\n",
      "            \u001b[33m'\u001b[39;49;00m\u001b[33mhidden_dim\u001b[39;49;00m\u001b[33m'\u001b[39;49;00m: args.hidden_dim,\n",
      "            \u001b[33m'\u001b[39;49;00m\u001b[33mvocab_size\u001b[39;49;00m\u001b[33m'\u001b[39;49;00m: args.vocab_size,\n",
      "        }\n",
      "        torch.save(model_info, f)\n",
      "\n",
      "\t\u001b[37m# Save the word_dict\u001b[39;49;00m\n",
      "    word_dict_path = os.path.join(args.model_dir, \u001b[33m'\u001b[39;49;00m\u001b[33mword_dict.pkl\u001b[39;49;00m\u001b[33m'\u001b[39;49;00m)\n",
      "    \u001b[34mwith\u001b[39;49;00m \u001b[36mopen\u001b[39;49;00m(word_dict_path, \u001b[33m'\u001b[39;49;00m\u001b[33mwb\u001b[39;49;00m\u001b[33m'\u001b[39;49;00m) \u001b[34mas\u001b[39;49;00m f:\n",
      "        pickle.dump(model.word_dict, f)\n",
      "\n",
      "\t\u001b[37m# Save the model parameters\u001b[39;49;00m\n",
      "    model_path = os.path.join(args.model_dir, \u001b[33m'\u001b[39;49;00m\u001b[33mmodel.pth\u001b[39;49;00m\u001b[33m'\u001b[39;49;00m)\n",
      "    \u001b[34mwith\u001b[39;49;00m \u001b[36mopen\u001b[39;49;00m(model_path, \u001b[33m'\u001b[39;49;00m\u001b[33mwb\u001b[39;49;00m\u001b[33m'\u001b[39;49;00m) \u001b[34mas\u001b[39;49;00m f:\n",
      "        torch.save(model.cpu().state_dict(), f)\n"
     ]
    }
   ],
   "source": [
    "!pygmentize train/train.py"
   ]
  },
  {
   "cell_type": "code",
   "execution_count": 27,
   "metadata": {},
   "outputs": [],
   "source": [
    "from sagemaker.pytorch import PyTorch\n",
    "\n",
    "estimator = PyTorch(entry_point=\"train.py\",\n",
    "                    source_dir=\"train\",\n",
    "                    role=role,\n",
    "                    framework_version='0.4.0',\n",
    "                    py_version='py3',\n",
    "                    instance_count=1,\n",
    "                    instance_type='ml.p2.xlarge',\n",
    "                    hyperparameters={\n",
    "                        'epochs': 10,\n",
    "                        'hidden_dim': 200,\n",
    "                    })"
   ]
  },
  {
   "cell_type": "code",
   "execution_count": 28,
   "metadata": {},
   "outputs": [
    {
     "name": "stdout",
     "output_type": "stream",
     "text": [
      "2020-12-01 14:35:26 Starting - Starting the training job...\n",
      "2020-12-01 14:35:28 Starting - Launching requested ML instances......\n",
      "2020-12-01 14:36:38 Starting - Preparing the instances for training.........\n",
      "2020-12-01 14:38:11 Downloading - Downloading input data...\n",
      "2020-12-01 14:38:55 Training - Training image download completed. Training in progress..\u001b[34mbash: cannot set terminal process group (-1): Inappropriate ioctl for device\u001b[0m\n",
      "\u001b[34mbash: no job control in this shell\u001b[0m\n",
      "\u001b[34m2020-12-01 14:38:56,951 sagemaker-containers INFO     Imported framework sagemaker_pytorch_container.training\u001b[0m\n",
      "\u001b[34m2020-12-01 14:38:56,977 sagemaker_pytorch_container.training INFO     Block until all host DNS lookups succeed.\u001b[0m\n",
      "\u001b[34m2020-12-01 14:39:00,000 sagemaker_pytorch_container.training INFO     Invoking user training script.\u001b[0m\n",
      "\u001b[34m2020-12-01 14:39:00,253 sagemaker-containers INFO     Module train does not provide a setup.py. \u001b[0m\n",
      "\u001b[34mGenerating setup.py\u001b[0m\n",
      "\u001b[34m2020-12-01 14:39:00,253 sagemaker-containers INFO     Generating setup.cfg\u001b[0m\n",
      "\u001b[34m2020-12-01 14:39:00,253 sagemaker-containers INFO     Generating MANIFEST.in\u001b[0m\n",
      "\u001b[34m2020-12-01 14:39:00,254 sagemaker-containers INFO     Installing module with the following command:\u001b[0m\n",
      "\u001b[34m/usr/bin/python -m pip install -U . -r requirements.txt\u001b[0m\n",
      "\u001b[34mProcessing /opt/ml/code\u001b[0m\n",
      "\u001b[34mCollecting pandas (from -r requirements.txt (line 1))\n",
      "  Downloading https://files.pythonhosted.org/packages/74/24/0cdbf8907e1e3bc5a8da03345c23cbed7044330bb8f73bb12e711a640a00/pandas-0.24.2-cp35-cp35m-manylinux1_x86_64.whl (10.0MB)\u001b[0m\n",
      "\u001b[34mCollecting numpy (from -r requirements.txt (line 2))\u001b[0m\n",
      "\u001b[34m  Downloading https://files.pythonhosted.org/packages/b5/36/88723426b4ff576809fec7d73594fe17a35c27f8d01f93637637a29ae25b/numpy-1.18.5-cp35-cp35m-manylinux1_x86_64.whl (19.9MB)\u001b[0m\n",
      "\u001b[34mCollecting nltk (from -r requirements.txt (line 3))\n",
      "  Downloading https://files.pythonhosted.org/packages/92/75/ce35194d8e3022203cca0d2f896dbb88689f9b3fce8e9f9cff942913519d/nltk-3.5.zip (1.4MB)\u001b[0m\n",
      "\u001b[34mCollecting beautifulsoup4 (from -r requirements.txt (line 4))\n",
      "  Downloading https://files.pythonhosted.org/packages/d1/41/e6495bd7d3781cee623ce23ea6ac73282a373088fcd0ddc809a047b18eae/beautifulsoup4-4.9.3-py3-none-any.whl (115kB)\u001b[0m\n",
      "\u001b[34mCollecting html5lib (from -r requirements.txt (line 5))\n",
      "  Downloading https://files.pythonhosted.org/packages/6c/dd/a834df6482147d48e225a49515aabc28974ad5a4ca3215c18a882565b028/html5lib-1.1-py2.py3-none-any.whl (112kB)\u001b[0m\n",
      "\u001b[34mRequirement already satisfied, skipping upgrade: python-dateutil>=2.5.0 in /usr/local/lib/python3.5/dist-packages (from pandas->-r requirements.txt (line 1)) (2.7.5)\u001b[0m\n",
      "\u001b[34mCollecting pytz>=2011k (from pandas->-r requirements.txt (line 1))\n",
      "  Downloading https://files.pythonhosted.org/packages/12/f8/ff09af6ff61a3efaad5f61ba5facdf17e7722c4393f7d8a66674d2dbd29f/pytz-2020.4-py2.py3-none-any.whl (509kB)\u001b[0m\n",
      "\u001b[34mRequirement already satisfied, skipping upgrade: click in /usr/local/lib/python3.5/dist-packages (from nltk->-r requirements.txt (line 3)) (7.0)\u001b[0m\n",
      "\u001b[34mCollecting joblib (from nltk->-r requirements.txt (line 3))\n",
      "  Downloading https://files.pythonhosted.org/packages/28/5c/cf6a2b65a321c4a209efcdf64c2689efae2cb62661f8f6f4bb28547cf1bf/joblib-0.14.1-py2.py3-none-any.whl (294kB)\u001b[0m\n",
      "\u001b[34mCollecting regex (from nltk->-r requirements.txt (line 3))\n",
      "  Downloading https://files.pythonhosted.org/packages/2e/e4/3447fed9ab29944333f48730ecff4dca92f0868c5b188d6ab2b2078e32c2/regex-2020.11.13.tar.gz (694kB)\u001b[0m\n",
      "\u001b[34mCollecting tqdm (from nltk->-r requirements.txt (line 3))\n",
      "  Downloading https://files.pythonhosted.org/packages/e9/4e/afa45872365fe2abd13c8022d39348c01808b8cfeea129937920d7bb2244/tqdm-4.54.0-py2.py3-none-any.whl (69kB)\u001b[0m\n",
      "\u001b[34mCollecting soupsieve>1.2; python_version >= \"3.0\" (from beautifulsoup4->-r requirements.txt (line 4))\n",
      "  Downloading https://files.pythonhosted.org/packages/6f/8f/457f4a5390eeae1cc3aeab89deb7724c965be841ffca6cfca9197482e470/soupsieve-2.0.1-py3-none-any.whl\u001b[0m\n",
      "\u001b[34mRequirement already satisfied, skipping upgrade: six>=1.9 in /usr/local/lib/python3.5/dist-packages (from html5lib->-r requirements.txt (line 5)) (1.11.0)\u001b[0m\n",
      "\u001b[34mCollecting webencodings (from html5lib->-r requirements.txt (line 5))\n",
      "  Downloading https://files.pythonhosted.org/packages/f4/24/2a3e3df732393fed8b3ebf2ec078f05546de641fe1b667ee316ec1dcf3b7/webencodings-0.5.1-py2.py3-none-any.whl\u001b[0m\n",
      "\u001b[34mBuilding wheels for collected packages: nltk, train, regex\n",
      "  Running setup.py bdist_wheel for nltk: started\u001b[0m\n",
      "\u001b[34m  Running setup.py bdist_wheel for nltk: finished with status 'done'\n",
      "  Stored in directory: /root/.cache/pip/wheels/ae/8c/3f/b1fe0ba04555b08b57ab52ab7f86023639a526d8bc8d384306\n",
      "  Running setup.py bdist_wheel for train: started\n",
      "  Running setup.py bdist_wheel for train: finished with status 'done'\n",
      "  Stored in directory: /tmp/pip-ephem-wheel-cache-_enb4hjc/wheels/35/24/16/37574d11bf9bde50616c67372a334f94fa8356bc7164af8ca3\n",
      "  Running setup.py bdist_wheel for regex: started\u001b[0m\n",
      "\u001b[34m  Running setup.py bdist_wheel for regex: finished with status 'done'\n",
      "  Stored in directory: /root/.cache/pip/wheels/27/f6/66/a4243e485a0ebc73dc59033ae26c48e82526f77dbfe158ac59\u001b[0m\n",
      "\u001b[34mSuccessfully built nltk train regex\u001b[0m\n",
      "\u001b[34mInstalling collected packages: pytz, numpy, pandas, joblib, regex, tqdm, nltk, soupsieve, beautifulsoup4, webencodings, html5lib, train\n",
      "  Found existing installation: numpy 1.15.4\u001b[0m\n",
      "\u001b[34m    Uninstalling numpy-1.15.4:\n",
      "      Successfully uninstalled numpy-1.15.4\u001b[0m\n",
      "\u001b[34mSuccessfully installed beautifulsoup4-4.9.3 html5lib-1.1 joblib-0.14.1 nltk-3.5 numpy-1.18.5 pandas-0.24.2 pytz-2020.4 regex-2020.11.13 soupsieve-2.0.1 tqdm-4.54.0 train-1.0.0 webencodings-0.5.1\u001b[0m\n",
      "\u001b[34mYou are using pip version 18.1, however version 20.3 is available.\u001b[0m\n",
      "\u001b[34mYou should consider upgrading via the 'pip install --upgrade pip' command.\u001b[0m\n",
      "\u001b[34m2020-12-01 14:39:23,414 sagemaker-containers INFO     Invoking user script\n",
      "\u001b[0m\n",
      "\u001b[34mTraining Env:\n",
      "\u001b[0m\n",
      "\u001b[34m{\n",
      "    \"log_level\": 20,\n",
      "    \"module_dir\": \"s3://sagemaker-ap-southeast-1-691272828109/sagemaker-pytorch-2020-12-01-14-35-26-095/source/sourcedir.tar.gz\",\n",
      "    \"hyperparameters\": {\n",
      "        \"hidden_dim\": 200,\n",
      "        \"epochs\": 10\n",
      "    },\n",
      "    \"channel_input_dirs\": {\n",
      "        \"training\": \"/opt/ml/input/data/training\"\n",
      "    },\n",
      "    \"input_config_dir\": \"/opt/ml/input/config\",\n",
      "    \"resource_config\": {\n",
      "        \"network_interface_name\": \"eth0\",\n",
      "        \"current_host\": \"algo-1\",\n",
      "        \"hosts\": [\n",
      "            \"algo-1\"\n",
      "        ]\n",
      "    },\n",
      "    \"network_interface_name\": \"eth0\",\n",
      "    \"model_dir\": \"/opt/ml/model\",\n",
      "    \"additional_framework_parameters\": {},\n",
      "    \"output_data_dir\": \"/opt/ml/output/data\",\n",
      "    \"hosts\": [\n",
      "        \"algo-1\"\n",
      "    ],\n",
      "    \"module_name\": \"train\",\n",
      "    \"job_name\": \"sagemaker-pytorch-2020-12-01-14-35-26-095\",\n",
      "    \"num_gpus\": 1,\n",
      "    \"current_host\": \"algo-1\",\n",
      "    \"input_data_config\": {\n",
      "        \"training\": {\n",
      "            \"RecordWrapperType\": \"None\",\n",
      "            \"S3DistributionType\": \"FullyReplicated\",\n",
      "            \"TrainingInputMode\": \"File\"\n",
      "        }\n",
      "    },\n",
      "    \"input_dir\": \"/opt/ml/input\",\n",
      "    \"framework_module\": \"sagemaker_pytorch_container.training:main\",\n",
      "    \"output_dir\": \"/opt/ml/output\",\n",
      "    \"user_entry_point\": \"train.py\",\n",
      "    \"num_cpus\": 4,\n",
      "    \"output_intermediate_dir\": \"/opt/ml/output/intermediate\"\u001b[0m\n",
      "\u001b[34m}\n",
      "\u001b[0m\n",
      "\u001b[34mEnvironment variables:\n",
      "\u001b[0m\n",
      "\u001b[34mSM_USER_ENTRY_POINT=train.py\u001b[0m\n",
      "\u001b[34mSM_RESOURCE_CONFIG={\"current_host\":\"algo-1\",\"hosts\":[\"algo-1\"],\"network_interface_name\":\"eth0\"}\u001b[0m\n",
      "\u001b[34mSM_MODULE_NAME=train\u001b[0m\n",
      "\u001b[34mSM_HP_HIDDEN_DIM=200\u001b[0m\n",
      "\u001b[34mSM_USER_ARGS=[\"--epochs\",\"10\",\"--hidden_dim\",\"200\"]\u001b[0m\n",
      "\u001b[34mSM_FRAMEWORK_PARAMS={}\u001b[0m\n",
      "\u001b[34mSM_FRAMEWORK_MODULE=sagemaker_pytorch_container.training:main\u001b[0m\n",
      "\u001b[34mSM_OUTPUT_DATA_DIR=/opt/ml/output/data\u001b[0m\n",
      "\u001b[34mSM_CURRENT_HOST=algo-1\u001b[0m\n",
      "\u001b[34mSM_CHANNEL_TRAINING=/opt/ml/input/data/training\u001b[0m\n",
      "\u001b[34mSM_INPUT_CONFIG_DIR=/opt/ml/input/config\u001b[0m\n",
      "\u001b[34mSM_NUM_GPUS=1\u001b[0m\n",
      "\u001b[34mSM_OUTPUT_INTERMEDIATE_DIR=/opt/ml/output/intermediate\u001b[0m\n",
      "\u001b[34mSM_OUTPUT_DIR=/opt/ml/output\u001b[0m\n",
      "\u001b[34mSM_HP_EPOCHS=10\u001b[0m\n",
      "\u001b[34mSM_MODULE_DIR=s3://sagemaker-ap-southeast-1-691272828109/sagemaker-pytorch-2020-12-01-14-35-26-095/source/sourcedir.tar.gz\u001b[0m\n",
      "\u001b[34mSM_HOSTS=[\"algo-1\"]\u001b[0m\n",
      "\u001b[34mSM_NUM_CPUS=4\u001b[0m\n",
      "\u001b[34mSM_INPUT_DATA_CONFIG={\"training\":{\"RecordWrapperType\":\"None\",\"S3DistributionType\":\"FullyReplicated\",\"TrainingInputMode\":\"File\"}}\u001b[0m\n",
      "\u001b[34mPYTHONPATH=/usr/local/bin:/usr/lib/python35.zip:/usr/lib/python3.5:/usr/lib/python3.5/plat-x86_64-linux-gnu:/usr/lib/python3.5/lib-dynload:/usr/local/lib/python3.5/dist-packages:/usr/lib/python3/dist-packages\u001b[0m\n",
      "\u001b[34mSM_CHANNELS=[\"training\"]\u001b[0m\n",
      "\u001b[34mSM_HPS={\"epochs\":10,\"hidden_dim\":200}\u001b[0m\n",
      "\u001b[34mSM_NETWORK_INTERFACE_NAME=eth0\u001b[0m\n",
      "\u001b[34mSM_MODEL_DIR=/opt/ml/model\u001b[0m\n",
      "\u001b[34mSM_INPUT_DIR=/opt/ml/input\u001b[0m\n",
      "\u001b[34mSM_LOG_LEVEL=20\u001b[0m\n",
      "\u001b[34mSM_TRAINING_ENV={\"additional_framework_parameters\":{},\"channel_input_dirs\":{\"training\":\"/opt/ml/input/data/training\"},\"current_host\":\"algo-1\",\"framework_module\":\"sagemaker_pytorch_container.training:main\",\"hosts\":[\"algo-1\"],\"hyperparameters\":{\"epochs\":10,\"hidden_dim\":200},\"input_config_dir\":\"/opt/ml/input/config\",\"input_data_config\":{\"training\":{\"RecordWrapperType\":\"None\",\"S3DistributionType\":\"FullyReplicated\",\"TrainingInputMode\":\"File\"}},\"input_dir\":\"/opt/ml/input\",\"job_name\":\"sagemaker-pytorch-2020-12-01-14-35-26-095\",\"log_level\":20,\"model_dir\":\"/opt/ml/model\",\"module_dir\":\"s3://sagemaker-ap-southeast-1-691272828109/sagemaker-pytorch-2020-12-01-14-35-26-095/source/sourcedir.tar.gz\",\"module_name\":\"train\",\"network_interface_name\":\"eth0\",\"num_cpus\":4,\"num_gpus\":1,\"output_data_dir\":\"/opt/ml/output/data\",\"output_dir\":\"/opt/ml/output\",\"output_intermediate_dir\":\"/opt/ml/output/intermediate\",\"resource_config\":{\"current_host\":\"algo-1\",\"hosts\":[\"algo-1\"],\"network_interface_name\":\"eth0\"},\"user_entry_point\":\"train.py\"}\n",
      "\u001b[0m\n",
      "\u001b[34mInvoking script with the following command:\n",
      "\u001b[0m\n",
      "\u001b[34m/usr/bin/python -m train --epochs 10 --hidden_dim 200\n",
      "\n",
      "\u001b[0m\n",
      "\u001b[34mUsing device cuda.\u001b[0m\n",
      "\u001b[34mGet train data loader.\u001b[0m\n",
      "\u001b[34mModel loaded with embedding_dim 32, hidden_dim 200, vocab_size 5000.\u001b[0m\n",
      "\u001b[34mEpoch: 1, BCELoss: 0.6763501714686958\u001b[0m\n",
      "\u001b[34mEpoch: 2, BCELoss: 0.6134491368215911\u001b[0m\n",
      "\u001b[34mEpoch: 3, BCELoss: 0.5151014978788337\u001b[0m\n",
      "\u001b[34mEpoch: 4, BCELoss: 0.42833059843705623\u001b[0m\n",
      "\u001b[34mEpoch: 5, BCELoss: 0.38586743510499294\u001b[0m\n",
      "\u001b[34mEpoch: 6, BCELoss: 0.3429293474372552\u001b[0m\n",
      "\u001b[34mEpoch: 7, BCELoss: 0.3143839890859565\u001b[0m\n",
      "\u001b[34mEpoch: 8, BCELoss: 0.2938655751700304\u001b[0m\n",
      "\u001b[34mEpoch: 9, BCELoss: 0.27934188076428007\u001b[0m\n",
      "\n",
      "2020-12-01 14:42:30 Uploading - Uploading generated training model\n",
      "2020-12-01 14:42:30 Completed - Training job completed\n",
      "\u001b[34mEpoch: 10, BCELoss: 0.2974255769228449\u001b[0m\n",
      "\u001b[34m2020-12-01 14:42:19,566 sagemaker-containers INFO     Reporting training SUCCESS\u001b[0m\n",
      "Training seconds: 259\n",
      "Billable seconds: 259\n"
     ]
    }
   ],
   "source": [
    "estimator.fit({'training': input_data})"
   ]
  },
  {
   "cell_type": "markdown",
   "metadata": {},
   "source": [
    "## Step 5: Testing the model\n",
    "\n",
    "As mentioned at the top of this notebook, we will be testing this model by first deploying it and then sending the testing data to the deployed endpoint. We will do this so that we can make sure that the deployed model is working correctly.\n",
    "\n",
    "## Step 6: Deploy the model for testing\n",
    "\n",
    "Now that we have trained our model, we would like to test it to see how it performs. Currently our model takes input of the form `review_length, review[500]` where `review[500]` is a sequence of `500` integers which describe the words present in the review, encoded using `word_dict`. Fortunately for us, SageMaker provides built-in inference code for models with simple inputs such as this.\n",
    "\n",
    "There is one thing that we need to provide, however, and that is a function which loads the saved model. This function must be called `model_fn()` and takes as its only parameter a path to the directory where the model artifacts are stored. This function must also be present in the python file which we specified as the entry point. In our case the model loading function has been provided and so no changes need to be made.\n",
    "\n",
    "**NOTE**: When the built-in inference code is run it must import the `model_fn()` method from the `train.py` file. This is why the training code is wrapped in a main guard ( ie, `if __name__ == '__main__':` )\n",
    "\n",
    "Since we don't need to change anything in the code that was uploaded during training, we can simply deploy the current model as-is.\n",
    "\n",
    "**NOTE:** When deploying a model you are asking SageMaker to launch an compute instance that will wait for data to be sent to it. As a result, this compute instance will continue to run until *you* shut it down. This is important to know since the cost of a deployed endpoint depends on how long it has been running for.\n",
    "\n",
    "In other words **If you are no longer using a deployed endpoint, shut it down!**\n",
    "\n",
    "**TODO:** Deploy the trained model."
   ]
  },
  {
   "cell_type": "code",
   "execution_count": 35,
   "metadata": {},
   "outputs": [
    {
     "name": "stdout",
     "output_type": "stream",
     "text": [
      "---------------!"
     ]
    }
   ],
   "source": [
    "# TODO: Deploy the trained model\n",
    "predictor = estimator.deploy(initial_instance_count=1, instance_type='ml.m4.xlarge')"
   ]
  },
  {
   "cell_type": "markdown",
   "metadata": {},
   "source": [
    "## Step 7 - Use the model for testing\n",
    "\n",
    "Once deployed, we can read in the test data and send it off to our deployed model to get some results. Once we collect all of the results we can determine how accurate our model is."
   ]
  },
  {
   "cell_type": "code",
   "execution_count": 36,
   "metadata": {},
   "outputs": [],
   "source": [
    "test_X = pd.concat([pd.DataFrame(test_X_len), pd.DataFrame(test_X)], axis=1)"
   ]
  },
  {
   "cell_type": "code",
   "execution_count": 37,
   "metadata": {},
   "outputs": [],
   "source": [
    "# We split the data into chunks and send each chunk seperately, accumulating the results.\n",
    "\n",
    "def predict(data, rows=512):\n",
    "    split_array = np.array_split(data, int(data.shape[0] / float(rows) + 1))\n",
    "    predictions = np.array([])\n",
    "    for array in split_array:\n",
    "        predictions = np.append(predictions, predictor.predict(array))\n",
    "    \n",
    "    return predictions"
   ]
  },
  {
   "cell_type": "code",
   "execution_count": 38,
   "metadata": {},
   "outputs": [],
   "source": [
    "predictions = predict(test_X.values)\n",
    "predictions = [round(num) for num in predictions]"
   ]
  },
  {
   "cell_type": "code",
   "execution_count": 39,
   "metadata": {},
   "outputs": [
    {
     "data": {
      "text/plain": [
       "0.84036"
      ]
     },
     "execution_count": 39,
     "metadata": {},
     "output_type": "execute_result"
    }
   ],
   "source": [
    "from sklearn.metrics import accuracy_score\n",
    "accuracy_score(test_y, predictions)"
   ]
  },
  {
   "cell_type": "markdown",
   "metadata": {},
   "source": [
    "**Question:** How does this model compare to the XGBoost model you created earlier? Why might these two models perform differently on this dataset? Which do *you* think is better for sentiment analysis?"
   ]
  },
  {
   "cell_type": "markdown",
   "metadata": {},
   "source": [
    "**Answer:**"
   ]
  },
  {
   "cell_type": "markdown",
   "metadata": {},
   "source": [
    "### (TODO) More testing\n",
    "\n",
    "We now have a trained model which has been deployed and which we can send processed reviews to and which returns the predicted sentiment. However, ultimately we would like to be able to send our model an unprocessed review. That is, we would like to send the review itself as a string. For example, suppose we wish to send the following review to our model."
   ]
  },
  {
   "cell_type": "code",
   "execution_count": 40,
   "metadata": {},
   "outputs": [],
   "source": [
    "test_review = 'The simplest pleasures in life are the best, and this film is one of them. Combining a rather basic storyline of love and adventure this movie transcends the usual weekend fair with wit and unmitigated charm.'"
   ]
  },
  {
   "cell_type": "markdown",
   "metadata": {},
   "source": [
    "The question we now need to answer is, how do we send this review to our model?\n",
    "\n",
    "Recall in the first section of this notebook we did a bunch of data processing to the IMDb dataset. In particular, we did two specific things to the provided reviews.\n",
    " - Removed any html tags and stemmed the input\n",
    " - Encoded the review as a sequence of integers using `word_dict`\n",
    " \n",
    "In order process the review we will need to repeat these two steps.\n",
    "\n",
    "**TODO**: Using the `review_to_words` and `convert_and_pad` methods from section one, convert `test_review` into a numpy array `test_data` suitable to send to our model. Remember that our model expects input of the form `review_length, review[500]`."
   ]
  },
  {
   "cell_type": "code",
   "execution_count": 47,
   "metadata": {},
   "outputs": [],
   "source": [
    "# TODO: Convert test_review into a form usable by the model and save the results in test_data\n",
    "test_review_words = [review_to_words(test_review)]\n",
    "test_data_X, test_data_len = convert_and_pad_data(word_dict, test_review_words)"
   ]
  },
  {
   "cell_type": "markdown",
   "metadata": {},
   "source": [
    "Now that we have processed the review, we can send the resulting array to our model to predict the sentiment of the review."
   ]
  },
  {
   "cell_type": "code",
   "execution_count": 56,
   "metadata": {},
   "outputs": [],
   "source": [
    "test_data_len = test_data_len.reshape(1, -1)"
   ]
  },
  {
   "cell_type": "code",
   "execution_count": 58,
   "metadata": {},
   "outputs": [],
   "source": [
    "test_data = np.hstack((test_data_len, test_data_X))"
   ]
  },
  {
   "cell_type": "code",
   "execution_count": 59,
   "metadata": {},
   "outputs": [
    {
     "data": {
      "text/plain": [
       "array(0.8074637, dtype=float32)"
      ]
     },
     "execution_count": 59,
     "metadata": {},
     "output_type": "execute_result"
    }
   ],
   "source": [
    "predictor.predict(test_data)"
   ]
  },
  {
   "cell_type": "markdown",
   "metadata": {},
   "source": [
    "Since the return value of our model is close to `1`, we can be certain that the review we submitted is positive."
   ]
  },
  {
   "cell_type": "markdown",
   "metadata": {},
   "source": [
    "### Delete the endpoint\n",
    "\n",
    "Of course, just like in the XGBoost notebook, once we've deployed an endpoint it continues to run until we tell it to shut down. Since we are done using our endpoint for now, we can delete it."
   ]
  },
  {
   "cell_type": "code",
   "execution_count": 62,
   "metadata": {},
   "outputs": [
    {
     "name": "stderr",
     "output_type": "stream",
     "text": [
      "The function delete_endpoint is a no-op in sagemaker>=2.\n",
      "See: https://sagemaker.readthedocs.io/en/stable/v2.html for details.\n"
     ]
    }
   ],
   "source": [
    "estimator.delete_endpoint()\n",
    "predictor.delete_endpoint()"
   ]
  },
  {
   "cell_type": "markdown",
   "metadata": {},
   "source": [
    "## Step 6 (again) - Deploy the model for the web app\n",
    "\n",
    "Now that we know that our model is working, it's time to create some custom inference code so that we can send the model a review which has not been processed and have it determine the sentiment of the review.\n",
    "\n",
    "As we saw above, by default the estimator which we created, when deployed, will use the entry script and directory which we provided when creating the model. However, since we now wish to accept a string as input and our model expects a processed review, we need to write some custom inference code.\n",
    "\n",
    "We will store the code that we write in the `serve` directory. Provided in this directory is the `model.py` file that we used to construct our model, a `utils.py` file which contains the `review_to_words` and `convert_and_pad` pre-processing functions which we used during the initial data processing, and `predict.py`, the file which will contain our custom inference code. Note also that `requirements.txt` is present which will tell SageMaker what Python libraries are required by our custom inference code.\n",
    "\n",
    "When deploying a PyTorch model in SageMaker, you are expected to provide four functions which the SageMaker inference container will use.\n",
    " - `model_fn`: This function is the same function that we used in the training script and it tells SageMaker how to load our model.\n",
    " - `input_fn`: This function receives the raw serialized input that has been sent to the model's endpoint and its job is to de-serialize and make the input available for the inference code.\n",
    " - `output_fn`: This function takes the output of the inference code and its job is to serialize this output and return it to the caller of the model's endpoint.\n",
    " - `predict_fn`: The heart of the inference script, this is where the actual prediction is done and is the function which you will need to complete.\n",
    "\n",
    "For the simple website that we are constructing during this project, the `input_fn` and `output_fn` methods are relatively straightforward. We only require being able to accept a string as input and we expect to return a single value as output. You might imagine though that in a more complex application the input or output may be image data or some other binary data which would require some effort to serialize.\n",
    "\n",
    "### (TODO) Writing inference code\n",
    "\n",
    "Before writing our custom inference code, we will begin by taking a look at the code which has been provided."
   ]
  },
  {
   "cell_type": "code",
   "execution_count": 1,
   "metadata": {},
   "outputs": [
    {
     "name": "stdout",
     "output_type": "stream",
     "text": [
      "\u001b[34mimport\u001b[39;49;00m \u001b[04m\u001b[36margparse\u001b[39;49;00m\n",
      "\u001b[34mimport\u001b[39;49;00m \u001b[04m\u001b[36mjson\u001b[39;49;00m\n",
      "\u001b[34mimport\u001b[39;49;00m \u001b[04m\u001b[36mos\u001b[39;49;00m\n",
      "\u001b[34mimport\u001b[39;49;00m \u001b[04m\u001b[36mpickle\u001b[39;49;00m\n",
      "\u001b[34mimport\u001b[39;49;00m \u001b[04m\u001b[36msys\u001b[39;49;00m\n",
      "\u001b[34mimport\u001b[39;49;00m \u001b[04m\u001b[36msagemaker_containers\u001b[39;49;00m\n",
      "\u001b[34mimport\u001b[39;49;00m \u001b[04m\u001b[36mpandas\u001b[39;49;00m \u001b[34mas\u001b[39;49;00m \u001b[04m\u001b[36mpd\u001b[39;49;00m\n",
      "\u001b[34mimport\u001b[39;49;00m \u001b[04m\u001b[36mnumpy\u001b[39;49;00m \u001b[34mas\u001b[39;49;00m \u001b[04m\u001b[36mnp\u001b[39;49;00m\n",
      "\u001b[34mimport\u001b[39;49;00m \u001b[04m\u001b[36mtorch\u001b[39;49;00m\n",
      "\u001b[34mimport\u001b[39;49;00m \u001b[04m\u001b[36mtorch\u001b[39;49;00m\u001b[04m\u001b[36m.\u001b[39;49;00m\u001b[04m\u001b[36mnn\u001b[39;49;00m \u001b[34mas\u001b[39;49;00m \u001b[04m\u001b[36mnn\u001b[39;49;00m\n",
      "\u001b[34mimport\u001b[39;49;00m \u001b[04m\u001b[36mtorch\u001b[39;49;00m\u001b[04m\u001b[36m.\u001b[39;49;00m\u001b[04m\u001b[36moptim\u001b[39;49;00m \u001b[34mas\u001b[39;49;00m \u001b[04m\u001b[36moptim\u001b[39;49;00m\n",
      "\u001b[34mimport\u001b[39;49;00m \u001b[04m\u001b[36mtorch\u001b[39;49;00m\u001b[04m\u001b[36m.\u001b[39;49;00m\u001b[04m\u001b[36mutils\u001b[39;49;00m\u001b[04m\u001b[36m.\u001b[39;49;00m\u001b[04m\u001b[36mdata\u001b[39;49;00m\n",
      "\n",
      "\u001b[34mfrom\u001b[39;49;00m \u001b[04m\u001b[36mmodel\u001b[39;49;00m \u001b[34mimport\u001b[39;49;00m LSTMClassifier\n",
      "\n",
      "\u001b[34mfrom\u001b[39;49;00m \u001b[04m\u001b[36mutils\u001b[39;49;00m \u001b[34mimport\u001b[39;49;00m review_to_words, convert_and_pad\n",
      "\n",
      "\u001b[34mdef\u001b[39;49;00m \u001b[32mmodel_fn\u001b[39;49;00m(model_dir):\n",
      "    \u001b[33m\"\"\"Load the PyTorch model from the `model_dir` directory.\"\"\"\u001b[39;49;00m\n",
      "    \u001b[36mprint\u001b[39;49;00m(\u001b[33m\"\u001b[39;49;00m\u001b[33mLoading model.\u001b[39;49;00m\u001b[33m\"\u001b[39;49;00m)\n",
      "\n",
      "    \u001b[37m# First, load the parameters used to create the model.\u001b[39;49;00m\n",
      "    model_info = {}\n",
      "    model_info_path = os.path.join(model_dir, \u001b[33m'\u001b[39;49;00m\u001b[33mmodel_info.pth\u001b[39;49;00m\u001b[33m'\u001b[39;49;00m)\n",
      "    \u001b[34mwith\u001b[39;49;00m \u001b[36mopen\u001b[39;49;00m(model_info_path, \u001b[33m'\u001b[39;49;00m\u001b[33mrb\u001b[39;49;00m\u001b[33m'\u001b[39;49;00m) \u001b[34mas\u001b[39;49;00m f:\n",
      "        model_info = torch.load(f)\n",
      "\n",
      "    \u001b[36mprint\u001b[39;49;00m(\u001b[33m\"\u001b[39;49;00m\u001b[33mmodel_info: \u001b[39;49;00m\u001b[33m{}\u001b[39;49;00m\u001b[33m\"\u001b[39;49;00m.format(model_info))\n",
      "\n",
      "    \u001b[37m# Determine the device and construct the model.\u001b[39;49;00m\n",
      "    device = torch.device(\u001b[33m\"\u001b[39;49;00m\u001b[33mcuda\u001b[39;49;00m\u001b[33m\"\u001b[39;49;00m \u001b[34mif\u001b[39;49;00m torch.cuda.is_available() \u001b[34melse\u001b[39;49;00m \u001b[33m\"\u001b[39;49;00m\u001b[33mcpu\u001b[39;49;00m\u001b[33m\"\u001b[39;49;00m)\n",
      "    model = LSTMClassifier(model_info[\u001b[33m'\u001b[39;49;00m\u001b[33membedding_dim\u001b[39;49;00m\u001b[33m'\u001b[39;49;00m], model_info[\u001b[33m'\u001b[39;49;00m\u001b[33mhidden_dim\u001b[39;49;00m\u001b[33m'\u001b[39;49;00m], model_info[\u001b[33m'\u001b[39;49;00m\u001b[33mvocab_size\u001b[39;49;00m\u001b[33m'\u001b[39;49;00m])\n",
      "\n",
      "    \u001b[37m# Load the store model parameters.\u001b[39;49;00m\n",
      "    model_path = os.path.join(model_dir, \u001b[33m'\u001b[39;49;00m\u001b[33mmodel.pth\u001b[39;49;00m\u001b[33m'\u001b[39;49;00m)\n",
      "    \u001b[34mwith\u001b[39;49;00m \u001b[36mopen\u001b[39;49;00m(model_path, \u001b[33m'\u001b[39;49;00m\u001b[33mrb\u001b[39;49;00m\u001b[33m'\u001b[39;49;00m) \u001b[34mas\u001b[39;49;00m f:\n",
      "        model.load_state_dict(torch.load(f))\n",
      "\n",
      "    \u001b[37m# Load the saved word_dict.\u001b[39;49;00m\n",
      "    word_dict_path = os.path.join(model_dir, \u001b[33m'\u001b[39;49;00m\u001b[33mword_dict.pkl\u001b[39;49;00m\u001b[33m'\u001b[39;49;00m)\n",
      "    \u001b[34mwith\u001b[39;49;00m \u001b[36mopen\u001b[39;49;00m(word_dict_path, \u001b[33m'\u001b[39;49;00m\u001b[33mrb\u001b[39;49;00m\u001b[33m'\u001b[39;49;00m) \u001b[34mas\u001b[39;49;00m f:\n",
      "        model.word_dict = pickle.load(f)\n",
      "\n",
      "    model.to(device).eval()\n",
      "\n",
      "    \u001b[36mprint\u001b[39;49;00m(\u001b[33m\"\u001b[39;49;00m\u001b[33mDone loading model.\u001b[39;49;00m\u001b[33m\"\u001b[39;49;00m)\n",
      "    \u001b[34mreturn\u001b[39;49;00m model\n",
      "\n",
      "\u001b[34mdef\u001b[39;49;00m \u001b[32minput_fn\u001b[39;49;00m(serialized_input_data, content_type):\n",
      "    \u001b[36mprint\u001b[39;49;00m(\u001b[33m'\u001b[39;49;00m\u001b[33mDeserializing the input data.\u001b[39;49;00m\u001b[33m'\u001b[39;49;00m)\n",
      "    \u001b[34mif\u001b[39;49;00m content_type == \u001b[33m'\u001b[39;49;00m\u001b[33mtext/plain\u001b[39;49;00m\u001b[33m'\u001b[39;49;00m:\n",
      "        data = serialized_input_data.decode(\u001b[33m'\u001b[39;49;00m\u001b[33mutf-8\u001b[39;49;00m\u001b[33m'\u001b[39;49;00m)\n",
      "        \u001b[34mreturn\u001b[39;49;00m data\n",
      "    \u001b[34mraise\u001b[39;49;00m \u001b[36mException\u001b[39;49;00m(\u001b[33m'\u001b[39;49;00m\u001b[33mRequested unsupported ContentType in content_type: \u001b[39;49;00m\u001b[33m'\u001b[39;49;00m + content_type)\n",
      "\n",
      "\u001b[34mdef\u001b[39;49;00m \u001b[32moutput_fn\u001b[39;49;00m(prediction_output, accept):\n",
      "    \u001b[36mprint\u001b[39;49;00m(\u001b[33m'\u001b[39;49;00m\u001b[33mSerializing the generated output.\u001b[39;49;00m\u001b[33m'\u001b[39;49;00m)\n",
      "    \u001b[34mreturn\u001b[39;49;00m \u001b[36mstr\u001b[39;49;00m(prediction_output)\n",
      "\n",
      "\u001b[34mdef\u001b[39;49;00m \u001b[32mpredict_fn\u001b[39;49;00m(input_data, model):\n",
      "    \u001b[36mprint\u001b[39;49;00m(\u001b[33m'\u001b[39;49;00m\u001b[33mInferring sentiment of input data.\u001b[39;49;00m\u001b[33m'\u001b[39;49;00m)\n",
      "\n",
      "    device = torch.device(\u001b[33m\"\u001b[39;49;00m\u001b[33mcuda\u001b[39;49;00m\u001b[33m\"\u001b[39;49;00m \u001b[34mif\u001b[39;49;00m torch.cuda.is_available() \u001b[34melse\u001b[39;49;00m \u001b[33m\"\u001b[39;49;00m\u001b[33mcpu\u001b[39;49;00m\u001b[33m\"\u001b[39;49;00m)\n",
      "    \n",
      "    \u001b[34mif\u001b[39;49;00m model.word_dict \u001b[35mis\u001b[39;49;00m \u001b[34mNone\u001b[39;49;00m:\n",
      "        \u001b[34mraise\u001b[39;49;00m \u001b[36mException\u001b[39;49;00m(\u001b[33m'\u001b[39;49;00m\u001b[33mModel has not been loaded properly, no word_dict.\u001b[39;49;00m\u001b[33m'\u001b[39;49;00m)\n",
      "    \n",
      "    \u001b[37m# TODO: Process input_data so that it is ready to be sent to our model.\u001b[39;49;00m\n",
      "    \u001b[37m#       You should produce two variables:\u001b[39;49;00m\n",
      "    \u001b[37m#         data_X   - A sequence of length 500 which represents the converted review\u001b[39;49;00m\n",
      "    \u001b[37m#         data_len - The length of the review\u001b[39;49;00m\n",
      "\n",
      "    data_X = \u001b[34mNone\u001b[39;49;00m\n",
      "    data_len = \u001b[34mNone\u001b[39;49;00m\n",
      "\n",
      "    \u001b[37m# Using data_X and data_len we construct an appropriate input tensor. Remember\u001b[39;49;00m\n",
      "    \u001b[37m# that our model expects input data of the form 'len, review[500]'.\u001b[39;49;00m\n",
      "    data_pack = np.hstack((data_len, data_X))\n",
      "    data_pack = data_pack.reshape(\u001b[34m1\u001b[39;49;00m, -\u001b[34m1\u001b[39;49;00m)\n",
      "    \n",
      "    data = torch.from_numpy(data_pack)\n",
      "    data = data.to(device)\n",
      "\n",
      "    \u001b[37m# Make sure to put the model into evaluation mode\u001b[39;49;00m\n",
      "    model.eval()\n",
      "\n",
      "    \u001b[37m# TODO: Compute the result of applying the model to the input data. The variable `result` should\u001b[39;49;00m\n",
      "    \u001b[37m#       be a numpy array which contains a single integer which is either 1 or 0\u001b[39;49;00m\n",
      "\n",
      "    result = \u001b[34mNone\u001b[39;49;00m\n",
      "\n",
      "    \u001b[34mreturn\u001b[39;49;00m result\n"
     ]
    }
   ],
   "source": [
    "!pygmentize serve/predict.py"
   ]
  },
  {
   "cell_type": "markdown",
   "metadata": {},
   "source": [
    "As mentioned earlier, the `model_fn` method is the same as the one provided in the training code and the `input_fn` and `output_fn` methods are very simple and your task will be to complete the `predict_fn` method. Make sure that you save the completed file as `predict.py` in the `serve` directory.\n",
    "\n",
    "**TODO**: Complete the `predict_fn()` method in the `serve/predict.py` file."
   ]
  },
  {
   "cell_type": "markdown",
   "metadata": {},
   "source": [
    "### Deploying the model\n",
    "\n",
    "Now that the custom inference code has been written, we will create and deploy our model. To begin with, we need to construct a new PyTorchModel object which points to the model artifacts created during training and also points to the inference code that we wish to use. Then we can call the deploy method to launch the deployment container.\n",
    "\n",
    "**NOTE**: The default behaviour for a deployed PyTorch model is to assume that any input passed to the predictor is a `numpy` array. In our case we want to send a string so we need to construct a simple wrapper around the `RealTimePredictor` class to accomodate simple strings. In a more complicated situation you may want to provide a serialization object, for example if you wanted to sent image data."
   ]
  },
  {
   "cell_type": "code",
   "execution_count": 6,
   "metadata": {},
   "outputs": [
    {
     "name": "stdout",
     "output_type": "stream",
     "text": [
      "s3://sagemaker-ap-southeast-1-691272828109/sagemaker-pytorch-2020-12-01-14-35-26-095/output/model.tar.gz\n",
      "arn:aws:iam::691272828109:role/service-role/AmazonSageMaker-ExecutionRole-20201128T160485\n"
     ]
    }
   ],
   "source": [
    "try:\n",
    "    model_data = estimator.model_data\n",
    "except NameError:\n",
    "    model_data = 's3://sagemaker-ap-southeast-1-691272828109/sagemaker-pytorch-2020-12-01-14-35-26-095/output/model.tar.gz'\n",
    "\n",
    "print(model_data)\n",
    "print(role)"
   ]
  },
  {
   "cell_type": "code",
   "execution_count": null,
   "metadata": {},
   "outputs": [
    {
     "name": "stdout",
     "output_type": "stream",
     "text": [
      "-"
     ]
    }
   ],
   "source": [
    "from sagemaker.predictor import Predictor\n",
    "from sagemaker.pytorch import PyTorchModel\n",
    "from sagemaker.serializers import IdentitySerializer\n",
    "\n",
    "model = PyTorchModel(model_data=model_data,\n",
    "                     role = role,\n",
    "                     framework_version='0.4.0',\n",
    "                     entry_point='predict.py',\n",
    "                     py_version='py3',\n",
    "                     source_dir='serve',\n",
    "                     predictor_cls=Predictor)\n",
    "predictor = model.deploy(initial_instance_count=1, instance_type='ml.m4.xlarge', serializer=IdentitySerializer(content_type='text/plain'))"
   ]
  },
  {
   "cell_type": "markdown",
   "metadata": {},
   "source": [
    "### Testing the model\n",
    "\n",
    "Now that we have deployed our model with the custom inference code, we should test to see if everything is working. Here we test our model by loading the first `250` positive and negative reviews and send them to the endpoint, then collect the results. The reason for only sending some of the data is that the amount of time it takes for our model to process the input and then perform inference is quite long and so testing the entire data set would be prohibitive."
   ]
  },
  {
   "cell_type": "code",
   "execution_count": 34,
   "metadata": {},
   "outputs": [],
   "source": [
    "import glob\n",
    "\n",
    "def test_reviews(data_dir='../data/aclImdb', stop=250):\n",
    "    \n",
    "    results = []\n",
    "    ground = []\n",
    "    \n",
    "    # We make sure to test both positive and negative reviews    \n",
    "    for sentiment in ['pos', 'neg']:\n",
    "        \n",
    "        path = os.path.join(data_dir, 'test', sentiment, '*.txt')\n",
    "        files = glob.glob(path)\n",
    "        \n",
    "        files_read = 0\n",
    "        \n",
    "        print('Starting ', sentiment, ' files')\n",
    "        \n",
    "        # Iterate through the files and send them to the predictor\n",
    "        for f in files:\n",
    "            with open(f) as review:\n",
    "                # First, we store the ground truth (was the review positive or negative)\n",
    "                if sentiment == 'pos':\n",
    "                    ground.append(1)\n",
    "                else:\n",
    "                    ground.append(0)\n",
    "                # Read in the review and convert to 'utf-8' for transmission via HTTP\n",
    "                review_input = review.read().encode('utf-8')\n",
    "                # Send the review to the predictor and store the results\n",
    "                results.append(float(predictor.predict(review_input)))\n",
    "                \n",
    "            # Sending reviews to our endpoint one at a time takes a while so we\n",
    "            # only send a small number of reviews\n",
    "            files_read += 1\n",
    "            if files_read == stop:\n",
    "                break\n",
    "            \n",
    "    return ground, results"
   ]
  },
  {
   "cell_type": "code",
   "execution_count": 35,
   "metadata": {},
   "outputs": [
    {
     "name": "stdout",
     "output_type": "stream",
     "text": [
      "Starting  pos  files\n",
      "Starting  neg  files\n"
     ]
    }
   ],
   "source": [
    "ground, results = test_reviews()"
   ]
  },
  {
   "cell_type": "code",
   "execution_count": 36,
   "metadata": {},
   "outputs": [
    {
     "data": {
      "text/plain": [
       "0.864"
      ]
     },
     "execution_count": 36,
     "metadata": {},
     "output_type": "execute_result"
    }
   ],
   "source": [
    "from sklearn.metrics import accuracy_score\n",
    "accuracy_score(ground, results)"
   ]
  },
  {
   "cell_type": "markdown",
   "metadata": {},
   "source": [
    "As an additional test, we can try sending the `test_review` that we looked at earlier."
   ]
  },
  {
   "cell_type": "code",
   "execution_count": null,
   "metadata": {},
   "outputs": [],
   "source": [
    "predictor.predict(test_review)"
   ]
  },
  {
   "cell_type": "code",
   "execution_count": null,
   "metadata": {},
   "outputs": [],
   "source": [
    "predictor.delete_endpoint()"
   ]
  },
  {
   "cell_type": "markdown",
   "metadata": {},
   "source": [
    "Now that we know our endpoint is working as expected, we can set up the web page that will interact with it. If you don't have time to finish the project now, make sure to skip down to the end of this notebook and shut down your endpoint. You can deploy it again when you come back."
   ]
  },
  {
   "cell_type": "markdown",
   "metadata": {},
   "source": [
    "## Step 7 (again): Use the model for the web app\n",
    "\n",
    "> **TODO:** This entire section and the next contain tasks for you to complete, mostly using the AWS console.\n",
    "\n",
    "So far we have been accessing our model endpoint by constructing a predictor object which uses the endpoint and then just using the predictor object to perform inference. What if we wanted to create a web app which accessed our model? The way things are set up currently makes that not possible since in order to access a SageMaker endpoint the app would first have to authenticate with AWS using an IAM role which included access to SageMaker endpoints. However, there is an easier way! We just need to use some additional AWS services.\n",
    "\n",
    "<img src=\"Web App Diagram.svg\">\n",
    "\n",
    "The diagram above gives an overview of how the various services will work together. On the far right is the model which we trained above and which is deployed using SageMaker. On the far left is our web app that collects a user's movie review, sends it off and expects a positive or negative sentiment in return.\n",
    "\n",
    "In the middle is where some of the magic happens. We will construct a Lambda function, which you can think of as a straightforward Python function that can be executed whenever a specified event occurs. We will give this function permission to send and recieve data from a SageMaker endpoint.\n",
    "\n",
    "Lastly, the method we will use to execute the Lambda function is a new endpoint that we will create using API Gateway. This endpoint will be a url that listens for data to be sent to it. Once it gets some data it will pass that data on to the Lambda function and then return whatever the Lambda function returns. Essentially it will act as an interface that lets our web app communicate with the Lambda function.\n",
    "\n",
    "### Setting up a Lambda function\n",
    "\n",
    "The first thing we are going to do is set up a Lambda function. This Lambda function will be executed whenever our public API has data sent to it. When it is executed it will receive the data, perform any sort of processing that is required, send the data (the review) to the SageMaker endpoint we've created and then return the result.\n",
    "\n",
    "#### Part A: Create an IAM Role for the Lambda function\n",
    "\n",
    "Since we want the Lambda function to call a SageMaker endpoint, we need to make sure that it has permission to do so. To do this, we will construct a role that we can later give the Lambda function.\n",
    "\n",
    "Using the AWS Console, navigate to the **IAM** page and click on **Roles**. Then, click on **Create role**. Make sure that the **AWS service** is the type of trusted entity selected and choose **Lambda** as the service that will use this role, then click **Next: Permissions**.\n",
    "\n",
    "In the search box type `sagemaker` and select the check box next to the **AmazonSageMakerFullAccess** policy. Then, click on **Next: Review**.\n",
    "\n",
    "Lastly, give this role a name. Make sure you use a name that you will remember later on, for example `LambdaSageMakerRole`. Then, click on **Create role**.\n",
    "\n",
    "#### Part B: Create a Lambda function\n",
    "\n",
    "Now it is time to actually create the Lambda function.\n",
    "\n",
    "Using the AWS Console, navigate to the AWS Lambda page and click on **Create a function**. When you get to the next page, make sure that **Author from scratch** is selected. Now, name your Lambda function, using a name that you will remember later on, for example `sentiment_analysis_func`. Make sure that the **Python 3.6** runtime is selected and then choose the role that you created in the previous part. Then, click on **Create Function**.\n",
    "\n",
    "On the next page you will see some information about the Lambda function you've just created. If you scroll down you should see an editor in which you can write the code that will be executed when your Lambda function is triggered. In our example, we will use the code below. \n",
    "\n",
    "```python\n",
    "# We need to use the low-level library to interact with SageMaker since the SageMaker API\n",
    "# is not available natively through Lambda.\n",
    "import boto3\n",
    "\n",
    "def lambda_handler(event, context):\n",
    "\n",
    "    # The SageMaker runtime is what allows us to invoke the endpoint that we've created.\n",
    "    runtime = boto3.Session().client('sagemaker-runtime')\n",
    "\n",
    "    # Now we use the SageMaker runtime to invoke our endpoint, sending the review we were given\n",
    "    response = runtime.invoke_endpoint(EndpointName = '**ENDPOINT NAME HERE**',    # The name of the endpoint we created\n",
    "                                       ContentType = 'text/plain',                 # The data format that is expected\n",
    "                                       Body = event['body'])                       # The actual review\n",
    "\n",
    "    # The response is an HTTP response whose body contains the result of our inference\n",
    "    result = response['Body'].read().decode('utf-8')\n",
    "\n",
    "    return {\n",
    "        'statusCode' : 200,\n",
    "        'headers' : { 'Content-Type' : 'text/plain', 'Access-Control-Allow-Origin' : '*' },\n",
    "        'body' : result\n",
    "    }\n",
    "```\n",
    "\n",
    "Once you have copy and pasted the code above into the Lambda code editor, replace the `**ENDPOINT NAME HERE**` portion with the name of the endpoint that we deployed earlier. You can determine the name of the endpoint using the code cell below."
   ]
  },
  {
   "cell_type": "code",
   "execution_count": null,
   "metadata": {},
   "outputs": [],
   "source": [
    "predictor.endpoint"
   ]
  },
  {
   "cell_type": "markdown",
   "metadata": {},
   "source": [
    "Once you have added the endpoint name to the Lambda function, click on **Save**. Your Lambda function is now up and running. Next we need to create a way for our web app to execute the Lambda function.\n",
    "\n",
    "### Setting up API Gateway\n",
    "\n",
    "Now that our Lambda function is set up, it is time to create a new API using API Gateway that will trigger the Lambda function we have just created.\n",
    "\n",
    "Using AWS Console, navigate to **Amazon API Gateway** and then click on **Get started**.\n",
    "\n",
    "On the next page, make sure that **New API** is selected and give the new api a name, for example, `sentiment_analysis_api`. Then, click on **Create API**.\n",
    "\n",
    "Now we have created an API, however it doesn't currently do anything. What we want it to do is to trigger the Lambda function that we created earlier.\n",
    "\n",
    "Select the **Actions** dropdown menu and click **Create Method**. A new blank method will be created, select its dropdown menu and select **POST**, then click on the check mark beside it.\n",
    "\n",
    "For the integration point, make sure that **Lambda Function** is selected and click on the **Use Lambda Proxy integration**. This option makes sure that the data that is sent to the API is then sent directly to the Lambda function with no processing. It also means that the return value must be a proper response object as it will also not be processed by API Gateway.\n",
    "\n",
    "Type the name of the Lambda function you created earlier into the **Lambda Function** text entry box and then click on **Save**. Click on **OK** in the pop-up box that then appears, giving permission to API Gateway to invoke the Lambda function you created.\n",
    "\n",
    "The last step in creating the API Gateway is to select the **Actions** dropdown and click on **Deploy API**. You will need to create a new Deployment stage and name it anything you like, for example `prod`.\n",
    "\n",
    "You have now successfully set up a public API to access your SageMaker model. Make sure to copy or write down the URL provided to invoke your newly created public API as this will be needed in the next step. This URL can be found at the top of the page, highlighted in blue next to the text **Invoke URL**."
   ]
  },
  {
   "cell_type": "markdown",
   "metadata": {},
   "source": [
    "## Step 4: Deploying our web app\n",
    "\n",
    "Now that we have a publicly available API, we can start using it in a web app. For our purposes, we have provided a simple static html file which can make use of the public api you created earlier.\n",
    "\n",
    "In the `website` folder there should be a file called `index.html`. Download the file to your computer and open that file up in a text editor of your choice. There should be a line which contains **\\*\\*REPLACE WITH PUBLIC API URL\\*\\***. Replace this string with the url that you wrote down in the last step and then save the file.\n",
    "\n",
    "Now, if you open `index.html` on your local computer, your browser will behave as a local web server and you can use the provided site to interact with your SageMaker model.\n",
    "\n",
    "If you'd like to go further, you can host this html file anywhere you'd like, for example using github or hosting a static site on Amazon's S3. Once you have done this you can share the link with anyone you'd like and have them play with it too!\n",
    "\n",
    "> **Important Note** In order for the web app to communicate with the SageMaker endpoint, the endpoint has to actually be deployed and running. This means that you are paying for it. Make sure that the endpoint is running when you want to use the web app but that you shut it down when you don't need it, otherwise you will end up with a surprisingly large AWS bill.\n",
    "\n",
    "**TODO:** Make sure that you include the edited `index.html` file in your project submission."
   ]
  },
  {
   "cell_type": "markdown",
   "metadata": {},
   "source": [
    "Now that your web app is working, trying playing around with it and see how well it works.\n",
    "\n",
    "**Question**: Give an example of a review that you entered into your web app. What was the predicted sentiment of your example review?"
   ]
  },
  {
   "cell_type": "markdown",
   "metadata": {},
   "source": [
    "**Answer:**"
   ]
  },
  {
   "cell_type": "markdown",
   "metadata": {},
   "source": [
    "### Delete the endpoint\n",
    "\n",
    "Remember to always shut down your endpoint if you are no longer using it. You are charged for the length of time that the endpoint is running so if you forget and leave it on you could end up with an unexpectedly large bill."
   ]
  },
  {
   "cell_type": "code",
   "execution_count": null,
   "metadata": {},
   "outputs": [],
   "source": [
    "predictor.delete_endpoint()"
   ]
  },
  {
   "cell_type": "code",
   "execution_count": null,
   "metadata": {},
   "outputs": [],
   "source": []
  }
 ],
 "metadata": {
  "kernelspec": {
   "display_name": "conda_pytorch_p36",
   "language": "python",
   "name": "conda_pytorch_p36"
  },
  "language_info": {
   "codemirror_mode": {
    "name": "ipython",
    "version": 3
   },
   "file_extension": ".py",
   "mimetype": "text/x-python",
   "name": "python",
   "nbconvert_exporter": "python",
   "pygments_lexer": "ipython3",
   "version": "3.6.10"
  }
 },
 "nbformat": 4,
 "nbformat_minor": 4
}
